{
 "cells": [
  {
   "cell_type": "markdown",
   "metadata": {},
   "source": [
    "# Problem 1"
   ]
  },
  {
   "cell_type": "code",
   "execution_count": 6,
   "metadata": {},
   "outputs": [],
   "source": [
    "import numpy as np\n",
    "import matplotlib.pyplot as plt\n",
    "#import cvxpy as cv"
   ]
  },
  {
   "cell_type": "code",
   "execution_count": 7,
   "metadata": {},
   "outputs": [
    {
     "data": {
      "text/plain": [
       "((200, 4), (200,))"
      ]
     },
     "execution_count": 7,
     "metadata": {},
     "output_type": "execute_result"
    }
   ],
   "source": [
    "n = 200\n",
    "x_d4 = 3 * (np.random.rand(n, 4) - 0.5)\n",
    "y_d4 = (2 * x_d4[:, 0] - 1 * x_d4[:,1] + 0.5 + 0.5 * np.random.randn(n)) > 0\n",
    "y_d4 = 2 * y_d4 -1\n",
    "\n",
    "np.shape(x_d4), np.shape(y_d4)"
   ]
  },
  {
   "cell_type": "code",
   "execution_count": 8,
   "metadata": {},
   "outputs": [],
   "source": [
    "def function(x):\n",
    "    temp = np.dot(w,x)\n",
    "    if temp > 0:\n",
    "        temp = 1\n",
    "    else:\n",
    "        temp = 0\n",
    "    return 2 *temp - 1"
   ]
  },
  {
   "cell_type": "code",
   "execution_count": 9,
   "metadata": {},
   "outputs": [],
   "source": [
    "def sigmoid(z):\n",
    "    return 1/(1 + np.exp(-z))"
   ]
  },
  {
   "cell_type": "code",
   "execution_count": 10,
   "metadata": {},
   "outputs": [],
   "source": [
    "def gradient(x, y, w):\n",
    "    grad = np.zeros(len(x))\n",
    "    for x,y in zip(x_d4,y_d4):\n",
    "        grad += -np.dot(x,y) * (1 - sigmoid(np.dot(np.dot(y, w), x)))\n",
    "        grad += 2 * lamb * w\n",
    "    return -grad"
   ]
  },
  {
   "cell_type": "markdown",
   "metadata": {},
   "source": [
    "## Q1:  Implement batch steepest gradient method"
   ]
  },
  {
   "cell_type": "code",
   "execution_count": 11,
   "metadata": {},
   "outputs": [
    {
     "name": "stdout",
     "output_type": "stream",
     "text": [
      "#0: accuracy: 0.93\n",
      "w:  [ 0.56944813 -0.19651389  0.07515859 -0.09472275]\n",
      "#1: accuracy: 0.935\n",
      "w:  [ 0.9680572  -0.33579348  0.11431128 -0.14900636]\n",
      "#2: accuracy: 0.94\n",
      "w:  [ 1.26775266 -0.44472016  0.13642303 -0.18375793]\n",
      "#3: accuracy: 0.94\n",
      "w:  [ 1.50582934 -0.53570129  0.15002397 -0.20817503]\n",
      "#4: accuracy: 0.935\n",
      "w:  [ 1.7024532  -0.61473776  0.15908308 -0.22653616]\n",
      "#5: accuracy: 0.935\n",
      "w:  [ 1.86945157 -0.68507101  0.16559724 -0.24104814]\n",
      "#6: accuracy: 0.935\n",
      "w:  [ 2.01427485 -0.74864354  0.17064033 -0.2529576 ]\n",
      "#7: accuracy: 0.935\n",
      "w:  [ 2.14189341 -0.80672426  0.17481917 -0.26302192]\n",
      "#8: accuracy: 0.935\n",
      "w:  [ 2.25577867 -0.86020111  0.17848866 -0.27172848]\n",
      "#9: accuracy: 0.935\n",
      "w:  [ 2.35844671 -0.90972998  0.18186096 -0.27940547]\n",
      "#10: accuracy: 0.935\n",
      "w:  [ 2.45177758 -0.9558161   0.18506417 -0.28628211]\n",
      "#11: accuracy: 0.935\n",
      "w:  [ 2.53721228 -0.99886161  0.18817554 -0.29252323]\n",
      "#12: accuracy: 0.935\n",
      "w:  [ 2.61587925 -1.03919487  0.19124085 -0.29825028]\n",
      "#13: accuracy: 0.94\n",
      "w:  [ 2.68867871 -1.07708943  0.19428623 -0.30355454]\n",
      "#14: accuracy: 0.935\n",
      "w:  [ 2.7563403  -1.11277688  0.19732541 -0.30850577]\n",
      "#15: accuracy: 0.935\n",
      "w:  [ 2.81946378 -1.14645586  0.20036434 -0.31315809]\n",
      "#16: accuracy: 0.935\n",
      "w:  [ 2.87854823 -1.17829857  0.20340413 -0.31755399]\n",
      "#17: accuracy: 0.935\n",
      "w:  [ 2.93401355 -1.20845561  0.20644295 -0.32172722]\n",
      "#18: accuracy: 0.935\n",
      "w:  [ 2.98621647 -1.23705972  0.2094773  -0.32570486]\n",
      "#19: accuracy: 0.935\n",
      "w:  [ 3.03546273 -1.2642286   0.21250277 -0.32950885]\n",
      "#20: accuracy: 0.935\n",
      "w:  [ 3.08201651 -1.29006728  0.21551462 -0.33315711]\n",
      "#21: accuracy: 0.935\n",
      "w:  [ 3.12610764 -1.31466988  0.21850808 -0.33666439]\n",
      "#22: accuracy: 0.935\n",
      "w:  [ 3.16793749 -1.33812114  0.22147855 -0.34004298]\n",
      "#23: accuracy: 0.935\n",
      "w:  [ 3.20768345 -1.36049769  0.22442174 -0.34330314]\n",
      "#24: accuracy: 0.935\n",
      "w:  [ 3.24550276 -1.381869    0.22733374 -0.34645356]\n",
      "#25: accuracy: 0.93\n",
      "w:  [ 3.2815354  -1.40229833  0.23021104 -0.34950163]\n",
      "#26: accuracy: 0.93\n",
      "w:  [ 3.31590665 -1.42184342  0.23305055 -0.35245367]\n",
      "#27: accuracy: 0.93\n",
      "w:  [ 3.34872909 -1.44055712  0.23584957 -0.35531519]\n",
      "#28: accuracy: 0.93\n",
      "w:  [ 3.38010429 -1.45848794  0.23860579 -0.35809097]\n",
      "#29: accuracy: 0.93\n",
      "w:  [ 3.41012424 -1.4756805   0.24131727 -0.36078521]\n",
      "#30: accuracy: 0.93\n",
      "w:  [ 3.43887253 -1.49217595  0.24398238 -0.36340166]\n",
      "#31: accuracy: 0.935\n",
      "w:  [ 3.46642539 -1.50801231  0.2465998  -0.36594366]\n",
      "#32: accuracy: 0.935\n",
      "w:  [ 3.49285251 -1.52322478  0.24916851 -0.36841421]\n",
      "#33: accuracy: 0.935\n",
      "w:  [ 3.51821782 -1.537846    0.25168771 -0.37081606]\n",
      "#34: accuracy: 0.935\n",
      "w:  [ 3.54258012 -1.55190632  0.25415683 -0.3731517 ]\n",
      "#35: accuracy: 0.94\n",
      "w:  [ 3.56599359 -1.56543398  0.25657552 -0.37542343]\n",
      "#36: accuracy: 0.94\n",
      "w:  [ 3.58850831 -1.5784553   0.25894358 -0.3776334 ]\n",
      "#37: accuracy: 0.94\n",
      "w:  [ 3.61017066 -1.59099486  0.26126099 -0.37978359]\n",
      "#38: accuracy: 0.94\n",
      "w:  [ 3.63102367 -1.60307566  0.26352784 -0.38187589]\n",
      "#39: accuracy: 0.94\n",
      "w:  [ 3.65110738 -1.61471922  0.26574437 -0.38391203]\n",
      "#40: accuracy: 0.94\n",
      "w:  [ 3.67045906 -1.62594573  0.26791092 -0.38589371]\n",
      "#41: accuracy: 0.94\n",
      "w:  [ 3.68911351 -1.63677412  0.2700279  -0.38782249]\n",
      "#42: accuracy: 0.94\n",
      "w:  [ 3.70710326 -1.64722222  0.27209583 -0.3896999 ]\n",
      "#43: accuracy: 0.94\n",
      "w:  [ 3.72445878 -1.65730679  0.27411528 -0.39152738]\n",
      "#44: accuracy: 0.94\n",
      "w:  [ 3.74120862 -1.66704361  0.27608688 -0.39330632]\n",
      "#45: accuracy: 0.94\n",
      "w:  [ 3.75737961 -1.6764476   0.27801132 -0.39503806]\n",
      "#46: accuracy: 0.94\n",
      "w:  [ 3.77299697 -1.6855328   0.27988932 -0.39672388]\n",
      "#47: accuracy: 0.94\n",
      "w:  [ 3.78808447 -1.6943125   0.28172165 -0.39836504]\n",
      "#48: accuracy: 0.94\n",
      "w:  [ 3.80266448 -1.7027993   0.28350908 -0.39996272]\n",
      "#49: accuracy: 0.94\n",
      "w:  [ 3.81675815 -1.71100508  0.28525243 -0.4015181 ]\n"
     ]
    }
   ],
   "source": [
    "w = np.zeros(len(x_d4[0]))\n",
    "alpha = 0.00005\n",
    "lamb = 0.002\n",
    "loss = []\n",
    "\n",
    "for iteration in range(0,50):\n",
    "    correct_num = 0\n",
    "    for x,y in zip(x_d4,y_d4):\n",
    "        grad = gradient(x, y, w)\n",
    "        #print(grad)\n",
    "        error = y - function(x)\n",
    "        #print(error)\n",
    "        if error == 0:\n",
    "            correct_num += 1\n",
    "        w = w + alpha * grad\n",
    "        \n",
    "    print('#{}: accuracy: {}'.format(iteration, correct_num / len(x_d4)))\n",
    "    print('w: ',w)\n",
    "    temp=0\n",
    "    for x,y in zip(x_d4,y_d4):\n",
    "        temp += np.log(1 / sigmoid(np.dot(np.dot(y,w), x))) + lamb * np.dot(w,w)\n",
    "    loss.append(temp)"
   ]
  },
  {
   "cell_type": "markdown",
   "metadata": {},
   "source": [
    "## Q2:  Implement Newton based method"
   ]
  },
  {
   "cell_type": "code",
   "execution_count": 12,
   "metadata": {},
   "outputs": [],
   "source": [
    "def hess(x, y, w):\n",
    "    hess_matrix = np.zeros((len(x_d4[0]),len(x_d4[0])))\n",
    "    I_matrix = np.ones((len(x_d4[0]),len(x_d4[0])))\n",
    "    for x,y in zip(x_d4, y_d4):\n",
    "        z = np.dot(np.dot(y,w), x)\n",
    "        i = np.reshape(x, (1,4))\n",
    "        j = np.reshape(x, (4,1))\n",
    "        hess_matrix += (sigmoid(z) - sigmoid(z) ** 2) * np.dot(j,i)\n",
    "        hess_matrix += 2 * lamb * I_matrix\n",
    "        return hess_matrix"
   ]
  },
  {
   "cell_type": "code",
   "execution_count": 13,
   "metadata": {},
   "outputs": [
    {
     "name": "stdout",
     "output_type": "stream",
     "text": [
      "#0: accuracy: 0.935\n",
      "w:  [ 0.59275575 -0.20897083  0.01774667 -0.04750657]\n",
      "#1: accuracy: 0.935\n",
      "w:  [ 1.09256938 -0.40340893  0.03604495 -0.08873246]\n",
      "#2: accuracy: 0.935\n",
      "w:  [ 1.55967787 -0.60469964  0.05877052 -0.12894714]\n",
      "#3: accuracy: 0.935\n",
      "w:  [ 2.0107322  -0.81458305  0.08793273 -0.17063096]\n",
      "#4: accuracy: 0.935\n",
      "w:  [ 2.44287512 -1.02630124  0.12348285 -0.21466128]\n",
      "#5: accuracy: 0.935\n",
      "w:  [ 2.84242727 -1.22852556  0.16304736 -0.25981434]\n",
      "#6: accuracy: 0.935\n",
      "w:  [ 3.1929597  -1.40944939  0.20273964 -0.30319062]\n",
      "#7: accuracy: 0.94\n",
      "w:  [ 3.48315238 -1.56093462  0.23879976 -0.34171847]\n",
      "#8: accuracy: 0.94\n",
      "w:  [ 3.71076349 -1.68050671  0.2689102  -0.37351096]\n",
      "#9: accuracy: 0.94\n",
      "w:  [ 3.881497   -1.77051258  0.29245288 -0.39821179]\n",
      "#10: accuracy: 0.94\n",
      "w:  [ 4.00528059 -1.83589335  0.30999411 -0.41655187]\n",
      "#11: accuracy: 0.94\n",
      "w:  [ 4.09283948 -1.88219048  0.32262698 -0.42973394]\n",
      "#12: accuracy: 0.94\n",
      "w:  [ 4.15371196 -1.91439689  0.33151432 -0.43899688]\n",
      "#13: accuracy: 0.94\n",
      "w:  [ 4.19552988 -1.93652995  0.33766781 -0.44540592]\n",
      "#14: accuracy: 0.94\n",
      "w:  [ 4.22402521 -1.95161506  0.3418828  -0.44979404]\n",
      "#15: accuracy: 0.945\n",
      "w:  [ 4.24333574 -1.96183924  0.34474911 -0.45277726]\n",
      "#16: accuracy: 0.945\n",
      "w:  [ 4.25637349 -1.96874282  0.34668881 -0.45479572]\n",
      "#17: accuracy: 0.945\n",
      "w:  [ 4.26515411 -1.97339248  0.34799718 -0.45615706]\n",
      "#18: accuracy: 0.945\n",
      "w:  [ 4.27105774 -1.97651879  0.34887777 -0.45707322]\n",
      "#19: accuracy: 0.945\n",
      "w:  [ 4.27502256 -1.97861844  0.34946957 -0.4576889 ]\n",
      "#20: accuracy: 0.945\n",
      "w:  [ 4.27768328 -1.98002749  0.3498669  -0.45810225]\n",
      "#21: accuracy: 0.945\n",
      "w:  [ 4.27946794 -1.98097262  0.3501335  -0.45837959]\n",
      "#22: accuracy: 0.945\n",
      "w:  [ 4.28066458 -1.98160635  0.35031229 -0.45856558]\n",
      "#23: accuracy: 0.945\n",
      "w:  [ 4.28146676 -1.98203117  0.35043216 -0.45869027]\n",
      "#24: accuracy: 0.945\n",
      "w:  [ 4.28200443 -1.98231592  0.35051251 -0.45877386]\n",
      "#25: accuracy: 0.945\n",
      "w:  [ 4.28236477 -1.98250675  0.35056636 -0.45882988]\n",
      "#26: accuracy: 0.945\n",
      "w:  [ 4.28260626 -1.98263464  0.35060245 -0.45886743]\n",
      "#27: accuracy: 0.945\n",
      "w:  [ 4.28276808 -1.98272034  0.35062664 -0.45889259]\n",
      "#28: accuracy: 0.945\n",
      "w:  [ 4.28287651 -1.98277776  0.35064285 -0.45890945]\n",
      "#29: accuracy: 0.945\n",
      "w:  [ 4.28294917 -1.98281624  0.35065371 -0.45892074]\n",
      "#30: accuracy: 0.945\n",
      "w:  [ 4.28299786 -1.98284203  0.35066099 -0.45892831]\n",
      "#31: accuracy: 0.945\n",
      "w:  [ 4.28303048 -1.98285931  0.35066586 -0.45893339]\n",
      "#32: accuracy: 0.945\n",
      "w:  [ 4.28305234 -1.98287088  0.35066913 -0.45893679]\n",
      "#33: accuracy: 0.945\n",
      "w:  [ 4.28306699 -1.98287864  0.35067132 -0.45893906]\n",
      "#34: accuracy: 0.945\n",
      "w:  [ 4.2830768  -1.98288384  0.35067279 -0.45894059]\n",
      "#35: accuracy: 0.945\n",
      "w:  [ 4.28308338 -1.98288732  0.35067377 -0.45894161]\n",
      "#36: accuracy: 0.945\n",
      "w:  [ 4.28308778 -1.98288965  0.35067443 -0.4589423 ]\n",
      "#37: accuracy: 0.945\n",
      "w:  [ 4.28309074 -1.98289122  0.35067487 -0.45894276]\n",
      "#38: accuracy: 0.945\n",
      "w:  [ 4.28309272 -1.98289226  0.35067516 -0.45894306]\n",
      "#39: accuracy: 0.945\n",
      "w:  [ 4.28309404 -1.98289297  0.35067536 -0.45894327]\n",
      "#40: accuracy: 0.945\n",
      "w:  [ 4.28309493 -1.98289344  0.35067549 -0.45894341]\n",
      "#41: accuracy: 0.945\n",
      "w:  [ 4.28309552 -1.98289375  0.35067558 -0.4589435 ]\n",
      "#42: accuracy: 0.945\n",
      "w:  [ 4.28309592 -1.98289396  0.35067564 -0.45894356]\n",
      "#43: accuracy: 0.945\n",
      "w:  [ 4.28309619 -1.9828941   0.35067568 -0.4589436 ]\n",
      "#44: accuracy: 0.945\n",
      "w:  [ 4.28309637 -1.9828942   0.35067571 -0.45894363]\n",
      "#45: accuracy: 0.945\n",
      "w:  [ 4.28309649 -1.98289426  0.35067573 -0.45894365]\n",
      "#46: accuracy: 0.945\n",
      "w:  [ 4.28309657 -1.98289431  0.35067574 -0.45894366]\n",
      "#47: accuracy: 0.945\n",
      "w:  [ 4.28309662 -1.98289433  0.35067575 -0.45894367]\n",
      "#48: accuracy: 0.945\n",
      "w:  [ 4.28309666 -1.98289435  0.35067575 -0.45894368]\n",
      "#49: accuracy: 0.945\n",
      "w:  [ 4.28309668 -1.98289437  0.35067576 -0.45894368]\n"
     ]
    }
   ],
   "source": [
    "w = np.zeros(len(x_d4[0]))\n",
    "alpha = 0.002\n",
    "lamb = 0.002\n",
    "loss_new = []\n",
    "\n",
    "for iteration in range(0,50):\n",
    "    correct_num = 0\n",
    "    for x,y in zip(x_d4, y_d4):\n",
    "        if y == function(x):\n",
    "            correct_num += 1\n",
    "        grad = gradient(x, y, w)\n",
    "        hess_matrix = np.zeros((len(x_d4[0]),len(x_d4[0])))\n",
    "        I_matrix = np.identity(len(x_d4[0]))        \n",
    "        for x,y in zip(x_d4, y_d4):\n",
    "            z = np.dot(np.dot(y,w), x)\n",
    "            i = np.reshape(x, (1,4))\n",
    "            j = np.reshape(x, (4,1))\n",
    "            hess_matrix += (sigmoid(z) - sigmoid(z) ** 2) * np.dot(j,i)\n",
    "            hess_matrix += 2 * lamb * I_matrix\n",
    "        w += alpha * np.dot(np.linalg.inv(hess_matrix),grad)\n",
    "    print('#{}: accuracy: {}'.format(iteration, correct_num / len(x_d4)))\n",
    "    print('w: ',w)\n",
    "    temp=0\n",
    "    for x,y in zip(x_d4,y_d4):\n",
    "        temp += np.log(1 / sigmoid(np.dot(np.dot(y,w), x))) + lamb * np.dot(w,w)\n",
    "    loss_new.append(temp)"
   ]
  },
  {
   "cell_type": "markdown",
   "metadata": {},
   "source": [
    "## Q3:  Compare the performance of the above two optimization methods"
   ]
  },
  {
   "cell_type": "markdown",
   "metadata": {},
   "source": [
    "### loss"
   ]
  },
  {
   "cell_type": "code",
   "execution_count": 14,
   "metadata": {},
   "outputs": [
    {
     "data": {
      "text/plain": [
       "(40.563153853321936, 40.13796882451266)"
      ]
     },
     "execution_count": 14,
     "metadata": {},
     "output_type": "execute_result"
    },
    {
     "data": {
      "image/png": "[encoded data removed]",
      "text/plain": [
       "<Figure size 432x288 with 1 Axes>"
      ]
     },
     "metadata": {
      "needs_background": "light"
     },
     "output_type": "display_data"
    }
   ],
   "source": [
    "iteration=[]\n",
    "for i in range(0,50):\n",
    "    iteration.append(i)\n",
    "    \n",
    "plt.semilogy(y)\n",
    "plt.ylim(40, 120)\n",
    "#plt.yscale('log')\n",
    "\n",
    "plt.plot(iteration, loss, label = 'steepest')\n",
    "plt.plot(iteration, loss_new, label ='newton')\n",
    "plt.xlabel('iteration')\n",
    "plt.ylabel('loss')\n",
    "plt.legend()\n",
    "\n",
    "loss[49],loss_new[49]"
   ]
  },
  {
   "cell_type": "markdown",
   "metadata": {},
   "source": [
    "### w(t) - w_hat"
   ]
  },
  {
   "cell_type": "code",
   "execution_count": 57,
   "metadata": {},
   "outputs": [
    {
     "data": {
      "text/plain": [
       "<matplotlib.legend.Legend at 0x25d7e9faf48>"
      ]
     },
     "execution_count": 57,
     "metadata": {},
     "output_type": "execute_result"
    },
    {
     "data": {
      "image/png": "[encoded data removed]",
      "text/plain": [
       "<Figure size 432x288 with 1 Axes>"
      ]
     },
     "metadata": {
      "needs_background": "light"
     },
     "output_type": "display_data"
    }
   ],
   "source": [
    "diff_steepest = [loss[i]-loss_new[49] for i in range(0,50)]\n",
    "diff_newton = [loss_new[i] - loss_new[49] for i in range(0,50)]\n",
    "iteration=[]\n",
    "for i in range(0,40):\n",
    "    iteration.append(i)\n",
    "    \n",
    "plt.semilogy(y)\n",
    "plt.plot(iteration, diff_steepest[:40], label = 'steepest')\n",
    "plt.plot(iteration, diff_newton[:40], label ='newton')\n",
    "plt.xlabel('iteration')\n",
    "plt.ylabel('|w(t) - w_hat|')\n",
    "plt.legend()"
   ]
  },
  {
   "cell_type": "markdown",
   "metadata": {},
   "source": [
    "## Q4:  Implement Newton method and simple steepest gradient method for multiclass version of logistic regression\n"
   ]
  },
  {
   "cell_type": "markdown",
   "metadata": {},
   "source": [
    "#### I did not make it."
   ]
  },
  {
   "cell_type": "code",
   "execution_count": 30,
   "metadata": {},
   "outputs": [],
   "source": [
    "# dataset 5\n",
    "n = 200\n",
    "x_d5 = 3 * (np.random.rand(n, 4) - 0.5)\n",
    "W = np.array([[ 2,  -1, 0.5,],\n",
    "              [-3,   2,   1,],\n",
    "              [ 1,   2,   3]])\n",
    "y_d5 = np.argmax(np.dot(np.hstack([x_d5[:,:2], np.ones((n, 1))]), W.T)\n",
    "                        + 0.5 * np.random.randn(n, 3), axis=1)"
   ]
  },
  {
   "cell_type": "code",
   "execution_count": 146,
   "metadata": {},
   "outputs": [],
   "source": [
    "def gradient(x, y, w):\n",
    "    grad = np.zeros(len(x))\n",
    "    for x,y in zip(x_d5,y_d5):\n",
    "        grad += -np.dot(x,y) * (1 - sigmoid(np.dot(np.dot(y, w), x)))\n",
    "        grad += 2 * lamb * w\n",
    "    return -grad"
   ]
  },
  {
   "cell_type": "code",
   "execution_count": 109,
   "metadata": {},
   "outputs": [
    {
     "data": {
      "text/plain": [
       "array([0., 0., 0., 0.])"
      ]
     },
     "execution_count": 109,
     "metadata": {},
     "output_type": "execute_result"
    }
   ],
   "source": [
    "#訓練データ数\n",
    "N = len(x_d5)\n",
    "#入力次元数\n",
    "M = len(x_d5[0])\n",
    "#クラス数\n",
    "K = len(set(y_d5))\n",
    "w = np.zeros([K, M])"
   ]
  },
  {
   "cell_type": "code",
   "execution_count": 156,
   "metadata": {},
   "outputs": [
    {
     "name": "stdout",
     "output_type": "stream",
     "text": [
      "#0: accuracy: 0.465\n",
      "w:  [[-0.07560991  0.72417019 -0.11017792 -0.17224865]\n",
      " [-0.07560991  0.72417019 -0.11017792 -0.17224865]\n",
      " [-0.07560991  0.72417019 -0.11017792 -0.17224865]]\n",
      "#1: accuracy: 0.49\n",
      "w:  [[-0.07560991  0.72417019 -0.11017792 -0.17224865]\n",
      " [-0.07560991  0.72417019 -0.11017792 -0.17224865]\n",
      " [-0.07560991  0.72417019 -0.11017792 -0.17224865]]\n",
      "#2: accuracy: 0.51\n",
      "w:  [[-0.07560991  0.72417019 -0.11017792 -0.17224865]\n",
      " [-0.07560991  0.72417019 -0.11017792 -0.17224865]\n",
      " [-0.07560991  0.72417019 -0.11017792 -0.17224865]]\n",
      "#3: accuracy: 0.49\n",
      "w:  [[-0.07560991  0.72417019 -0.11017792 -0.17224865]\n",
      " [-0.07560991  0.72417019 -0.11017792 -0.17224865]\n",
      " [-0.07560991  0.72417019 -0.11017792 -0.17224865]]\n",
      "#4: accuracy: 0.49\n",
      "w:  [[-0.07560991  0.72417019 -0.11017792 -0.17224865]\n",
      " [-0.07560991  0.72417019 -0.11017792 -0.17224865]\n",
      " [-0.07560991  0.72417019 -0.11017792 -0.17224865]]\n"
     ]
    },
    {
     "ename": "KeyboardInterrupt",
     "evalue": "",
     "output_type": "error",
     "traceback": [
      "\u001b[1;31m---------------------------------------------------------------------------\u001b[0m",
      "\u001b[1;31mKeyboardInterrupt\u001b[0m                         Traceback (most recent call last)",
      "\u001b[1;32m<ipython-input-156-ff80116e88db>\u001b[0m in \u001b[0;36m<module>\u001b[1;34m\u001b[0m\n\u001b[0;32m      8\u001b[0m     \u001b[1;32mfor\u001b[0m \u001b[0mx\u001b[0m\u001b[1;33m,\u001b[0m\u001b[0my\u001b[0m \u001b[1;32min\u001b[0m \u001b[0mzip\u001b[0m\u001b[1;33m(\u001b[0m\u001b[0mx_d5\u001b[0m\u001b[1;33m,\u001b[0m\u001b[0my_d5\u001b[0m\u001b[1;33m)\u001b[0m\u001b[1;33m:\u001b[0m\u001b[1;33m\u001b[0m\u001b[1;33m\u001b[0m\u001b[0m\n\u001b[0;32m      9\u001b[0m         \u001b[0my_pred\u001b[0m \u001b[1;33m=\u001b[0m \u001b[0mnp\u001b[0m\u001b[1;33m.\u001b[0m\u001b[0margmax\u001b[0m\u001b[1;33m(\u001b[0m\u001b[0msoftmax\u001b[0m\u001b[1;33m(\u001b[0m\u001b[0mnp\u001b[0m\u001b[1;33m.\u001b[0m\u001b[0mdot\u001b[0m\u001b[1;33m(\u001b[0m\u001b[0mW\u001b[0m\u001b[1;33m,\u001b[0m \u001b[0mx\u001b[0m\u001b[1;33m)\u001b[0m\u001b[1;33m)\u001b[0m\u001b[1;33m)\u001b[0m\u001b[1;33m\u001b[0m\u001b[1;33m\u001b[0m\u001b[0m\n\u001b[1;32m---> 10\u001b[1;33m         \u001b[0mgrad\u001b[0m \u001b[1;33m=\u001b[0m \u001b[0mgradient\u001b[0m\u001b[1;33m(\u001b[0m\u001b[0mx\u001b[0m\u001b[1;33m,\u001b[0m \u001b[0my\u001b[0m\u001b[1;33m,\u001b[0m \u001b[0mW\u001b[0m\u001b[1;33m[\u001b[0m\u001b[0my\u001b[0m\u001b[1;33m]\u001b[0m\u001b[1;33m)\u001b[0m\u001b[1;33m\u001b[0m\u001b[1;33m\u001b[0m\u001b[0m\n\u001b[0m\u001b[0;32m     11\u001b[0m         \u001b[1;32mif\u001b[0m \u001b[0my_pred\u001b[0m \u001b[1;33m==\u001b[0m \u001b[0my\u001b[0m\u001b[1;33m:\u001b[0m\u001b[1;33m\u001b[0m\u001b[1;33m\u001b[0m\u001b[0m\n\u001b[0;32m     12\u001b[0m             \u001b[0mcorrect_num\u001b[0m \u001b[1;33m+=\u001b[0m \u001b[1;36m1\u001b[0m\u001b[1;33m\u001b[0m\u001b[1;33m\u001b[0m\u001b[0m\n",
      "\u001b[1;32m<ipython-input-146-88fe7e456ed5>\u001b[0m in \u001b[0;36mgradient\u001b[1;34m(x, y, w)\u001b[0m\n\u001b[0;32m      2\u001b[0m     \u001b[0mgrad\u001b[0m \u001b[1;33m=\u001b[0m \u001b[0mnp\u001b[0m\u001b[1;33m.\u001b[0m\u001b[0mzeros\u001b[0m\u001b[1;33m(\u001b[0m\u001b[0mlen\u001b[0m\u001b[1;33m(\u001b[0m\u001b[0mx\u001b[0m\u001b[1;33m)\u001b[0m\u001b[1;33m)\u001b[0m\u001b[1;33m\u001b[0m\u001b[1;33m\u001b[0m\u001b[0m\n\u001b[0;32m      3\u001b[0m     \u001b[1;32mfor\u001b[0m \u001b[0mx\u001b[0m\u001b[1;33m,\u001b[0m\u001b[0my\u001b[0m \u001b[1;32min\u001b[0m \u001b[0mzip\u001b[0m\u001b[1;33m(\u001b[0m\u001b[0mx_d5\u001b[0m\u001b[1;33m,\u001b[0m\u001b[0my_d5\u001b[0m\u001b[1;33m)\u001b[0m\u001b[1;33m:\u001b[0m\u001b[1;33m\u001b[0m\u001b[1;33m\u001b[0m\u001b[0m\n\u001b[1;32m----> 4\u001b[1;33m         \u001b[0mgrad\u001b[0m \u001b[1;33m+=\u001b[0m \u001b[1;33m-\u001b[0m\u001b[0mnp\u001b[0m\u001b[1;33m.\u001b[0m\u001b[0mdot\u001b[0m\u001b[1;33m(\u001b[0m\u001b[0mx\u001b[0m\u001b[1;33m,\u001b[0m\u001b[0my\u001b[0m\u001b[1;33m)\u001b[0m \u001b[1;33m*\u001b[0m \u001b[1;33m(\u001b[0m\u001b[1;36m1\u001b[0m \u001b[1;33m-\u001b[0m \u001b[0msigmoid\u001b[0m\u001b[1;33m(\u001b[0m\u001b[0mnp\u001b[0m\u001b[1;33m.\u001b[0m\u001b[0mdot\u001b[0m\u001b[1;33m(\u001b[0m\u001b[0mnp\u001b[0m\u001b[1;33m.\u001b[0m\u001b[0mdot\u001b[0m\u001b[1;33m(\u001b[0m\u001b[0my\u001b[0m\u001b[1;33m,\u001b[0m \u001b[0mw\u001b[0m\u001b[1;33m)\u001b[0m\u001b[1;33m,\u001b[0m \u001b[0mx\u001b[0m\u001b[1;33m)\u001b[0m\u001b[1;33m)\u001b[0m\u001b[1;33m)\u001b[0m\u001b[1;33m\u001b[0m\u001b[1;33m\u001b[0m\u001b[0m\n\u001b[0m\u001b[0;32m      5\u001b[0m         \u001b[0mgrad\u001b[0m \u001b[1;33m+=\u001b[0m \u001b[1;36m2\u001b[0m \u001b[1;33m*\u001b[0m \u001b[0mlamb\u001b[0m \u001b[1;33m*\u001b[0m \u001b[0mw\u001b[0m\u001b[1;33m\u001b[0m\u001b[1;33m\u001b[0m\u001b[0m\n\u001b[0;32m      6\u001b[0m     \u001b[1;32mreturn\u001b[0m \u001b[1;33m-\u001b[0m\u001b[0mgrad\u001b[0m\u001b[1;33m\u001b[0m\u001b[1;33m\u001b[0m\u001b[0m\n",
      "\u001b[1;32m<__array_function__ internals>\u001b[0m in \u001b[0;36mdot\u001b[1;34m(*args, **kwargs)\u001b[0m\n",
      "\u001b[1;31mKeyboardInterrupt\u001b[0m: "
     ]
    }
   ],
   "source": [
    "W = np.zeros([K, M])\n",
    "alpha = 0.00005\n",
    "lamb = 0.002\n",
    "loss = []\n",
    "\n",
    "for iteration in range(0,50):\n",
    "    correct_num = 0\n",
    "    for x,y in zip(x_d5,y_d5):\n",
    "        y_pred = np.argmax(softmax(np.dot(W, x)))\n",
    "        grad = gradient(x, y, W[y])\n",
    "        if y_pred == y:\n",
    "            correct_num += 1\n",
    "        W[y] += alpha * grad\n",
    "        W[y_pred] -= alpha * grad\n",
    "    print('#{}: accuracy: {}'.format(iteration, correct_num / len(x_d4)))\n",
    "    print('w: ',w)"
   ]
  },
  {
   "cell_type": "code",
   "execution_count": 154,
   "metadata": {},
   "outputs": [
    {
     "name": "stdout",
     "output_type": "stream",
     "text": [
      "#0: accuracy: 0.49\n",
      "w:  [[ 0.02291548  0.33046844 -0.04028803 -0.08913329]\n",
      " [ 0.02291548  0.33046844 -0.04028803 -0.08913329]\n",
      " [ 0.02291548  0.33046844 -0.04028803 -0.08913329]]\n",
      "#1: accuracy: 0.49\n",
      "w:  [[ 0.00483604  0.50594772 -0.06738632 -0.13011189]\n",
      " [ 0.00483604  0.50594772 -0.06738632 -0.13011189]\n",
      " [ 0.00483604  0.50594772 -0.06738632 -0.13011189]]\n",
      "#2: accuracy: 0.49\n",
      "w:  [[-0.02028452  0.60412599 -0.08504542 -0.15038598]\n",
      " [-0.02028452  0.60412599 -0.08504542 -0.15038598]\n",
      " [-0.02028452  0.60412599 -0.08504542 -0.15038598]]\n",
      "#3: accuracy: 0.49\n",
      "w:  [[-0.04209046  0.66080161 -0.09633251 -0.16105924]\n",
      " [-0.04209046  0.66080161 -0.09633251 -0.16105924]\n",
      " [-0.04209046  0.66080161 -0.09633251 -0.16105924]]\n",
      "#4: accuracy: 0.49\n",
      "w:  [[-0.05839688  0.69435485 -0.10348133 -0.16704432]\n",
      " [-0.05839688  0.69435485 -0.10348133 -0.16704432]\n",
      " [-0.05839688  0.69435485 -0.10348133 -0.16704432]]\n",
      "#5: accuracy: 0.49\n",
      "w:  [[-0.069769    0.7146074  -0.10799164 -0.17058009]\n",
      " [-0.069769    0.7146074  -0.10799164 -0.17058009]\n",
      " [-0.069769    0.7146074  -0.10799164 -0.17058009]]\n"
     ]
    },
    {
     "ename": "KeyboardInterrupt",
     "evalue": "",
     "output_type": "error",
     "traceback": [
      "\u001b[1;31m---------------------------------------------------------------------------\u001b[0m",
      "\u001b[1;31mKeyboardInterrupt\u001b[0m                         Traceback (most recent call last)",
      "\u001b[1;32m<ipython-input-154-bc00f3386173>\u001b[0m in \u001b[0;36m<module>\u001b[1;34m\u001b[0m\n\u001b[0;32m     13\u001b[0m         \u001b[0mI_matrix\u001b[0m \u001b[1;33m=\u001b[0m \u001b[0mnp\u001b[0m\u001b[1;33m.\u001b[0m\u001b[0midentity\u001b[0m\u001b[1;33m(\u001b[0m\u001b[0mlen\u001b[0m\u001b[1;33m(\u001b[0m\u001b[0mx_d5\u001b[0m\u001b[1;33m[\u001b[0m\u001b[1;36m0\u001b[0m\u001b[1;33m]\u001b[0m\u001b[1;33m)\u001b[0m\u001b[1;33m)\u001b[0m\u001b[1;33m\u001b[0m\u001b[1;33m\u001b[0m\u001b[0m\n\u001b[0;32m     14\u001b[0m         \u001b[1;32mfor\u001b[0m \u001b[0mx\u001b[0m\u001b[1;33m,\u001b[0m\u001b[0my\u001b[0m \u001b[1;32min\u001b[0m \u001b[0mzip\u001b[0m\u001b[1;33m(\u001b[0m\u001b[0mx_d5\u001b[0m\u001b[1;33m,\u001b[0m \u001b[0my_d5\u001b[0m\u001b[1;33m)\u001b[0m\u001b[1;33m:\u001b[0m\u001b[1;33m\u001b[0m\u001b[1;33m\u001b[0m\u001b[0m\n\u001b[1;32m---> 15\u001b[1;33m             \u001b[0mz\u001b[0m \u001b[1;33m=\u001b[0m \u001b[0mnp\u001b[0m\u001b[1;33m.\u001b[0m\u001b[0mdot\u001b[0m\u001b[1;33m(\u001b[0m\u001b[0mnp\u001b[0m\u001b[1;33m.\u001b[0m\u001b[0mdot\u001b[0m\u001b[1;33m(\u001b[0m\u001b[0my\u001b[0m\u001b[1;33m,\u001b[0m\u001b[0mw\u001b[0m\u001b[1;33m[\u001b[0m\u001b[0my\u001b[0m\u001b[1;33m]\u001b[0m\u001b[1;33m)\u001b[0m\u001b[1;33m,\u001b[0m \u001b[0mx\u001b[0m\u001b[1;33m)\u001b[0m\u001b[1;33m\u001b[0m\u001b[1;33m\u001b[0m\u001b[0m\n\u001b[0m\u001b[0;32m     16\u001b[0m             \u001b[0mi\u001b[0m \u001b[1;33m=\u001b[0m \u001b[0mnp\u001b[0m\u001b[1;33m.\u001b[0m\u001b[0mreshape\u001b[0m\u001b[1;33m(\u001b[0m\u001b[0mx\u001b[0m\u001b[1;33m,\u001b[0m \u001b[1;33m(\u001b[0m\u001b[1;36m1\u001b[0m\u001b[1;33m,\u001b[0m\u001b[1;36m4\u001b[0m\u001b[1;33m)\u001b[0m\u001b[1;33m)\u001b[0m\u001b[1;33m\u001b[0m\u001b[1;33m\u001b[0m\u001b[0m\n\u001b[0;32m     17\u001b[0m             \u001b[0mj\u001b[0m \u001b[1;33m=\u001b[0m \u001b[0mnp\u001b[0m\u001b[1;33m.\u001b[0m\u001b[0mreshape\u001b[0m\u001b[1;33m(\u001b[0m\u001b[0mx\u001b[0m\u001b[1;33m,\u001b[0m \u001b[1;33m(\u001b[0m\u001b[1;36m4\u001b[0m\u001b[1;33m,\u001b[0m\u001b[1;36m1\u001b[0m\u001b[1;33m)\u001b[0m\u001b[1;33m)\u001b[0m\u001b[1;33m\u001b[0m\u001b[1;33m\u001b[0m\u001b[0m\n",
      "\u001b[1;32m<__array_function__ internals>\u001b[0m in \u001b[0;36mdot\u001b[1;34m(*args, **kwargs)\u001b[0m\n",
      "\u001b[1;31mKeyboardInterrupt\u001b[0m: "
     ]
    }
   ],
   "source": [
    "w = np.zeros([K,M])\n",
    "alpha = 0.002\n",
    "lamb = 0.002\n",
    "loss_new = []\n",
    "\n",
    "for iteration in range(0,50):\n",
    "    correct_num = 0\n",
    "    for x,y in zip(x_d5, y_d5):\n",
    "        if y == np.argmax(softmax(np.dot(W, x))):\n",
    "            correct_num += 1\n",
    "        grad = gradient(x, y, w[y])\n",
    "        hess_matrix = np.zeros((len(x_d5[0]),len(x_d5[0])))\n",
    "        I_matrix = np.identity(len(x_d5[0]))        \n",
    "        for x,y in zip(x_d5, y_d5):\n",
    "            z = np.dot(np.dot(y,w[y]), x)\n",
    "            i = np.reshape(x, (1,4))\n",
    "            j = np.reshape(x, (4,1))\n",
    "            hess_matrix += (sigmoid(z) - sigmoid(z) ** 2) * np.dot(j,i)\n",
    "            hess_matrix += 2 * lamb * I_matrix\n",
    "        w += alpha * np.dot(np.linalg.inv(hess_matrix),grad)\n",
    "    print('#{}: accuracy: {}'.format(iteration, correct_num / len(x_d4)))\n",
    "    print('w: ',w)"
   ]
  }
 ],
 "metadata": {
  "kernelspec": {
   "display_name": "Python 3",
   "language": "python",
   "name": "python3"
  },
  "language_info": {
   "codemirror_mode": {
    "name": "ipython",
    "version": 3
   },
   "file_extension": ".py",
   "mimetype": "text/x-python",
   "name": "python",
   "nbconvert_exporter": "python",
   "pygments_lexer": "ipython3",
   "version": "3.7.6"
  }
 },
 "nbformat": 4,
 "nbformat_minor": 4
}
