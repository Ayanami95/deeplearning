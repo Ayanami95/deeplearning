{
 "cells": [
  {
   "cell_type": "code",
   "execution_count": 1,
   "metadata": {},
   "outputs": [],
   "source": [
    "import numpy as np\n",
    "import chainer\n",
    "from chainer import Variable\n",
    "import chainer.functions as F\n",
    "\n",
    "dtype = np.float32\n",
    "\n",
    "# Training data for XOR.\n",
    "x = np.array([[0, 0, 1], [0, 1, 1], [1, 0, 1], [1, 1, 1]], dtype=dtype)\n",
    "y = np.array([[0], [1], [1], [0]],dtype=dtype)\n",
    "w1 = Variable(np.random.randn(3, 2).astype(dtype),requires_grad=True)\n",
    "w2 = Variable(np.random.randn(2, 1).astype(dtype),requires_grad=True)\n",
    "b2 = Variable(np.random.randn(1).astype(dtype), requires_grad=True)\n",
    "\n",
    "eta = 0.5\n",
    "for t in range(1000):\n",
    "    # y_pred = \\sigma(w_2 \\cdot \\sigma(x \\cdot w_1) + b_2)\n",
    "    y_pred = F.sigmoid(F.bias(F.matmul(F.sigmoid(F.matmul(x, w1)), w2), b2))\n",
    "    ll = y * y_pred + (1 - y) * (1 - y_pred)\n",
    "    loss = -F.sum(F.log(ll))\n",
    "    #print(t, loss.data)\n",
    "    loss.backward()\n",
    "    with chainer.no_backprop_mode():\n",
    "        # Update weights using SGD.\n",
    "        w1 -= eta * w1.grad\n",
    "        w2 -= eta * w2.grad\n",
    "        b2 -= eta * b2.grad\n",
    "\n",
    "        # Clear the gradients for the next iteration.\n",
    "        w1.cleargrad()\n",
    "        w2.cleargrad()\n",
    "        b2.cleargrad()"
   ]
  },
  {
   "cell_type": "code",
   "execution_count": 2,
   "metadata": {},
   "outputs": [
    {
     "name": "stdout",
     "output_type": "stream",
     "text": [
      "variable([[-6.898038  -6.5185432]\n",
      "          [ 7.0828695  6.2416263]\n",
      "          [ 3.471656  -3.3139799]])\n",
      "variable([[-11.242552]\n",
      "          [ 11.863684]])\n",
      "variable([5.270227])\n"
     ]
    }
   ],
   "source": [
    "print(w1)\n",
    "print(w2)\n",
    "print(b2)"
   ]
  },
  {
   "cell_type": "code",
   "execution_count": 3,
   "metadata": {},
   "outputs": [
    {
     "data": {
      "text/plain": [
       "variable([[0.00539303],\n",
       "          [0.9949782 ],\n",
       "          [0.9927317 ],\n",
       "          [0.00462809]])"
      ]
     },
     "execution_count": 3,
     "metadata": {},
     "output_type": "execute_result"
    }
   ],
   "source": [
    "F.sigmoid(F.bias(F.matmul(F.sigmoid(F.matmul(x,w1)) ,w2), b2))"
   ]
  }
 ],
 "metadata": {
  "kernelspec": {
   "display_name": "Python 3",
   "language": "python",
   "name": "python3"
  },
  "language_info": {
   "codemirror_mode": {
    "name": "ipython",
    "version": 3
   },
   "file_extension": ".py",
   "mimetype": "text/x-python",
   "name": "python",
   "nbconvert_exporter": "python",
   "pygments_lexer": "ipython3",
   "version": "3.5.2"
  }
 },
 "nbformat": 4,
 "nbformat_minor": 2
}
