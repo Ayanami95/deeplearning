{
 "cells": [
  {
   "cell_type": "code",
   "execution_count": 1,
   "metadata": {},
   "outputs": [],
   "source": [
    "import mxnet as mx\n",
    "from mxnet import nd, autograd\n",
    "\n",
    "# Training data for NAND.\n",
    "x = nd.array([[0, 0, 1], [0, 1, 1], [1, 0, 1], [1, 1, 1]])\n",
    "y = nd.array([[1], [1], [1], [0]])\n",
    "w = nd.random.normal(0, 1, shape=(3, 1))\n",
    "w.attach_grad()\n",
    "\n",
    "eta = 0.5\n",
    "for t in range(100):\n",
    "    with autograd.record():\n",
    "        # y_pred = \\sigma(x \\cdot w).\n",
    "        y_pred = nd.dot(x, w).sigmoid()\n",
    "        ll = y * y_pred + (1 - y) * (1 - y_pred)\n",
    "        loss = -ll.log().sum()      # The loss value.\n",
    "        #print(t, loss)\n",
    "    loss.backward()                 # Compute the gradients of the loss.\n",
    "    w -= eta * w.grad               # Update weights using SGD."
   ]
  },
  {
   "cell_type": "code",
   "execution_count": 2,
   "metadata": {},
   "outputs": [
    {
     "data": {
      "text/plain": [
       "\n",
       "[[-4.2020216]\n",
       " [-4.20314  ]\n",
       " [ 6.4963117]]\n",
       "<NDArray 3x1 @cpu(0)>"
      ]
     },
     "execution_count": 2,
     "metadata": {},
     "output_type": "execute_result"
    }
   ],
   "source": [
    "w"
   ]
  },
  {
   "cell_type": "code",
   "execution_count": 3,
   "metadata": {},
   "outputs": [
    {
     "data": {
      "text/plain": [
       "\n",
       "[[0.9984933 ]\n",
       " [0.90831   ]\n",
       " [0.90840304]\n",
       " [0.12911019]]\n",
       "<NDArray 4x1 @cpu(0)>"
      ]
     },
     "execution_count": 3,
     "metadata": {},
     "output_type": "execute_result"
    }
   ],
   "source": [
    "nd.dot(x, w).sigmoid()"
   ]
  }
 ],
 "metadata": {
  "kernelspec": {
   "display_name": "Python 3",
   "language": "python",
   "name": "python3"
  },
  "language_info": {
   "codemirror_mode": {
    "name": "ipython",
    "version": 3
   },
   "file_extension": ".py",
   "mimetype": "text/x-python",
   "name": "python",
   "nbconvert_exporter": "python",
   "pygments_lexer": "ipython3",
   "version": "3.5.2"
  }
 },
 "nbformat": 4,
 "nbformat_minor": 2
}
