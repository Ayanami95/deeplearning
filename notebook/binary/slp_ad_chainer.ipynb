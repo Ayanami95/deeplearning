{
 "cells": [
  {
   "cell_type": "code",
   "execution_count": 1,
   "metadata": {},
   "outputs": [],
   "source": [
    "import numpy as np\n",
    "import chainer\n",
    "from chainer import Variable\n",
    "import chainer.functions as F\n",
    "\n",
    "dtype = np.float32\n",
    "\n",
    "# Training data for NAND\n",
    "x = Variable(np.array([[0, 0, 1], [0, 1, 1], [1, 0, 1], [1, 1, 1]], dtype=dtype))\n",
    "y = Variable(np.array([[1], [1], [1], [0]], dtype=dtype))\n",
    "w = Variable(np.random.rand(3, 1).astype(dtype=dtype), requires_grad=True)\n",
    "\n",
    "eta = 0.5\n",
    "for t in range(100):\n",
    "    # y_pred = \\sigma(x \\cdot w)\n",
    "    y_pred = F.sigmoid(F.matmul(x, w))\n",
    "    ll = y * y_pred + (1 - y) * (1 - y_pred)\n",
    "    loss = -F.sum(F.log(ll))    # The loss value.\n",
    "    #print(t, loss)\n",
    "    loss.backward()             # Compute the gradients of the loss.\n",
    "\n",
    "    with chainer.no_backprop_mode():\n",
    "        w -= eta * w.grad       # Update weights using SGD.\n",
    "        w.cleargrad()           # Clear the gradients for the next iteration."
   ]
  },
  {
   "cell_type": "code",
   "execution_count": 2,
   "metadata": {},
   "outputs": [
    {
     "data": {
      "text/plain": [
       "variable([[-4.238654 ],\n",
       "          [-4.2391624],\n",
       "          [ 6.550305 ]])"
      ]
     },
     "execution_count": 2,
     "metadata": {},
     "output_type": "execute_result"
    }
   ],
   "source": [
    "w"
   ]
  },
  {
   "cell_type": "code",
   "execution_count": 3,
   "metadata": {},
   "outputs": [
    {
     "data": {
      "text/plain": [
       "variable([[0.99857235],\n",
       "          [0.90979564],\n",
       "          [0.90983737],\n",
       "          [0.12702626]])"
      ]
     },
     "execution_count": 3,
     "metadata": {},
     "output_type": "execute_result"
    }
   ],
   "source": [
    "F.sigmoid(F.matmul(x, w))"
   ]
  }
 ],
 "metadata": {
  "kernelspec": {
   "display_name": "Python 3",
   "language": "python",
   "name": "python3"
  },
  "language_info": {
   "codemirror_mode": {
    "name": "ipython",
    "version": 3
   },
   "file_extension": ".py",
   "mimetype": "text/x-python",
   "name": "python",
   "nbconvert_exporter": "python",
   "pygments_lexer": "ipython3",
   "version": "3.5.2"
  }
 },
 "nbformat": 4,
 "nbformat_minor": 2
}
