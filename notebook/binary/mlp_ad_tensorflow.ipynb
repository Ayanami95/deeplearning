{
 "cells": [
  {
   "cell_type": "code",
   "execution_count": 1,
   "metadata": {},
   "outputs": [
    {
     "name": "stdout",
     "output_type": "stream",
     "text": [
      "[[ 8.545845   8.527924 ]\n",
      " [ 4.8393583 -4.2591324]\n",
      " [-1.4335978  2.7701557]]\n",
      "[[ 7.452827 ]\n",
      " [-7.1250057]]\n",
      "[[-0.32773858]]\n",
      "[[0.00369266]\n",
      " [0.9962198 ]\n",
      " [0.49852544]\n",
      " [0.5015694 ]]\n"
     ]
    }
   ],
   "source": [
    "import tensorflow as tf\n",
    "\n",
    "# Training data for XOR.\n",
    "x_data = [[0, 0, 1], [0, 1, 1], [1, 0, 1], [1, 1, 1]]\n",
    "y_data = [[0], [1], [1], [0]]\n",
    "\n",
    "x = tf.placeholder(tf.float32, [4, 3])\n",
    "y = tf.placeholder(tf.float32, [4, 1])\n",
    "w1 = tf.Variable(tf.random_normal([3, 2]))\n",
    "w2 = tf.Variable(tf.random_normal([2, 1]))\n",
    "b2 = tf.Variable(tf.random_normal([1, 1]))\n",
    "\n",
    "y_pred = tf.sigmoid(tf.add(tf.matmul(tf.sigmoid(tf.matmul(x, w1)), w2), b2))\n",
    "ll = y * y_pred + (1 - y) * (1 - y_pred)\n",
    "log = tf.log(ll)\n",
    "loss = -tf.reduce_sum(log)\n",
    "grad = tf.gradients(loss, [w1, w2, b2])\n",
    "\n",
    "eta = 0.5\n",
    "with tf.Session() as sess:\n",
    "    sess.run(tf.global_variables_initializer())\n",
    "    for t in range(1000):\n",
    "        w1_grad, w2_grad, b2_grad = sess.run(grad, feed_dict={x: x_data, y: y_data})\n",
    "        sess.run(tf.assign_sub(w1, eta * w1_grad))\n",
    "        sess.run(tf.assign_sub(w2, eta * w2_grad))\n",
    "        sess.run(tf.assign_sub(b2, eta * b2_grad))\n",
    "        \n",
    "    print(sess.run(w1))\n",
    "    print(sess.run(w2))\n",
    "    print(sess.run(b2))\n",
    "    print(sess.run(y_pred, feed_dict={x: x_data, y: y_data}))"
   ]
  }
 ],
 "metadata": {
  "kernelspec": {
   "display_name": "Python 3",
   "language": "python",
   "name": "python3"
  },
  "language_info": {
   "codemirror_mode": {
    "name": "ipython",
    "version": 3
   },
   "file_extension": ".py",
   "mimetype": "text/x-python",
   "name": "python",
   "nbconvert_exporter": "python",
   "pygments_lexer": "ipython3",
   "version": "3.5.2"
  }
 },
 "nbformat": 4,
 "nbformat_minor": 2
}
