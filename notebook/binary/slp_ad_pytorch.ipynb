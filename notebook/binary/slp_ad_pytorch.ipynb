{
 "cells": [
  {
   "cell_type": "code",
   "execution_count": 1,
   "metadata": {},
   "outputs": [],
   "source": [
    "import torch\n",
    "\n",
    "dtype = torch.float\n",
    "\n",
    "# Training data for NAND.\n",
    "x = torch.tensor([[0, 0, 1], [0, 1, 1], [1, 0, 1], [1, 1, 1]], dtype=dtype)\n",
    "y = torch.tensor([[1], [1], [1], [0]], dtype=dtype)\n",
    "w = torch.randn(3, 1, dtype=dtype, requires_grad=True)\n",
    "\n",
    "eta = 0.5\n",
    "for t in range(100):\n",
    "    # y_pred = \\sigma(x \\cdot w)\n",
    "    y_pred = x.mm(w).sigmoid()\n",
    "    ll = y * y_pred + (1 - y) * (1 - y_pred)\n",
    "    loss = -ll.log().sum()      # The loss value.\n",
    "    #print(t, loss.item())\n",
    "    loss.backward()             # Compute the gradients of the loss.\n",
    "\n",
    "    with torch.no_grad():\n",
    "        w -= eta * w.grad       # Update weights using SGD.        \n",
    "        w.grad.zero_()          # Clear the gradients for the next iteration."
   ]
  },
  {
   "cell_type": "code",
   "execution_count": 2,
   "metadata": {},
   "outputs": [
    {
     "data": {
      "text/plain": [
       "tensor([[-4.2327],\n",
       "        [-4.2320],\n",
       "        [ 6.5405]])"
      ]
     },
     "execution_count": 2,
     "metadata": {},
     "output_type": "execute_result"
    }
   ],
   "source": [
    "w"
   ]
  },
  {
   "cell_type": "code",
   "execution_count": 3,
   "metadata": {},
   "outputs": [
    {
     "data": {
      "text/plain": [
       "tensor([[ 0.9986],\n",
       "        [ 0.9096],\n",
       "        [ 0.9095],\n",
       "        [ 0.1274]])"
      ]
     },
     "execution_count": 3,
     "metadata": {},
     "output_type": "execute_result"
    }
   ],
   "source": [
    "x.mm(w).sigmoid()"
   ]
  }
 ],
 "metadata": {
  "kernelspec": {
   "display_name": "Python 3",
   "language": "python",
   "name": "python3"
  },
  "language_info": {
   "codemirror_mode": {
    "name": "ipython",
    "version": 3
   },
   "file_extension": ".py",
   "mimetype": "text/x-python",
   "name": "python",
   "nbconvert_exporter": "python",
   "pygments_lexer": "ipython3",
   "version": "3.5.2"
  }
 },
 "nbformat": 4,
 "nbformat_minor": 2
}
