{
 "cells": [
  {
   "cell_type": "code",
   "execution_count": 1,
   "metadata": {},
   "outputs": [
    {
     "name": "stdout",
     "output_type": "stream",
     "text": [
      "[[-4.203982 ]\n",
      " [-4.2044005]\n",
      " [ 6.4987044]]\n",
      "[[0.9984969 ]\n",
      " [0.90840423]\n",
      " [0.90843904]\n",
      " [0.12901704]]\n"
     ]
    }
   ],
   "source": [
    "import tensorflow as tf\n",
    "\n",
    "# Training data for NAND\n",
    "x_data = [[0, 0, 1], [0, 1, 1], [1, 0, 1], [1, 1, 1]]\n",
    "y_data = [[1], [1], [1], [0]]\n",
    "\n",
    "x = tf.placeholder(tf.float32, [4, 3])\n",
    "y = tf.placeholder(tf.float32, [4, 1])\n",
    "w = tf.Variable(tf.random_normal([3,1]))\n",
    "\n",
    "# y_pred = \\sigma(x \\cdot w)\n",
    "y_pred = tf.sigmoid(tf.matmul(x, w))\n",
    "ll = y * y_pred + (1 - y) * (1 - y_pred)\n",
    "loss = -tf.reduce_sum(tf.log(ll))\n",
    "grad = tf.gradients(loss, w)\n",
    "\n",
    "eta = 0.5\n",
    "with tf.Session() as sess:\n",
    "    sess.run(tf.global_variables_initializer())\n",
    "\n",
    "    for t in range(100):\n",
    "        grads = sess.run(grad, feed_dict={x: x_data, y: y_data})\n",
    "        sess.run(w.assign_sub(eta * grads[0]))\n",
    "    print(sess.run(w))\n",
    "    print(sess.run(y_pred, feed_dict={x: x_data, y: y_data}))"
   ]
  }
 ],
 "metadata": {
  "kernelspec": {
   "display_name": "Python 3",
   "language": "python",
   "name": "python3"
  },
  "language_info": {
   "codemirror_mode": {
    "name": "ipython",
    "version": 3
   },
   "file_extension": ".py",
   "mimetype": "text/x-python",
   "name": "python",
   "nbconvert_exporter": "python",
   "pygments_lexer": "ipython3",
   "version": "3.5.2"
  }
 },
 "nbformat": 4,
 "nbformat_minor": 2
}
