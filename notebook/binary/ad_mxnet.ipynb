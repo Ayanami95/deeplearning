{
 "cells": [
  {
   "cell_type": "code",
   "execution_count": 1,
   "metadata": {},
   "outputs": [
    {
     "name": "stdout",
     "output_type": "stream",
     "text": [
      "\n",
      "[0.47407696]\n",
      "<NDArray 1 @cpu(0)>\n",
      "\n",
      "[-0.37754065 -0.37754065 -0.37754065]\n",
      "<NDArray 3 @cpu(0)>\n"
     ]
    }
   ],
   "source": [
    "import mxnet as mx\n",
    "from mxnet import nd, autograd, gluon\n",
    "\n",
    "x = nd.array([1., 1., 1.])\n",
    "w = nd.array([1.0, 1.0, -1.5])\n",
    "w.attach_grad()\n",
    "\n",
    "with autograd.record():\n",
    "    loss = -nd.dot(x, w).sigmoid().log()\n",
    "loss.backward()\n",
    "print(loss)\n",
    "print(w.grad)"
   ]
  }
 ],
 "metadata": {
  "kernelspec": {
   "display_name": "Python 3",
   "language": "python",
   "name": "python3"
  },
  "language_info": {
   "codemirror_mode": {
    "name": "ipython",
    "version": 3
   },
   "file_extension": ".py",
   "mimetype": "text/x-python",
   "name": "python",
   "nbconvert_exporter": "python",
   "pygments_lexer": "ipython3",
   "version": "3.5.2"
  }
 },
 "nbformat": 4,
 "nbformat_minor": 2
}
