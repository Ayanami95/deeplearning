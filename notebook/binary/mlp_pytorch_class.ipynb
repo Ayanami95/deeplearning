{
 "cells": [
  {
   "cell_type": "code",
   "execution_count": 1,
   "metadata": {},
   "outputs": [],
   "source": [
    "import torch\n",
    "\n",
    "dtype = torch.float\n",
    "\n",
    "# Training data for XOR.\n",
    "x = torch.tensor([[0, 0], [0, 1], [1, 0], [1, 1]], dtype=dtype)\n",
    "y = torch.tensor([[0], [1], [1], [0]], dtype=dtype)\n",
    "                                        \n",
    "# Define a neural network model.\n",
    "class ThreeLayerNN(torch.nn.Module):\n",
    "    def __init__(self, d_in, d_hidden, d_out):\n",
    "        super(ThreeLayerNN, self).__init__()\n",
    "        self.linear1 = torch.nn.Linear(d_in, d_hidden, bias=True)\n",
    "        self.linear2 = torch.nn.Linear(d_hidden, d_out, bias=True)\n",
    "\n",
    "    def forward(self, x):\n",
    "        return self.linear2(self.linear1(x).sigmoid())\n",
    "\n",
    "model = ThreeLayerNN(2, 2, 1)\n",
    "\n",
    "# Binary corss-entropy loss after sigmoid function.\n",
    "loss_fn = torch.nn.BCEWithLogitsLoss(size_average=False)\n",
    "\n",
    "# Optimizer based on SGD (change \"SGD\" to \"Adam\" to use Adam)\n",
    "optimizer = torch.optim.SGD(model.parameters(), lr=0.5)\n",
    "\n",
    "for t in range(1000):\n",
    "    y_pred = model(x)           # Make predictions.\n",
    "    loss = loss_fn(y_pred, y)   # Compute the loss.\n",
    "    #print(t, loss.item())\n",
    "    \n",
    "    optimizer.zero_grad()       # Zero-clear gradients.\n",
    "    loss.backward()             # Compute the gradients.\n",
    "    optimizer.step()            # Update the parameters using the gradients."
   ]
  },
  {
   "cell_type": "code",
   "execution_count": 2,
   "metadata": {},
   "outputs": [
    {
     "data": {
      "text/plain": [
       "OrderedDict([('linear1.weight', tensor([[ 6.6212, -6.8110],\n",
       "                      [ 6.7129, -6.4369]])),\n",
       "             ('linear1.bias', tensor([-3.5404,  3.2040])),\n",
       "             ('linear2.weight', tensor([[ 11.6606, -11.1694]])),\n",
       "             ('linear2.bias', tensor([ 5.2589]))])"
      ]
     },
     "execution_count": 2,
     "metadata": {},
     "output_type": "execute_result"
    }
   ],
   "source": [
    "model.state_dict()"
   ]
  },
  {
   "cell_type": "code",
   "execution_count": 3,
   "metadata": {},
   "outputs": [
    {
     "data": {
      "text/plain": [
       "tensor([[ 0.0058],\n",
       "        [ 0.9921],\n",
       "        [ 0.9947],\n",
       "        [ 0.0049]])"
      ]
     },
     "execution_count": 3,
     "metadata": {},
     "output_type": "execute_result"
    }
   ],
   "source": [
    "model(x).sigmoid()"
   ]
  }
 ],
 "metadata": {
  "kernelspec": {
   "display_name": "Python 3",
   "language": "python",
   "name": "python3"
  },
  "language_info": {
   "codemirror_mode": {
    "name": "ipython",
    "version": 3
   },
   "file_extension": ".py",
   "mimetype": "text/x-python",
   "name": "python",
   "nbconvert_exporter": "python",
   "pygments_lexer": "ipython3",
   "version": "3.5.2"
  }
 },
 "nbformat": 4,
 "nbformat_minor": 2
}
