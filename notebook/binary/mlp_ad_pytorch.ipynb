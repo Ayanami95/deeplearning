{
 "cells": [
  {
   "cell_type": "code",
   "execution_count": 1,
   "metadata": {},
   "outputs": [],
   "source": [
    "import torch\n",
    "\n",
    "dtype = torch.float\n",
    "\n",
    "# Training data for XOR.\n",
    "x = torch.tensor([[0, 0, 1], [0, 1, 1], [1, 0, 1], [1, 1, 1]], dtype=dtype)\n",
    "y = torch.tensor([[0], [1], [1], [0]], dtype=dtype)\n",
    "w1 = torch.randn(3, 2, dtype=dtype, requires_grad=True)\n",
    "w2 = torch.randn(2, 1, dtype=dtype, requires_grad=True)\n",
    "b2 = torch.randn(1, 1, dtype=dtype, requires_grad=True)\n",
    "\n",
    "eta = 0.5\n",
    "for t in range(1000):\n",
    "    # y_pred = \\sigma(w_2 \\cdot \\sigma(x \\cdot w_1) + b_2)\n",
    "    y_pred = x.mm(w1).sigmoid().mm(w2).add(b2).sigmoid()\n",
    "    ll = y * y_pred + (1 - y) * (1 - y_pred)\n",
    "    loss = -ll.log().sum()\n",
    "    #print(t, loss.item())\n",
    "    loss.backward()\n",
    "    \n",
    "    with torch.no_grad():\n",
    "        # Update weights using SGD.\n",
    "        w1 -= eta * w1.grad\n",
    "        w2 -= eta * w2.grad\n",
    "        b2 -= eta * b2.grad\n",
    "        \n",
    "        # Clear the gradients for the next iteration.\n",
    "        w1.grad.zero_()\n",
    "        w2.grad.zero_()\n",
    "        b2.grad.zero_()"
   ]
  },
  {
   "cell_type": "code",
   "execution_count": 2,
   "metadata": {},
   "outputs": [
    {
     "name": "stdout",
     "output_type": "stream",
     "text": [
      "tensor([[ 5.1994,  7.0126],\n",
      "        [ 5.2027,  7.0301],\n",
      "        [-7.9606, -3.1728]])\n",
      "tensor([[-12.1454],\n",
      "        [ 11.3713]])\n",
      "tensor([[-5.2753]])\n"
     ]
    }
   ],
   "source": [
    "print(w1)\n",
    "print(w2)\n",
    "print(b2)"
   ]
  },
  {
   "cell_type": "code",
   "execution_count": 3,
   "metadata": {},
   "outputs": [
    {
     "data": {
      "text/plain": [
       "tensor([[ 0.0080],\n",
       "        [ 0.9942],\n",
       "        [ 0.9941],\n",
       "        [ 0.0062]])"
      ]
     },
     "execution_count": 3,
     "metadata": {},
     "output_type": "execute_result"
    }
   ],
   "source": [
    "x.mm(w1).sigmoid().mm(w2).add(b2).sigmoid()"
   ]
  }
 ],
 "metadata": {
  "kernelspec": {
   "display_name": "Python 3",
   "language": "python",
   "name": "python3"
  },
  "language_info": {
   "codemirror_mode": {
    "name": "ipython",
    "version": 3
   },
   "file_extension": ".py",
   "mimetype": "text/x-python",
   "name": "python",
   "nbconvert_exporter": "python",
   "pygments_lexer": "ipython3",
   "version": "3.5.2"
  }
 },
 "nbformat": 4,
 "nbformat_minor": 2
}
