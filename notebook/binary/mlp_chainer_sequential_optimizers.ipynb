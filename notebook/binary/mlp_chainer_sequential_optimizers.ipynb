{
 "cells": [
  {
   "cell_type": "code",
   "execution_count": 1,
   "metadata": {},
   "outputs": [],
   "source": [
    "import chainer\n",
    "import numpy as np\n",
    "from chainer import functions as F\n",
    "from chainer import links as L\n",
    "\n",
    "dtype=np.float32\n",
    "\n",
    "# Training data for XOR.\n",
    "x = chainer.Variable(np.array([[0, 0], [0, 1], [1, 0], [1, 1]], dtype=dtype))\n",
    "y = chainer.Variable(np.array([[0], [1], [1], [0]], dtype=np.int32))\n",
    "\n",
    "# Define a neural network using high-level modules.\n",
    "model = chainer.Sequential(\n",
    "    L.Linear(2, 2, nobias=False),\n",
    "    F.sigmoid,\n",
    "    L.Linear(2, 1, nobias=False),\n",
    ")\n",
    "\n",
    "# Binary corss-entropy loss after sigmoid function.\n",
    "loss_fn=F.sigmoid_cross_entropy\n",
    "\n",
    "# Optimizer based on SGD (change \"SGD\" to \"Adam\" to use Adam)\n",
    "optimizer = chainer.optimizers.SGD(lr=0.5)\n",
    "optimizer.setup(model)\n",
    "\n",
    "for t in range(1000):\n",
    "    y_pred = model(x)                   # Make predictions.\n",
    "    loss = loss_fn(y_pred, y, normalize=False)  # Compute the loss.\n",
    "    #print(t, loss.data)\n",
    "    \n",
    "    model.cleargrads()          # Zero-clear gradients.\n",
    "    loss.backward()             # Compute the gradients.\n",
    "    optimizer.update()          # Update the parameters using the gradients."
   ]
  },
  {
   "cell_type": "code",
   "execution_count": 2,
   "metadata": {},
   "outputs": [
    {
     "name": "stdout",
     "output_type": "stream",
     "text": [
      "variable b([-2.2869124 -5.1613417])\n",
      "variable W([[5.922025  5.878332 ]\n",
      "            [3.4194984 3.4142656]])\n",
      "variable b([-3.3487024])\n",
      "variable W([[ 7.281869 -7.459597]])\n"
     ]
    }
   ],
   "source": [
    "for param in model.params():\n",
    "    print(param)"
   ]
  },
  {
   "cell_type": "code",
   "execution_count": 3,
   "metadata": {},
   "outputs": [
    {
     "data": {
      "text/plain": [
       "variable([[0.06181788],\n",
       "          [0.93281394],\n",
       "          [0.93301374],\n",
       "          [0.08725712]])"
      ]
     },
     "execution_count": 3,
     "metadata": {},
     "output_type": "execute_result"
    }
   ],
   "source": [
    "F.sigmoid(model(x))"
   ]
  }
 ],
 "metadata": {
  "kernelspec": {
   "display_name": "Python 3",
   "language": "python",
   "name": "python3"
  },
  "language_info": {
   "codemirror_mode": {
    "name": "ipython",
    "version": 3
   },
   "file_extension": ".py",
   "mimetype": "text/x-python",
   "name": "python",
   "nbconvert_exporter": "python",
   "pygments_lexer": "ipython3",
   "version": "3.5.2"
  }
 },
 "nbformat": 4,
 "nbformat_minor": 2
}
