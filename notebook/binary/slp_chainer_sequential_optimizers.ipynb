{
 "cells": [
  {
   "cell_type": "code",
   "execution_count": 1,
   "metadata": {},
   "outputs": [],
   "source": [
    "import chainer\n",
    "import numpy as np\n",
    "from chainer import functions as F\n",
    "from chainer import links as L\n",
    "chainer.config.train = True\n",
    "\n",
    "dtype=np.float32\n",
    "\n",
    "# Training data for NAND.\n",
    "x = chainer.Variable(np.array([[0, 0], [0, 1], [1, 0], [1, 1]], dtype=dtype))\n",
    "y = chainer.Variable(np.array([[1], [1], [1], [0]], dtype=np.int32))\n",
    "\n",
    "# Define a neural network using high-level modules.\n",
    "model = chainer.Sequential(\n",
    "    L.Linear(2, 1, nobias=False),   # 2 dims (with bias) -> 1 dim\n",
    ")\n",
    "\n",
    "# Binary corss-entropy loss after sigmoid function.\n",
    "loss_fn = F.sigmoid_cross_entropy\n",
    "\n",
    "# Optimizer based on SGD (change \"SGD\" to \"Adam\" to use Adam)\n",
    "optimizer = chainer.optimizers.SGD(lr=0.5)\n",
    "optimizer.setup(model)\n",
    "\n",
    "for t in range(100):\n",
    "    y_pred = model(x)                   # Make predictions.\n",
    "    loss = loss_fn(y_pred, y, normalize=False)   # Compute the loss.\n",
    "    #print(t, loss.data)\n",
    "    \n",
    "    model.cleargrads()          # Zero-clear gradients.\n",
    "    loss.backward()             # Compute the gradients.\n",
    "    optimizer.update()          # Update the parameters using the gradients."
   ]
  },
  {
   "cell_type": "code",
   "execution_count": 2,
   "metadata": {},
   "outputs": [
    {
     "name": "stdout",
     "output_type": "stream",
     "text": [
      "variable b([3.4636898])\n",
      "variable W([[-2.134361  -2.1379907]])\n"
     ]
    }
   ],
   "source": [
    "for para in model.params():\n",
    "    print(para)"
   ]
  },
  {
   "cell_type": "code",
   "execution_count": 3,
   "metadata": {},
   "outputs": [
    {
     "data": {
      "text/plain": [
       "variable([[0.9696368 ],\n",
       "          [0.79012835],\n",
       "          [0.7907295 ],\n",
       "          [0.30817568]])"
      ]
     },
     "execution_count": 3,
     "metadata": {},
     "output_type": "execute_result"
    }
   ],
   "source": [
    "F.sigmoid(model(x))"
   ]
  }
 ],
 "metadata": {
  "kernelspec": {
   "display_name": "Python 3",
   "language": "python",
   "name": "python3"
  },
  "language_info": {
   "codemirror_mode": {
    "name": "ipython",
    "version": 3
   },
   "file_extension": ".py",
   "mimetype": "text/x-python",
   "name": "python",
   "nbconvert_exporter": "python",
   "pygments_lexer": "ipython3",
   "version": "3.5.2"
  }
 },
 "nbformat": 4,
 "nbformat_minor": 2
}
