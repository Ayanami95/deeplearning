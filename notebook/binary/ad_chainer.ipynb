{
 "cells": [
  {
   "cell_type": "code",
   "execution_count": 1,
   "metadata": {},
   "outputs": [
    {
     "name": "stdout",
     "output_type": "stream",
     "text": [
      "0.47407696\n",
      "[-0.37754062 -0.37754062 -0.37754062]\n"
     ]
    }
   ],
   "source": [
    "import numpy as np\n",
    "from chainer import Variable\n",
    "import chainer.functions as F\n",
    "\n",
    "dtype = np.float32\n",
    "\n",
    "x = np.array([1,1,1], dtype=dtype)\n",
    "w = Variable(np.array([1.0,1.0,-1.5], dtype=dtype), requires_grad=True)\n",
    "\n",
    "loss = -F.log(F.sigmoid(np.dot(x,w)))\n",
    "loss.backward()\n",
    "print(loss.data)\n",
    "print(w.grad)"
   ]
  }
 ],
 "metadata": {
  "kernelspec": {
   "display_name": "Python 3",
   "language": "python",
   "name": "python3"
  },
  "language_info": {
   "codemirror_mode": {
    "name": "ipython",
    "version": 3
   },
   "file_extension": ".py",
   "mimetype": "text/x-python",
   "name": "python",
   "nbconvert_exporter": "python",
   "pygments_lexer": "ipython3",
   "version": "3.5.2"
  }
 },
 "nbformat": 4,
 "nbformat_minor": 2
}
