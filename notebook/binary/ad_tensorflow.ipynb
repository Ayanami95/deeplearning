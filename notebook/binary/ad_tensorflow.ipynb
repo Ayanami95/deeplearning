{
 "cells": [
  {
   "cell_type": "code",
   "execution_count": 1,
   "metadata": {},
   "outputs": [
    {
     "name": "stdout",
     "output_type": "stream",
     "text": [
      "0.47407696\n",
      "[array([-0.37754062, -0.37754062, -0.37754062], dtype=float32)]\n"
     ]
    }
   ],
   "source": [
    "import tensorflow as tf\n",
    "\n",
    "x = tf.constant([1., 1., 1.])\n",
    "w = tf.Variable([1.0, 1.0, -1.5])\n",
    "\n",
    "loss = -tf.log(tf.sigmoid(tf.tensordot(x, w, axes=1)))\n",
    "grad = tf.gradients(loss, w)\n",
    "\n",
    "with tf.Session() as sess:\n",
    "    sess.run(tf.global_variables_initializer())\n",
    "    loss_value = sess.run(loss)\n",
    "    grad_value = sess.run(grad)\n",
    "    print(loss_value)\n",
    "    print(grad_value)"
   ]
  }
 ],
 "metadata": {
  "kernelspec": {
   "display_name": "Python 3",
   "language": "python",
   "name": "python3"
  },
  "language_info": {
   "codemirror_mode": {
    "name": "ipython",
    "version": 3
   },
   "file_extension": ".py",
   "mimetype": "text/x-python",
   "name": "python",
   "nbconvert_exporter": "python",
   "pygments_lexer": "ipython3",
   "version": "3.5.2"
  }
 },
 "nbformat": 4,
 "nbformat_minor": 2
}
