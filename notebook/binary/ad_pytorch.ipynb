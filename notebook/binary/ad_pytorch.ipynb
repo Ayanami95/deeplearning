{
 "cells": [
  {
   "cell_type": "code",
   "execution_count": 1,
   "metadata": {},
   "outputs": [
    {
     "name": "stdout",
     "output_type": "stream",
     "text": [
      "0.4740769565105438\n",
      "tensor([-0.3775, -0.3775, -0.3775])\n"
     ]
    }
   ],
   "source": [
    "import torch\n",
    "\n",
    "dtype = torch.float\n",
    "\n",
    "x = torch.tensor([1, 1, 1], dtype=dtype)\n",
    "w = torch.tensor([1.0, 1.0, -1.5], dtype=dtype, requires_grad=True)\n",
    "\n",
    "loss = -torch.dot(x, w).sigmoid().log()\n",
    "loss.backward()\n",
    "print(loss.item())\n",
    "print(w.grad)"
   ]
  }
 ],
 "metadata": {
  "kernelspec": {
   "display_name": "Python 3",
   "language": "python",
   "name": "python3"
  },
  "language_info": {
   "codemirror_mode": {
    "name": "ipython",
    "version": 3
   },
   "file_extension": ".py",
   "mimetype": "text/x-python",
   "name": "python",
   "nbconvert_exporter": "python",
   "pygments_lexer": "ipython3",
   "version": "3.5.2"
  }
 },
 "nbformat": 4,
 "nbformat_minor": 2
}
