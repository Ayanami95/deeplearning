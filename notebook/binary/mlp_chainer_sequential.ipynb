{
 "cells": [
  {
   "cell_type": "code",
   "execution_count": 1,
   "metadata": {},
   "outputs": [],
   "source": [
    "import chainer\n",
    "import numpy as np\n",
    "from chainer import Variable, Function\n",
    "import chainer.functions as F\n",
    "import chainer.links as L\n",
    "\n",
    "dtype = np.float32\n",
    "\n",
    "# Training data for XOR.\n",
    "x = chainer.Variable(np.array([[0, 0], [0, 1], [1, 0], [1, 1]], dtype=dtype))\n",
    "y = chainer.Variable(np.array([[0], [1], [1], [0]], dtype=np.int32))\n",
    "\n",
    "# Define a neural network using high-level modules.\n",
    "init=chainer.initializers.HeNormal()\n",
    "model = chainer.Sequential(\n",
    "    L.Linear(2, 2, nobias=False, initialW=init), # 2 dims (with bias) -> 2 dims\n",
    "    F.sigmoid,                                   # Sigmoid function\n",
    "    L.Linear(2, 1, nobias=False, initialW=init), # 2 dims (with bias) -> 1 dim\n",
    ")\n",
    "\n",
    "# Binary corss-entropy loss after sigmoid function.\n",
    "loss_fn=F.sigmoid_cross_entropy\n",
    "\n",
    "eta = 0.5\n",
    "for t in range(1000):\n",
    "    y_pred = model(x)                            # Make predictions.\n",
    "    loss = loss_fn(y_pred, y, normalize=False)\n",
    "    # print(t, loss.data)\n",
    "    model.cleargrads()                           # Zero-clear the gradients.\n",
    "    loss.backward()                              # Compute the gradients.\n",
    "\n",
    "    with chainer.no_backprop_mode():\n",
    "        for para in model.params():\n",
    "            para.data -= eta * para.grad     # Update the parameters using SGD."
   ]
  },
  {
   "cell_type": "code",
   "execution_count": 2,
   "metadata": {},
   "outputs": [
    {
     "name": "stdout",
     "output_type": "stream",
     "text": [
      "variable W([[-5.0357113  4.694917 ]\n",
      "            [ 5.884984  -6.006705 ]])\n",
      "variable b([-2.5778637 -3.3951974])\n",
      "variable W([[7.5983677 7.613726 ]])\n",
      "variable b([-3.705806])\n"
     ]
    }
   ],
   "source": [
    "for para in model.params():\n",
    "    print(para)"
   ]
  },
  {
   "cell_type": "code",
   "execution_count": 3,
   "metadata": {},
   "outputs": [
    {
     "data": {
      "text/plain": [
       "variable([[0.05105227],\n",
       "          [0.95592314],\n",
       "          [0.9653981 ],\n",
       "          [0.04323387]])"
      ]
     },
     "execution_count": 3,
     "metadata": {},
     "output_type": "execute_result"
    }
   ],
   "source": [
    "F.sigmoid(model(x))"
   ]
  }
 ],
 "metadata": {
  "kernelspec": {
   "display_name": "Python 3",
   "language": "python",
   "name": "python3"
  },
  "language_info": {
   "codemirror_mode": {
    "name": "ipython",
    "version": 3
   },
   "file_extension": ".py",
   "mimetype": "text/x-python",
   "name": "python",
   "nbconvert_exporter": "python",
   "pygments_lexer": "ipython3",
   "version": "3.5.2"
  }
 },
 "nbformat": 4,
 "nbformat_minor": 2
}
