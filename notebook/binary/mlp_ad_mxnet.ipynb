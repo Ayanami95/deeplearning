{
 "cells": [
  {
   "cell_type": "code",
   "execution_count": 1,
   "metadata": {},
   "outputs": [],
   "source": [
    "import mxnet as mx\n",
    "from mxnet import nd, autograd\n",
    "\n",
    "# Training data for XOR.\n",
    "x = nd.array([[0, 0, 1], [0, 1, 1], [1, 0, 1], [1, 1, 1]])\n",
    "y = nd.array([[0], [1], [1], [0]])\n",
    "\n",
    "w1 = nd.random.normal(0, 1, shape=(3, 2))\n",
    "w2 = nd.random.normal(0, 1, shape=(2, 1))\n",
    "b2 = nd.random.normal(0, 1, shape=(1, 1))\n",
    "w1.attach_grad()\n",
    "w2.attach_grad()\n",
    "b2.attach_grad()\n",
    "\n",
    "eta = 0.5\n",
    "for t in range(1000):\n",
    "    with autograd.record():\n",
    "        # y_pred = \\sigma(w_2 \\cdot \\sigma(x \\cdot w_1) + b_2)\n",
    "        y_pred = (nd.dot(nd.dot(x, w1).sigmoid(), w2) + b2).sigmoid()\n",
    "        ll = y * y_pred + (1 - y) * (1 - y_pred)\n",
    "        loss = -ll.log().sum()\n",
    "    loss.backward()\n",
    "    \n",
    "    # Update weights using SGD.\n",
    "    w1 -= eta * w1.grad\n",
    "    w2 -= eta * w2.grad\n",
    "    b2 -= eta * b2.grad"
   ]
  },
  {
   "cell_type": "code",
   "execution_count": 2,
   "metadata": {},
   "outputs": [
    {
     "name": "stdout",
     "output_type": "stream",
     "text": [
      "\n",
      "[[  4.5155373   4.041809 ]\n",
      " [ -7.8481655   7.4811954]\n",
      " [  5.9294176 -10.316905 ]]\n",
      "<NDArray 3x2 @cpu(0)>\n",
      "\n",
      "[[-5.775163 ]\n",
      " [-7.2728887]]\n",
      "<NDArray 2x1 @cpu(0)>\n",
      "\n",
      "[[5.775924]]\n",
      "<NDArray 1x1 @cpu(0)>\n"
     ]
    }
   ],
   "source": [
    "print(w1)\n",
    "print(w2)\n",
    "print(b2)"
   ]
  },
  {
   "cell_type": "code",
   "execution_count": 3,
   "metadata": {},
   "outputs": [
    {
     "data": {
      "text/plain": [
       "\n",
       "[[0.50396055]\n",
       " [0.99037385]\n",
       " [0.4968157 ]\n",
       " [0.00550799]]\n",
       "<NDArray 4x1 @cpu(0)>"
      ]
     },
     "execution_count": 3,
     "metadata": {},
     "output_type": "execute_result"
    }
   ],
   "source": [
    "(nd.dot(nd.dot(x, w1).sigmoid(), w2) + b2).sigmoid()"
   ]
  }
 ],
 "metadata": {
  "kernelspec": {
   "display_name": "Python 3",
   "language": "python",
   "name": "python3"
  },
  "language_info": {
   "codemirror_mode": {
    "name": "ipython",
    "version": 3
   },
   "file_extension": ".py",
   "mimetype": "text/x-python",
   "name": "python",
   "nbconvert_exporter": "python",
   "pygments_lexer": "ipython3",
   "version": "3.5.2"
  }
 },
 "nbformat": 4,
 "nbformat_minor": 2
}
