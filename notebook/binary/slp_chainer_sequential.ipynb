{
 "cells": [
  {
   "cell_type": "code",
   "execution_count": 1,
   "metadata": {},
   "outputs": [],
   "source": [
    "import chainer\n",
    "import numpy as np\n",
    "from chainer import Variable, Function\n",
    "import chainer.functions as F\n",
    "import chainer.links as L\n",
    "\n",
    "dtype = np.float32\n",
    "\n",
    "# Training data for NAND\n",
    "x = Variable(np.array([[0, 0], [0, 1], [1, 0], [1, 1]], dtype=dtype))\n",
    "y = Variable(np.array([[1], [1], [1], [0]], dtype=np.int32))\n",
    "\n",
    "# Define a neural network using high-level modules.\n",
    "model = chainer.Sequential(\n",
    "    L.Linear(2, 1, nobias=False)            # 2 dims (with bias) -> 1 dim\n",
    ")\n",
    "# Binary corss-entropy loss after sigmoid function.\n",
    "loss_fn=F.sigmoid_cross_entropy\n",
    "\n",
    "eta = 0.5\n",
    "for t in range(100):\n",
    "    y_pred = model(x)                       # Make predictions.\n",
    "    loss = loss_fn(y_pred, y, normalize=False)\n",
    "    # print(t, loss.data)\n",
    "    model.cleargrads()                      # Zero-clear the gradients.\n",
    "    loss.backward()                         # Compute the gradients.\n",
    "\n",
    "    with chainer.no_backprop_mode():\n",
    "        for para in model.params():\n",
    "            para.data -= eta * para.grad    # Update the parameters using SGD."
   ]
  },
  {
   "cell_type": "code",
   "execution_count": 2,
   "metadata": {},
   "outputs": [
    {
     "name": "stdout",
     "output_type": "stream",
     "text": [
      "variable b([3.2144895])\n",
      "variable W([[-1.9686245 -1.9545643]])\n"
     ]
    }
   ],
   "source": [
    "for para in model.params():\n",
    "    print(para)"
   ]
  },
  {
   "cell_type": "code",
   "execution_count": 3,
   "metadata": {},
   "outputs": [
    {
     "data": {
      "text/plain": [
       "variable([[0.96137595],\n",
       "          [0.7790133 ],\n",
       "          [0.77658325],\n",
       "          [0.32988632]])"
      ]
     },
     "execution_count": 3,
     "metadata": {},
     "output_type": "execute_result"
    }
   ],
   "source": [
    "F.sigmoid(model(x))"
   ]
  }
 ],
 "metadata": {
  "kernelspec": {
   "display_name": "Python 3",
   "language": "python",
   "name": "python3"
  },
  "language_info": {
   "codemirror_mode": {
    "name": "ipython",
    "version": 3
   },
   "file_extension": ".py",
   "mimetype": "text/x-python",
   "name": "python",
   "nbconvert_exporter": "python",
   "pygments_lexer": "ipython3",
   "version": "3.5.2"
  }
 },
 "nbformat": 4,
 "nbformat_minor": 2
}
