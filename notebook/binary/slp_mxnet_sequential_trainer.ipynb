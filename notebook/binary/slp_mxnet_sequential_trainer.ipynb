{
 "cells": [
  {
   "cell_type": "code",
   "execution_count": 1,
   "metadata": {},
   "outputs": [],
   "source": [
    "import mxnet as mx\n",
    "from mxnet import nd, autograd, gluon\n",
    "\n",
    "# Training data for NAND.\n",
    "x = nd.array([[0, 0], [0, 1], [1, 0], [1, 1]])\n",
    "y = nd.array([[1], [1], [1], [0]])\n",
    "\n",
    "# Define a neural network using high-level modules.\n",
    "net = gluon.nn.Sequential()\n",
    "with net.name_scope():\n",
    "    net.add(gluon.nn.Dense(1))\n",
    "net.collect_params().initialize(mx.init.Normal(sigma=1.))\n",
    "  \n",
    "# Binary cross-entropy loss agter sigmoid function.\n",
    "loss_fn = gluon.loss.SigmoidBinaryCrossEntropyLoss()\n",
    "\n",
    "# Optimizer based on SGD\n",
    "trainer = gluon.Trainer(net.collect_params(), 'sgd', {'learning_rate': 0.5})\n",
    "\n",
    "for t in range(100):\n",
    "    with autograd.record():\n",
    "        # Make predictions.\n",
    "        y_pred = net(x)\n",
    "        # Compute the loss.\n",
    "        loss = loss_fn(y_pred, y)\n",
    "    # Compute the gradients of the loss.\n",
    "    loss.backward()\n",
    "    # Update weights using SGD.\n",
    "    # the batch_size is set to one to be consistent with the slide.\n",
    "    trainer.step(batch_size=1)"
   ]
  },
  {
   "cell_type": "code",
   "execution_count": 2,
   "metadata": {},
   "outputs": [
    {
     "name": "stdout",
     "output_type": "stream",
     "text": [
      "Parameter sequential0_dense0_weight (shape=(1, 2), dtype=float32) \n",
      "[[-4.182336  -4.1832795]]\n",
      "<NDArray 1x2 @cpu(0)>\n",
      "Parameter sequential0_dense0_bias (shape=(1,), dtype=float32) \n",
      "[6.466928]\n",
      "<NDArray 1 @cpu(0)>\n"
     ]
    }
   ],
   "source": [
    "for v in net.collect_params().values():\n",
    "    print(v, v.data())"
   ]
  },
  {
   "cell_type": "code",
   "execution_count": 3,
   "metadata": {},
   "outputs": [
    {
     "data": {
      "text/plain": [
       "\n",
       "[[0.9984484 ]\n",
       " [0.90751374]\n",
       " [0.9075929 ]\n",
       " [0.13025706]]\n",
       "<NDArray 4x1 @cpu(0)>"
      ]
     },
     "execution_count": 3,
     "metadata": {},
     "output_type": "execute_result"
    }
   ],
   "source": [
    "net(x).sigmoid()"
   ]
  }
 ],
 "metadata": {
  "kernelspec": {
   "display_name": "Python 3",
   "language": "python",
   "name": "python3"
  },
  "language_info": {
   "codemirror_mode": {
    "name": "ipython",
    "version": 3
   },
   "file_extension": ".py",
   "mimetype": "text/x-python",
   "name": "python",
   "nbconvert_exporter": "python",
   "pygments_lexer": "ipython3",
   "version": "3.5.2"
  }
 },
 "nbformat": 4,
 "nbformat_minor": 2
}
