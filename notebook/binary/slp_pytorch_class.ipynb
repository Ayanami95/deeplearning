{
 "cells": [
  {
   "cell_type": "code",
   "execution_count": 1,
   "metadata": {},
   "outputs": [],
   "source": [
    "import torch\n",
    "\n",
    "dtype = torch.float\n",
    "\n",
    "# Training data for NAND.\n",
    "x = torch.tensor([[0, 0], [0, 1], [1, 0], [1, 1]], dtype=dtype)\n",
    "y = torch.tensor([[1], [1], [1], [0]], dtype=dtype)\n",
    "                                        \n",
    "# Define a neural network model.\n",
    "class SingleLayerNN(torch.nn.Module):\n",
    "    def __init__(self, d_in, d_out):\n",
    "        super(SingleLayerNN, self).__init__()\n",
    "        self.linear1 = torch.nn.Linear(d_in, d_out, bias=True)\n",
    "\n",
    "    def forward(self, x):\n",
    "        return self.linear1(x)\n",
    "\n",
    "model = SingleLayerNN(2, 1)\n",
    "\n",
    "# Binary corss-entropy loss after sigmoid function.\n",
    "loss_fn = torch.nn.BCEWithLogitsLoss(size_average=False)\n",
    "\n",
    "# Optimizer based on SGD (change \"SGD\" to \"Adam\" to use Adam)\n",
    "optimizer = torch.optim.SGD(model.parameters(), lr=0.5)\n",
    "\n",
    "for t in range(100):\n",
    "    y_pred = model(x)           # Make predictions.\n",
    "    loss = loss_fn(y_pred, y)   # Compute the loss.\n",
    "    #print(t, loss.item())\n",
    "    \n",
    "    optimizer.zero_grad()       # Zero-clear gradients.\n",
    "    loss.backward()             # Compute the gradients.\n",
    "    optimizer.step()            # Update the parameters using the gradients."
   ]
  },
  {
   "cell_type": "code",
   "execution_count": 2,
   "metadata": {},
   "outputs": [
    {
     "data": {
      "text/plain": [
       "OrderedDict([('linear1.weight', tensor([[-4.2693, -4.2689]])),\n",
       "             ('linear1.bias', tensor([ 6.5951]))])"
      ]
     },
     "execution_count": 2,
     "metadata": {},
     "output_type": "execute_result"
    }
   ],
   "source": [
    "model.state_dict()"
   ]
  },
  {
   "cell_type": "code",
   "execution_count": 3,
   "metadata": {},
   "outputs": [
    {
     "data": {
      "text/plain": [
       "tensor([[ 0.9986],\n",
       "        [ 0.9110],\n",
       "        [ 0.9110],\n",
       "        [ 0.1253]])"
      ]
     },
     "execution_count": 3,
     "metadata": {},
     "output_type": "execute_result"
    }
   ],
   "source": [
    "model(x).sigmoid()"
   ]
  }
 ],
 "metadata": {
  "kernelspec": {
   "display_name": "Python 3",
   "language": "python",
   "name": "python3"
  },
  "language_info": {
   "codemirror_mode": {
    "name": "ipython",
    "version": 3
   },
   "file_extension": ".py",
   "mimetype": "text/x-python",
   "name": "python",
   "nbconvert_exporter": "python",
   "pygments_lexer": "ipython3",
   "version": "3.5.2"
  }
 },
 "nbformat": 4,
 "nbformat_minor": 2
}
