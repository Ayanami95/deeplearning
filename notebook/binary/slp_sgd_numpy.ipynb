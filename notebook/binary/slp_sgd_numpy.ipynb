{
 "cells": [
  {
   "cell_type": "code",
   "execution_count": 1,
   "metadata": {},
   "outputs": [],
   "source": [
    "import numpy as np\n",
    "\n",
    "def sigmoid(v):\n",
    "    return 1.0 / (1 + np.exp(-v))\n",
    "\n",
    "# Training data for NAND.\n",
    "x = np.array([\n",
    "    [0, 0, 1], [0, 1, 1], [1, 0, 1], [1, 1, 1]\n",
    "    ])\n",
    "y = np.array([1, 1, 1, 0])\n",
    "w = np.array([0.0, 0.0, 0.0])\n",
    "\n",
    "eta = 0.5\n",
    "for t in range(100):\n",
    "    y_pred = sigmoid(np.dot(x, w))\n",
    "    w -= np.dot((y_pred - y), x)"
   ]
  },
  {
   "cell_type": "code",
   "execution_count": 2,
   "metadata": {},
   "outputs": [
    {
     "data": {
      "text/plain": [
       "array([-5.59504346, -5.59504346,  8.57206068])"
      ]
     },
     "execution_count": 2,
     "metadata": {},
     "output_type": "execute_result"
    }
   ],
   "source": [
    "w"
   ]
  },
  {
   "cell_type": "code",
   "execution_count": 3,
   "metadata": {},
   "outputs": [
    {
     "data": {
      "text/plain": [
       "array([0.99981071, 0.95152498, 0.95152498, 0.06798725])"
      ]
     },
     "execution_count": 3,
     "metadata": {},
     "output_type": "execute_result"
    }
   ],
   "source": [
    "sigmoid(np.dot(x, w))"
   ]
  }
 ],
 "metadata": {
  "kernelspec": {
   "display_name": "Python 3",
   "language": "python",
   "name": "python3"
  },
  "language_info": {
   "codemirror_mode": {
    "name": "ipython",
    "version": 3
   },
   "file_extension": ".py",
   "mimetype": "text/x-python",
   "name": "python",
   "nbconvert_exporter": "python",
   "pygments_lexer": "ipython3",
   "version": "3.5.2"
  }
 },
 "nbformat": 4,
 "nbformat_minor": 2
}
