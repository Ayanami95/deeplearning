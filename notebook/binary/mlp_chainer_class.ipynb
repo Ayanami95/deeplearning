{
 "cells": [
  {
   "cell_type": "code",
   "execution_count": 1,
   "metadata": {},
   "outputs": [],
   "source": [
    "import chainer\n",
    "import numpy as np\n",
    "from chainer import Variable\n",
    "from chainer import functions as F\n",
    "from chainer import links as L\n",
    "from chainer import optimizers\n",
    "\n",
    "x = Variable(np.array([[0,0],[0,1],[1,0],[1,1]],dtype=np.float32))\n",
    "y = Variable(np.array([[0],[1],[1],[0]],dtype=np.int32))\n",
    "\n",
    "class Linear(chainer.Chain):\n",
    "    def __init__(self):\n",
    "        super().__init__()\n",
    "        with self.init_scope():\n",
    "            self.l1 = L.Linear(2,2)\n",
    "            self.l2 = L.Linear(2,1)\n",
    "      \n",
    "    def __call__(self,x):\n",
    "        h = F.sigmoid(self.l1(x))\n",
    "        o = self.l2(h)\n",
    "        return o\n",
    "    \n",
    "model = Linear()\n",
    "optimizer = optimizers.SGD(lr=0.5).setup(model)\n",
    "for t in range(1000):\n",
    "    y_pred = model(x)\n",
    "    loss = F.sigmoid_cross_entropy(y_pred,y)\n",
    "    #print(t,loss.data)\n",
    "    model.cleargrads()\n",
    "    loss.backward()\n",
    "    optimizer.update()"
   ]
  },
  {
   "cell_type": "code",
   "execution_count": 2,
   "metadata": {},
   "outputs": [
    {
     "data": {
      "text/plain": [
       "variable([[0.33073208],\n",
       "          [0.5335392 ],\n",
       "          [0.8444923 ],\n",
       "          [0.26925102]])"
      ]
     },
     "execution_count": 2,
     "metadata": {},
     "output_type": "execute_result"
    }
   ],
   "source": [
    "F.sigmoid(model(x))"
   ]
  },
  {
   "cell_type": "code",
   "execution_count": null,
   "metadata": {},
   "outputs": [],
   "source": []
  }
 ],
 "metadata": {
  "kernelspec": {
   "display_name": "Python 3",
   "language": "python",
   "name": "python3"
  },
  "language_info": {
   "codemirror_mode": {
    "name": "ipython",
    "version": 3
   },
   "file_extension": ".py",
   "mimetype": "text/x-python",
   "name": "python",
   "nbconvert_exporter": "python",
   "pygments_lexer": "ipython3",
   "version": "3.5.2"
  }
 },
 "nbformat": 4,
 "nbformat_minor": 2
}
