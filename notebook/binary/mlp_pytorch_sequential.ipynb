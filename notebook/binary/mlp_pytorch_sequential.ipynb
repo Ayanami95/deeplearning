{
 "cells": [
  {
   "cell_type": "code",
   "execution_count": 1,
   "metadata": {},
   "outputs": [],
   "source": [
    "import torch\n",
    "\n",
    "dtype = torch.float\n",
    "\n",
    "# Training data for XOR.\n",
    "x = torch.tensor([[0, 0], [0, 1], [1, 0], [1, 1]], dtype=dtype)\n",
    "y = torch.tensor([[0], [1], [1], [0]], dtype=dtype)\n",
    "                                        \n",
    "# Define a neural network using high-level modules.\n",
    "model = torch.nn.Sequential(\n",
    "    torch.nn.Linear(2, 2, bias=True),   # 2 dims (with bias) -> 2 dims\n",
    "    torch.nn.Sigmoid(),                 # Sigmoid function\n",
    "    torch.nn.Linear(2, 1, bias=True),   # 2 dims (with bias) -> 1 dim\n",
    ")\n",
    "\n",
    "# Binary corss-entropy loss after sigmoid function.\n",
    "loss_fn = torch.nn.BCEWithLogitsLoss(size_average=False)\n",
    "\n",
    "eta = 0.5\n",
    "for t in range(1000):\n",
    "    y_pred = model(x)                   # Make predictions.\n",
    "    loss = loss_fn(y_pred, y)           # Compute the loss.\n",
    "    #print(t, loss.item())\n",
    "    \n",
    "    model.zero_grad()                   # Zero-clear the gradients.\n",
    "    loss.backward()                     # Compute the gradients.\n",
    "        \n",
    "    with torch.no_grad():\n",
    "        for param in model.parameters():\n",
    "            param -= eta * param.grad   # Update the parameters using SGD."
   ]
  },
  {
   "cell_type": "code",
   "execution_count": 2,
   "metadata": {},
   "outputs": [
    {
     "data": {
      "text/plain": [
       "OrderedDict([('0.weight', tensor([[ 7.0281,  7.0367],\n",
       "                      [ 5.1955,  5.1971]])),\n",
       "             ('0.bias', tensor([-3.1767, -7.9526])),\n",
       "             ('2.weight', tensor([[ 11.4025, -12.1782]])),\n",
       "             ('2.bias', tensor([-5.2898]))])"
      ]
     },
     "execution_count": 2,
     "metadata": {},
     "output_type": "execute_result"
    }
   ],
   "source": [
    "model.state_dict()"
   ]
  },
  {
   "cell_type": "code",
   "execution_count": 3,
   "metadata": {},
   "outputs": [
    {
     "data": {
      "text/plain": [
       "tensor([[ 0.0079],\n",
       "        [ 0.9942],\n",
       "        [ 0.9942],\n",
       "        [ 0.0061]])"
      ]
     },
     "execution_count": 3,
     "metadata": {},
     "output_type": "execute_result"
    }
   ],
   "source": [
    "model(x).sigmoid()"
   ]
  }
 ],
 "metadata": {
  "kernelspec": {
   "display_name": "Python 3",
   "language": "python",
   "name": "python3"
  },
  "language_info": {
   "codemirror_mode": {
    "name": "ipython",
    "version": 3
   },
   "file_extension": ".py",
   "mimetype": "text/x-python",
   "name": "python",
   "nbconvert_exporter": "python",
   "pygments_lexer": "ipython3",
   "version": "3.5.2"
  }
 },
 "nbformat": 4,
 "nbformat_minor": 2
}
