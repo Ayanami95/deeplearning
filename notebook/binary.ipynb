{
  "nbformat": 4,
  "nbformat_minor": 0,
  "metadata": {
    "colab": {
      "name": "mlp_binary.ipynb",
      "provenance": [],
      "collapsed_sections": [],
      "include_colab_link": true
    },
    "language_info": {
      "codemirror_mode": {
        "name": "ipython",
        "version": 3
      },
      "file_extension": ".py",
      "mimetype": "text/x-python",
      "name": "python",
      "nbconvert_exporter": "python",
      "pygments_lexer": "ipython3",
      "version": "3.5.2"
    },
    "kernelspec": {
      "display_name": "Python 3",
      "language": "python",
      "name": "python3"
    }
  },
  "cells": [
    {
      "cell_type": "markdown",
      "metadata": {
        "id": "view-in-github",
        "colab_type": "text"
      },
      "source": [
        "<a href=\"https://colab.research.google.com/github/chokkan/deeplearning/blob/master/notebook/binary.ipynb\" target=\"_parent\"><img src=\"https://colab.research.google.com/assets/colab-badge.svg\" alt=\"Open In Colab\"/></a>"
      ]
    },
    {
      "cell_type": "markdown",
      "metadata": {
        "colab_type": "text",
        "id": "CX_9BuPB_hA-"
      },
      "source": [
        "# Feedforward Neural Networks\n",
        "\n",
        "This notebook explains various ways of implementing single-layer and multi-layer neural networks. The implementations are arranged by concrete (explicit) to abstract order so that one can understand the process black-boxed by deep learning frameworks.\n",
        "\n",
        "In order to focus on explaining the internals of training, this notebook uses a simple and classic example: *threshold logic units*.\n",
        "Supposing $x=0$ as *false* and $x=1$ as *true*, single-layer neural networks can realize logic units such as AND ($\\wedge$), OR ($\\vee$), NOT ($\\lnot$), and NAND ($|$). Multi-layer neural networks can realize logical compounds such as XOR.\n",
        "\n",
        "| $x_1$ | $x_2$ | AND | OR | NAND | XOR |\n",
        "| :---: |:-----:|:---:|:--:|:----:|:---:|\n",
        "| 0 | 0 | 0 | 0 | 1 | 0 |\n",
        "| 0 | 1 | 0 | 1 | 1 | 1 |\n",
        "| 1 | 0 | 0 | 1 | 1 | 1 |\n",
        "| 1 | 1 | 1 | 1 | 0 | 0 |\n"
      ]
    },
    {
      "cell_type": "markdown",
      "metadata": {
        "colab_type": "text",
        "id": "qxdFG8U2Net8"
      },
      "source": [
        "## Using numpy"
      ]
    },
    {
      "cell_type": "code",
      "metadata": {
        "id": "Ug4zqMhLB-B6",
        "colab_type": "code",
        "colab": {}
      },
      "source": [
        "import numpy as np"
      ],
      "execution_count": 1,
      "outputs": []
    },
    {
      "cell_type": "markdown",
      "metadata": {
        "colab_type": "text",
        "id": "Ea5cM4JEsENr"
      },
      "source": [
        "### Single-layer perceptron\n",
        "\n",
        "A single layer perceptron predicts a binary label $\\hat{y} \\in \\{0, 1\\}$ for a given input vector $\\boldsymbol{x} \\in \\mathbb{R}^d$ ($d$ presents the number of dimensions of inputs) by using the following formula,\n",
        "$$\n",
        "\\hat{y} = g(\\boldsymbol{w} \\cdot \\boldsymbol{x} + b) = g(w_1 x_1 + w_2 x_2 + ... + w_d x_d + b)\n",
        "$$\n",
        "\n",
        "Here, $\\boldsymbol{w} \\in \\mathbb{R}^d$ is a weight vector; $b \\in \\mathbb{R}$ is a bias weight; and $g(.)$ denotes a Heaviside step function (we assume $g(0)=0$)."
      ]
    },
    {
      "cell_type": "markdown",
      "metadata": {
        "id": "kRpaNDA8BWJY",
        "colab_type": "text"
      },
      "source": [
        "For simplicity, let us consider examples with two-dimensional inputs ($d=2$).\n",
        "We can represent an input vector $\\boldsymbol{x} \\in \\mathbb{R}^2$ and weight vector $\\boldsymbol{w} \\in \\mathbb{R}^2$ with `numpy.array`. We also define the bias term $b$."
      ]
    },
    {
      "cell_type": "code",
      "metadata": {
        "id": "kyX1MfRvBD25",
        "colab_type": "code",
        "colab": {}
      },
      "source": [
        "x = np.array([0, 1])\n",
        "w = np.array([1.0, 1.0])\n",
        "b = 1.0"
      ],
      "execution_count": 2,
      "outputs": []
    },
    {
      "cell_type": "markdown",
      "metadata": {
        "id": "P-P2AkbTCI0P",
        "colab_type": "text"
      },
      "source": [
        "The following code computes $\\boldsymbol{w} \\cdot \\boldsymbol{x} + b$,\n"
      ]
    },
    {
      "cell_type": "code",
      "metadata": {
        "id": "4g_115nLCGqs",
        "colab_type": "code",
        "colab": {
          "base_uri": "https://localhost:8080/",
          "height": 34
        },
        "outputId": "f7e71394-a88c-4f8f-86b2-e4c102db7eb5"
      },
      "source": [
        "np.dot(x, w) + b"
      ],
      "execution_count": 3,
      "outputs": [
        {
          "output_type": "execute_result",
          "data": {
            "text/plain": [
              "2.0"
            ]
          },
          "metadata": {
            "tags": []
          },
          "execution_count": 3
        }
      ]
    },
    {
      "cell_type": "markdown",
      "metadata": {
        "id": "UUzhy8YFDIuf",
        "colab_type": "text"
      },
      "source": [
        "Applying Heaviside step function $g$ to the result yields a binary label $\\hat{y}$,"
      ]
    },
    {
      "cell_type": "code",
      "metadata": {
        "id": "KV6a5JT5DH6c",
        "colab_type": "code",
        "colab": {
          "base_uri": "https://localhost:8080/",
          "height": 34
        },
        "outputId": "5225c609-3a56-4190-944e-d966da820734"
      },
      "source": [
        "np.heaviside(np.dot(x, w) + b, 0)"
      ],
      "execution_count": 4,
      "outputs": [
        {
          "output_type": "execute_result",
          "data": {
            "text/plain": [
              "1.0"
            ]
          },
          "metadata": {
            "tags": []
          },
          "execution_count": 4
        }
      ]
    },
    {
      "cell_type": "markdown",
      "metadata": {
        "id": "7Ppo_Jh8EEs3",
        "colab_type": "text"
      },
      "source": [
        "#### Including the bias term into the weight vector\n",
        "\n",
        "For concise implementation, we include a bias term `b` as an additional dimension to the weight vector `w`. More concretely, we append an element with the value of $1$ to each input,\n",
        "$$\n",
        "\\boldsymbol{x} = (0, 1) \\rightarrow \\boldsymbol{x}' = (0, 1, 1)\n",
        "$$\n",
        "and expand the dimension of the weight vector $\\boldsymbol{w} \\in \\mathbb{R}^{3}$.\n",
        "\n",
        "Then, the formula of the single-layer perceptron becomes,\n",
        "$$\n",
        "\\hat{y} = g((w_1, w_2, w_3) \\cdot \\boldsymbol{x}') = g(w_1 x_1 + w_2 x_2 + w_3)\n",
        "$$\n",
        "In other words, $w_1$ and $w_2$ present weights for $x_1$ and $x_2$, respectively, and $w_3$ does a bias weight."
      ]
    },
    {
      "cell_type": "code",
      "metadata": {
        "id": "lmQGDVM2FnGy",
        "colab_type": "code",
        "colab": {}
      },
      "source": [
        "x = np.array([0, 1, 1])\n",
        "w = np.array([1.0, 1.0, 1.0])"
      ],
      "execution_count": 5,
      "outputs": []
    },
    {
      "cell_type": "markdown",
      "metadata": {
        "id": "53zn1dWQFvLw",
        "colab_type": "text"
      },
      "source": [
        "We can simplify the code to predict a binary label $\\hat{y}$,"
      ]
    },
    {
      "cell_type": "code",
      "metadata": {
        "id": "rsgq_oOzF4PZ",
        "colab_type": "code",
        "colab": {
          "base_uri": "https://localhost:8080/",
          "height": 34
        },
        "outputId": "b1a4394d-4b39-46fe-e33e-ce30acabfa73"
      },
      "source": [
        "np.heaviside(np.dot(x, w), 0)"
      ],
      "execution_count": 6,
      "outputs": [
        {
          "output_type": "execute_result",
          "data": {
            "text/plain": [
              "1.0"
            ]
          },
          "metadata": {
            "tags": []
          },
          "execution_count": 6
        }
      ]
    },
    {
      "cell_type": "markdown",
      "metadata": {
        "id": "53SDTFENBA19",
        "colab_type": "text"
      },
      "source": [
        "#### Training a NAND gate\n",
        "\n",
        "Let's train a NAND gate with two inputs. More specifically, we want to find a weight vector $\\boldsymbol{w}$ and a bias weight $b$ of a single-layer perceptron that realizes the truth table of the NAND gate: $\\{0,1\\}^2 \\to \\{0,1\\}$.\n",
        "\n",
        "| $x_1$ | $x_2$ | $y$  |\n",
        "| :---: |:-----:|:----:|\n",
        "| 0 | 0 | 1|\n",
        "| 0 | 1 | 1|\n",
        "| 1 | 0 | 1|\n",
        "| 1 | 1 | 0|\n",
        "\n",
        "We convert the truth table into a training set consisting of all mappings of the NAND gate,\n",
        "$$\n",
        "\\boldsymbol{x}_1 = (0, 0), y_1 = 1 \\\\\n",
        "\\boldsymbol{x}_2 = (0, 1), y_2 = 1 \\\\\n",
        "\\boldsymbol{x}_3 = (1, 0), y_3 = 1 \\\\\n",
        "\\boldsymbol{x}_4 = (1, 1), y_4 = 0 \\\\\n",
        "$$\n",
        "\n",
        "As explained earlier, we include the bias term into the last dimension.\n",
        "$$\n",
        "\\boldsymbol{x}'_1 = (0, 0, 1), y_1 = 1 \\\\\n",
        "\\boldsymbol{x}'_2 = (0, 1, 1), y_2 = 1 \\\\\n",
        "\\boldsymbol{x}'_3 = (1, 0, 1), y_3 = 1 \\\\\n",
        "\\boldsymbol{x}'_4 = (1, 1, 1), y_4 = 0 \\\\\n",
        "$$\n",
        "\n",
        "The code below implements Rosenblatt's perceptron algorithm with a fixed number of iterations (50 times). We use a constant learning rate 0.5 for simplicity.\n"
      ]
    },
    {
      "cell_type": "code",
      "metadata": {
        "colab_type": "code",
        "id": "2ygoUjQYrPoj",
        "colab": {
          "base_uri": "https://localhost:8080/",
          "height": 897
        },
        "outputId": "ddd45cf3-5609-4eb8-bbe6-f935c176f392"
      },
      "source": [
        "import random\n",
        "import numpy as np\n",
        "\n",
        "# Training data for NAND.\n",
        "x = np.array([\n",
        "    [0, 0, 1], [0, 1, 1], [1, 0, 1], [1, 1, 1]\n",
        "    ])\n",
        "y = np.array([1, 1, 1, 0])\n",
        "w = np.array([0.0, 0.0, 0.0])\n",
        "\n",
        "eta = 0.5\n",
        "for t in range(50):\n",
        "    # Pick an instance index (i) at random.\n",
        "    i = random.choice(range(len(y)))\n",
        "    # Predict the label for the instance x[i] with the current parameter w.\n",
        "    y_pred = np.heaviside(np.dot(x[i], w), 0)\n",
        "    # Show the detail of the instance and the current parameter.\n",
        "    print(f'#{t}: i={i}, x={x[i]}, w={w}, y={y[i]}, y_pred={y_pred}, y_err={y[i] - y_pred}')\n",
        "    # Update the parameter.\n",
        "    w += (y[i] - y_pred) * eta * x[i]"
      ],
      "execution_count": 7,
      "outputs": [
        {
          "output_type": "stream",
          "text": [
            "#0: i=2, x=[1 0 1], w=[0. 0. 0.], y=1, y_pred=0.0, y_err=1.0\n",
            "#1: i=3, x=[1 1 1], w=[0.5 0.  0.5], y=0, y_pred=1.0, y_err=-1.0\n",
            "#2: i=3, x=[1 1 1], w=[ 0.  -0.5  0. ], y=0, y_pred=0.0, y_err=0.0\n",
            "#3: i=0, x=[0 0 1], w=[ 0.  -0.5  0. ], y=1, y_pred=0.0, y_err=1.0\n",
            "#4: i=1, x=[0 1 1], w=[ 0.  -0.5  0.5], y=1, y_pred=0.0, y_err=1.0\n",
            "#5: i=1, x=[0 1 1], w=[0. 0. 1.], y=1, y_pred=1.0, y_err=0.0\n",
            "#6: i=1, x=[0 1 1], w=[0. 0. 1.], y=1, y_pred=1.0, y_err=0.0\n",
            "#7: i=0, x=[0 0 1], w=[0. 0. 1.], y=1, y_pred=1.0, y_err=0.0\n",
            "#8: i=2, x=[1 0 1], w=[0. 0. 1.], y=1, y_pred=1.0, y_err=0.0\n",
            "#9: i=2, x=[1 0 1], w=[0. 0. 1.], y=1, y_pred=1.0, y_err=0.0\n",
            "#10: i=2, x=[1 0 1], w=[0. 0. 1.], y=1, y_pred=1.0, y_err=0.0\n",
            "#11: i=1, x=[0 1 1], w=[0. 0. 1.], y=1, y_pred=1.0, y_err=0.0\n",
            "#12: i=1, x=[0 1 1], w=[0. 0. 1.], y=1, y_pred=1.0, y_err=0.0\n",
            "#13: i=0, x=[0 0 1], w=[0. 0. 1.], y=1, y_pred=1.0, y_err=0.0\n",
            "#14: i=0, x=[0 0 1], w=[0. 0. 1.], y=1, y_pred=1.0, y_err=0.0\n",
            "#15: i=1, x=[0 1 1], w=[0. 0. 1.], y=1, y_pred=1.0, y_err=0.0\n",
            "#16: i=0, x=[0 0 1], w=[0. 0. 1.], y=1, y_pred=1.0, y_err=0.0\n",
            "#17: i=0, x=[0 0 1], w=[0. 0. 1.], y=1, y_pred=1.0, y_err=0.0\n",
            "#18: i=0, x=[0 0 1], w=[0. 0. 1.], y=1, y_pred=1.0, y_err=0.0\n",
            "#19: i=3, x=[1 1 1], w=[0. 0. 1.], y=0, y_pred=1.0, y_err=-1.0\n",
            "#20: i=3, x=[1 1 1], w=[-0.5 -0.5  0.5], y=0, y_pred=0.0, y_err=0.0\n",
            "#21: i=3, x=[1 1 1], w=[-0.5 -0.5  0.5], y=0, y_pred=0.0, y_err=0.0\n",
            "#22: i=0, x=[0 0 1], w=[-0.5 -0.5  0.5], y=1, y_pred=1.0, y_err=0.0\n",
            "#23: i=2, x=[1 0 1], w=[-0.5 -0.5  0.5], y=1, y_pred=0.0, y_err=1.0\n",
            "#24: i=3, x=[1 1 1], w=[ 0.  -0.5  1. ], y=0, y_pred=1.0, y_err=-1.0\n",
            "#25: i=0, x=[0 0 1], w=[-0.5 -1.   0.5], y=1, y_pred=1.0, y_err=0.0\n",
            "#26: i=1, x=[0 1 1], w=[-0.5 -1.   0.5], y=1, y_pred=0.0, y_err=1.0\n",
            "#27: i=0, x=[0 0 1], w=[-0.5 -0.5  1. ], y=1, y_pred=1.0, y_err=0.0\n",
            "#28: i=0, x=[0 0 1], w=[-0.5 -0.5  1. ], y=1, y_pred=1.0, y_err=0.0\n",
            "#29: i=1, x=[0 1 1], w=[-0.5 -0.5  1. ], y=1, y_pred=1.0, y_err=0.0\n",
            "#30: i=2, x=[1 0 1], w=[-0.5 -0.5  1. ], y=1, y_pred=1.0, y_err=0.0\n",
            "#31: i=0, x=[0 0 1], w=[-0.5 -0.5  1. ], y=1, y_pred=1.0, y_err=0.0\n",
            "#32: i=1, x=[0 1 1], w=[-0.5 -0.5  1. ], y=1, y_pred=1.0, y_err=0.0\n",
            "#33: i=1, x=[0 1 1], w=[-0.5 -0.5  1. ], y=1, y_pred=1.0, y_err=0.0\n",
            "#34: i=2, x=[1 0 1], w=[-0.5 -0.5  1. ], y=1, y_pred=1.0, y_err=0.0\n",
            "#35: i=1, x=[0 1 1], w=[-0.5 -0.5  1. ], y=1, y_pred=1.0, y_err=0.0\n",
            "#36: i=3, x=[1 1 1], w=[-0.5 -0.5  1. ], y=0, y_pred=0.0, y_err=0.0\n",
            "#37: i=2, x=[1 0 1], w=[-0.5 -0.5  1. ], y=1, y_pred=1.0, y_err=0.0\n",
            "#38: i=3, x=[1 1 1], w=[-0.5 -0.5  1. ], y=0, y_pred=0.0, y_err=0.0\n",
            "#39: i=2, x=[1 0 1], w=[-0.5 -0.5  1. ], y=1, y_pred=1.0, y_err=0.0\n",
            "#40: i=3, x=[1 1 1], w=[-0.5 -0.5  1. ], y=0, y_pred=0.0, y_err=0.0\n",
            "#41: i=0, x=[0 0 1], w=[-0.5 -0.5  1. ], y=1, y_pred=1.0, y_err=0.0\n",
            "#42: i=3, x=[1 1 1], w=[-0.5 -0.5  1. ], y=0, y_pred=0.0, y_err=0.0\n",
            "#43: i=0, x=[0 0 1], w=[-0.5 -0.5  1. ], y=1, y_pred=1.0, y_err=0.0\n",
            "#44: i=1, x=[0 1 1], w=[-0.5 -0.5  1. ], y=1, y_pred=1.0, y_err=0.0\n",
            "#45: i=0, x=[0 0 1], w=[-0.5 -0.5  1. ], y=1, y_pred=1.0, y_err=0.0\n",
            "#46: i=2, x=[1 0 1], w=[-0.5 -0.5  1. ], y=1, y_pred=1.0, y_err=0.0\n",
            "#47: i=0, x=[0 0 1], w=[-0.5 -0.5  1. ], y=1, y_pred=1.0, y_err=0.0\n",
            "#48: i=0, x=[0 0 1], w=[-0.5 -0.5  1. ], y=1, y_pred=1.0, y_err=0.0\n",
            "#49: i=0, x=[0 0 1], w=[-0.5 -0.5  1. ], y=1, y_pred=1.0, y_err=0.0\n"
          ],
          "name": "stdout"
        }
      ]
    },
    {
      "cell_type": "markdown",
      "metadata": {
        "id": "8geTVVpnlu1O",
        "colab_type": "text"
      },
      "source": [
        "We can confirm the learned parameter and classification results."
      ]
    },
    {
      "cell_type": "code",
      "metadata": {
        "colab_type": "code",
        "id": "TYoeshu2rXdK",
        "colab": {
          "base_uri": "https://localhost:8080/",
          "height": 34
        },
        "outputId": "a7e4a777-e1d8-4576-b806-ce062081570f"
      },
      "source": [
        "w"
      ],
      "execution_count": 8,
      "outputs": [
        {
          "output_type": "execute_result",
          "data": {
            "text/plain": [
              "array([-0.5, -0.5,  1. ])"
            ]
          },
          "metadata": {
            "tags": []
          },
          "execution_count": 8
        }
      ]
    },
    {
      "cell_type": "code",
      "metadata": {
        "colab_type": "code",
        "id": "hOFgUFojraFA",
        "colab": {
          "base_uri": "https://localhost:8080/",
          "height": 34
        },
        "outputId": "a72f73e6-4c6d-4a12-b3ee-8b6fc151d967"
      },
      "source": [
        "np.heaviside(np.dot(x, w), 0)"
      ],
      "execution_count": 9,
      "outputs": [
        {
          "output_type": "execute_result",
          "data": {
            "text/plain": [
              "array([1., 1., 1., 0.])"
            ]
          },
          "metadata": {
            "tags": []
          },
          "execution_count": 9
        }
      ]
    },
    {
      "cell_type": "markdown",
      "metadata": {
        "colab_type": "text",
        "id": "bl_ZAEguNzgU"
      },
      "source": [
        "### Single-layer perceptron with mini-batch\n",
        "\n",
        "It is desireable to reduce execusions run by the Python interpreter, which is extremely slow. The common technique to speed up a machine-learning code written in Python is to execute computations within the matrix library (e.g., numpy).\n",
        "\n",
        "The single-layer perceptron makes predictions for four inputs,\n",
        "$$\n",
        "\\hat{y}_1 = g(\\boldsymbol{x}_1 \\cdot \\boldsymbol{w}) \\\\\n",
        "\\hat{y}_2 = g(\\boldsymbol{x}_2 \\cdot \\boldsymbol{w}) \\\\\n",
        "\\hat{y}_3 = g(\\boldsymbol{x}_3 \\cdot \\boldsymbol{w}) \\\\\n",
        "\\hat{y}_4 = g(\\boldsymbol{x}_4 \\cdot \\boldsymbol{w}) \\\\\n",
        "$$\n",
        "\n",
        "Here, we define $\\hat{Y} \\in \\mathbb{R}^{4 \\times 1}$ and $X \\in \\mathbb{R}^{4 \\times d}$ as,\n",
        "$$\n",
        "\\hat{Y} = \\begin{pmatrix} \n",
        "  \\hat{y}_1 \\\\ \n",
        "  \\hat{y}_2 \\\\ \n",
        "  \\hat{y}_3 \\\\ \n",
        "  \\hat{y}_4 \\\\ \n",
        "\\end{pmatrix},\n",
        "X = \\begin{pmatrix} \n",
        "  \\boldsymbol{x}_1 \\\\ \n",
        "  \\boldsymbol{x}_2 \\\\ \n",
        "  \\boldsymbol{x}_3 \\\\ \n",
        "  \\boldsymbol{x}_4 \\\\ \n",
        "\\end{pmatrix}\n",
        "$$\n",
        "\n",
        "Then, we can write the four predictions in one dot-product computation,\n",
        "$$\n",
        "\\hat{Y} = X \\cdot \\boldsymbol{w}\n",
        "$$\n",
        "\n",
        "The code below implements this idea. The function `np.heaviside()` yields a vector corresponding to the four predictions, applying the step function for every element of the argument.\n",
        "\n",
        "This technique is frequently used in mini-batch training."
      ]
    },
    {
      "cell_type": "code",
      "metadata": {
        "id": "mD7f0rdz4wxS",
        "colab_type": "code",
        "colab": {
          "base_uri": "https://localhost:8080/",
          "height": 34
        },
        "outputId": "12eafa93-79e8-41c5-e939-1b97bc2ae811"
      },
      "source": [
        "x = np.array([\n",
        "    [0, 0, 1], [0, 1, 1], [1, 0, 1], [1, 1, 1]\n",
        "    ])\n",
        "w = np.array([1.0, 0.5, -0.5])\n",
        "np.heaviside(np.dot(x, w), 0)"
      ],
      "execution_count": 10,
      "outputs": [
        {
          "output_type": "execute_result",
          "data": {
            "text/plain": [
              "array([0., 0., 1., 1.])"
            ]
          },
          "metadata": {
            "tags": []
          },
          "execution_count": 10
        }
      ]
    },
    {
      "cell_type": "markdown",
      "metadata": {
        "id": "HfwL6Z8q5Cyu",
        "colab_type": "text"
      },
      "source": [
        "The code below applies the Perceptron algorithm with mini-batch."
      ]
    },
    {
      "cell_type": "code",
      "metadata": {
        "colab_type": "code",
        "id": "2fK-_WimtPwb",
        "colab": {
          "base_uri": "https://localhost:8080/",
          "height": 193
        },
        "outputId": "04d0cfd3-d0f6-41ef-8ad5-be11e23c588d"
      },
      "source": [
        "import numpy as np\n",
        "\n",
        "# Training data for NAND.\n",
        "x = np.array([\n",
        "    [0, 0, 1], [0, 1, 1], [1, 0, 1], [1, 1, 1]\n",
        "    ])\n",
        "y = np.array([1, 1, 1, 0])\n",
        "w = np.array([0.0, 0.0, 0.0])\n",
        "\n",
        "eta = 0.5\n",
        "for t in range(10):\n",
        "    y_pred = np.heaviside(np.dot(x, w), 0)\n",
        "    print(f'#{t}: w={w}, Y={y}, Ypred={y_pred}, Yerr={y-y_pred}, dw={np.dot((y - y_pred), x)}')\n",
        "    w += eta * np.dot((y - y_pred), x)"
      ],
      "execution_count": 11,
      "outputs": [
        {
          "output_type": "stream",
          "text": [
            "#0: w=[0. 0. 0.], Y=[1 1 1 0], Ypred=[0. 0. 0. 0.], Yerr=[1. 1. 1. 0.], dw=[1. 1. 3.]\n",
            "#1: w=[0.5 0.5 1.5], Y=[1 1 1 0], Ypred=[1. 1. 1. 1.], Yerr=[ 0.  0.  0. -1.], dw=[-1. -1. -1.]\n",
            "#2: w=[0. 0. 1.], Y=[1 1 1 0], Ypred=[1. 1. 1. 1.], Yerr=[ 0.  0.  0. -1.], dw=[-1. -1. -1.]\n",
            "#3: w=[-0.5 -0.5  0.5], Y=[1 1 1 0], Ypred=[1. 0. 0. 0.], Yerr=[0. 1. 1. 0.], dw=[1. 1. 2.]\n",
            "#4: w=[0.  0.  1.5], Y=[1 1 1 0], Ypred=[1. 1. 1. 1.], Yerr=[ 0.  0.  0. -1.], dw=[-1. -1. -1.]\n",
            "#5: w=[-0.5 -0.5  1. ], Y=[1 1 1 0], Ypred=[1. 1. 1. 0.], Yerr=[0. 0. 0. 0.], dw=[0. 0. 0.]\n",
            "#6: w=[-0.5 -0.5  1. ], Y=[1 1 1 0], Ypred=[1. 1. 1. 0.], Yerr=[0. 0. 0. 0.], dw=[0. 0. 0.]\n",
            "#7: w=[-0.5 -0.5  1. ], Y=[1 1 1 0], Ypred=[1. 1. 1. 0.], Yerr=[0. 0. 0. 0.], dw=[0. 0. 0.]\n",
            "#8: w=[-0.5 -0.5  1. ], Y=[1 1 1 0], Ypred=[1. 1. 1. 0.], Yerr=[0. 0. 0. 0.], dw=[0. 0. 0.]\n",
            "#9: w=[-0.5 -0.5  1. ], Y=[1 1 1 0], Ypred=[1. 1. 1. 0.], Yerr=[0. 0. 0. 0.], dw=[0. 0. 0.]\n"
          ],
          "name": "stdout"
        }
      ]
    },
    {
      "cell_type": "markdown",
      "metadata": {
        "id": "CWvR709WnUlH",
        "colab_type": "text"
      },
      "source": [
        "We can confirm the learned parameter and classification results."
      ]
    },
    {
      "cell_type": "code",
      "metadata": {
        "colab_type": "code",
        "id": "_x4p1BldtQ-K",
        "colab": {
          "base_uri": "https://localhost:8080/",
          "height": 34
        },
        "outputId": "90f5ba35-5326-439b-ed3b-c599e95097f1"
      },
      "source": [
        "w"
      ],
      "execution_count": 12,
      "outputs": [
        {
          "output_type": "execute_result",
          "data": {
            "text/plain": [
              "array([-0.5, -0.5,  1. ])"
            ]
          },
          "metadata": {
            "tags": []
          },
          "execution_count": 12
        }
      ]
    },
    {
      "cell_type": "code",
      "metadata": {
        "colab_type": "code",
        "id": "E-P2RpWrtVyf",
        "colab": {
          "base_uri": "https://localhost:8080/",
          "height": 34
        },
        "outputId": "26d81300-f714-4e38-f5cd-34a69cdcc82b"
      },
      "source": [
        "np.heaviside(np.dot(x, w), 0)"
      ],
      "execution_count": 13,
      "outputs": [
        {
          "output_type": "execute_result",
          "data": {
            "text/plain": [
              "array([1., 1., 1., 0.])"
            ]
          },
          "metadata": {
            "tags": []
          },
          "execution_count": 13
        }
      ]
    },
    {
      "cell_type": "markdown",
      "metadata": {
        "colab_type": "text",
        "id": "nkxBcCSTtDvm"
      },
      "source": [
        "### Stochastic gradient descent (SGD) with mini-batch"
      ]
    },
    {
      "cell_type": "code",
      "metadata": {
        "colab_type": "code",
        "id": "bltpfNRctjV5",
        "colab": {
          "base_uri": "https://localhost:8080/",
          "height": 1000
        },
        "outputId": "380ece37-489e-4a93-817a-0f73a5a4e154"
      },
      "source": [
        "import numpy as np\n",
        "\n",
        "def sigmoid(v):\n",
        "    return 1.0 / (1 + np.exp(-v))\n",
        "\n",
        "# Training data for NAND.\n",
        "x = np.array([\n",
        "    [0, 0, 1], [0, 1, 1], [1, 0, 1], [1, 1, 1]\n",
        "    ])\n",
        "y = np.array([1, 1, 1, 0])\n",
        "w = np.array([0.0, 0.0, 0.0])\n",
        "\n",
        "eta = 0.5\n",
        "for t in range(100):\n",
        "    y_pred = sigmoid(np.dot(x, w))\n",
        "    print(f'#{t}: w={w}, Y={y}, Ypred={y_pred}, Yerr={y-y_pred}, dw={np.dot((y - y_pred), x)}')\n",
        "    w -= eta * np.dot((y_pred - y), x)"
      ],
      "execution_count": 14,
      "outputs": [
        {
          "output_type": "stream",
          "text": [
            "#0: w=[0. 0. 0.], Y=[1 1 1 0], Ypred=[0.5 0.5 0.5 0.5], Yerr=[ 0.5  0.5  0.5 -0.5], dw=[0. 0. 1.]\n",
            "#1: w=[0.  0.  0.5], Y=[1 1 1 0], Ypred=[0.62245933 0.62245933 0.62245933 0.62245933], Yerr=[ 0.37754067  0.37754067  0.37754067 -0.62245933], dw=[-0.24491866 -0.24491866  0.51016268]\n",
            "#2: w=[-0.12245933 -0.12245933  0.75508134], Y=[1 1 1 0], Ypred=[0.68028489 0.65308376 0.65308376 0.62484461], Yerr=[ 0.31971511  0.34691624  0.34691624 -0.62484461], dw=[-0.27792836 -0.27792836  0.38870299]\n",
            "#3: w=[-0.26142351 -0.26142351  0.94943283], Y=[1 1 1 0], Ypred=[0.7210011  0.66552394 0.66552394 0.6050581 ], Yerr=[ 0.2789989   0.33447606  0.33447606 -0.6050581 ], dw=[-0.27058204 -0.27058204  0.34289291]\n",
            "#4: w=[-0.39671453 -0.39671453  1.12087929], Y=[1 1 1 0], Ypred=[0.75415178 0.67352346 0.67352346 0.58113885], Yerr=[ 0.24584822  0.32647654  0.32647654 -0.58113885], dw=[-0.25466231 -0.25466231  0.31766244]\n",
            "#5: w=[-0.52404569 -0.52404569  1.27971051], Y=[1 1 1 0], Ypred=[0.7824005  0.68041178 0.68041178 0.55764729], Yerr=[ 0.2175995   0.31958822  0.31958822 -0.55764729], dw=[-0.23805907 -0.23805907  0.29912865]\n",
            "#6: w=[-0.64307523 -0.64307523  1.42927484], Y=[1 1 1 0], Ypred=[0.8067883  0.68701473 0.68701473 0.53572014], Yerr=[ 0.1932117   0.31298527  0.31298527 -0.53572014], dw=[-0.22273487 -0.22273487  0.2834621 ]\n",
            "#7: w=[-0.75444266 -0.75444266  1.57100588], Y=[1 1 1 0], Ypred=[0.82792696 0.69350632 0.69350632 0.51552515], Yerr=[ 0.17207304  0.30649368  0.30649368 -0.51552515], dw=[-0.20903147 -0.20903147  0.26953525]\n",
            "#8: w=[-0.8589584  -0.8589584   1.70577351], Y=[1 1 1 0], Ypred=[0.84628729 0.69989861 0.69989861 0.49696422], Yerr=[ 0.15371271  0.30010139  0.30010139 -0.49696422], dw=[-0.19686283 -0.19686283  0.25695127]\n",
            "#9: w=[-0.95738981 -0.95738981  1.83424915], Y=[1 1 1 0], Ypred=[0.86226714 0.70617098 0.70617098 0.47987825], Yerr=[ 0.13773286  0.29382902  0.29382902 -0.47987825], dw=[-0.18604923 -0.18604923  0.24551265]\n",
            "#10: w=[-1.05041443 -1.05041443  1.95700547], Y=[1 1 1 0], Ypred=[0.87620851 0.71230208 0.71230208 0.46410601], Yerr=[ 0.12379149  0.28769792  0.28769792 -0.46410601], dw=[-0.17640809 -0.17640809  0.23508133]\n",
            "#11: w=[-1.13861847 -1.13861847  2.07454614], Y=[1 1 1 0], Ypred=[0.88840447 0.71827633 0.71827633 0.44950007], Yerr=[ 0.11159553  0.28172367  0.28172367 -0.44950007], dw=[-0.16777641 -0.16777641  0.22554279]\n",
            "#12: w=[-1.22250667 -1.22250667  2.18731753], Y=[1 1 1 0], Ypred=[0.89910483 0.72408398 0.72408398 0.43593021], Yerr=[ 0.10089517  0.27591602  0.27591602 -0.43593021], dw=[-0.1600142  -0.1600142   0.21679699]\n",
            "#13: w=[-1.30251377 -1.30251377  2.29571603], Y=[1 1 1 0], Ypred=[0.90852162 0.72971996 0.72971996 0.4232828 ], Yerr=[ 0.09147838  0.27028004  0.27028004 -0.4232828 ], dw=[-0.15300276 -0.15300276  0.20875565]\n",
            "#14: w=[-1.37901515 -1.37901515  2.40009385], Y=[1 1 1 0], Ypred=[0.91683446 0.73518266 0.73518266 0.41145918], Yerr=[ 0.08316554  0.26481734  0.26481734 -0.41145918], dw=[-0.14664185 -0.14664185  0.20134103]\n",
            "#15: w=[-1.45233608 -1.45233608  2.50076437], Y=[1 1 1 0], Ypred=[0.92419539 0.74047297 0.74047297 0.40037382], Yerr=[ 0.07580461  0.25952703  0.25952703 -0.40037382], dw=[-0.14084679 -0.14084679  0.19448485]\n",
            "#16: w=[-1.52275947 -1.52275947  2.59800679], Y=[1 1 1 0], Ypred=[0.93073319 0.74559353 0.74559353 0.38995244], Yerr=[ 0.06926681  0.25440647  0.25440647 -0.38995244], dw=[-0.13554597 -0.13554597  0.18812731]\n",
            "#17: w=[-1.59053245 -1.59053245  2.69207045], Y=[1 1 1 0], Ypred=[0.93655711 0.75054817 0.75054817 0.38013048], Yerr=[ 0.06344289  0.24945183  0.24945183 -0.38013048], dw=[-0.13067864 -0.13067864  0.18221607]\n",
            "#18: w=[-1.65587178 -1.65587178  2.78317849], Y=[1 1 1 0], Ypred=[0.94176002 0.75534152 0.75534152 0.37085163], Yerr=[ 0.05823998  0.24465848  0.24465848 -0.37085163], dw=[-0.12619314 -0.12619314  0.17670531]\n",
            "#19: w=[-1.71896835 -1.71896835  2.87153114], Y=[1 1 1 0], Ypred=[0.94642104 0.75997871 0.75997871 0.36206664], Yerr=[ 0.05357896  0.24002129  0.24002129 -0.36206664], dw=[-0.12204535 -0.12204535  0.1715549 ]\n",
            "#20: w=[-1.77999102 -1.77999102  2.95730859], Y=[1 1 1 0], Ypred=[0.95060778 0.76446515 0.76446515 0.35373229], Yerr=[ 0.04939222  0.23553485  0.23553485 -0.35373229], dw=[-0.11819744 -0.11819744  0.16672963]\n",
            "#21: w=[-1.83908974 -1.83908974  3.04067341], Y=[1 1 1 0], Ypred=[0.95437816 0.76880639 0.76880639 0.34581051], Yerr=[ 0.04562184  0.23119361  0.23119361 -0.34581051], dw=[-0.1146169  -0.1146169   0.16219855]\n",
            "#22: w=[-1.89639819 -1.89639819  3.12177268], Y=[1 1 1 0], Ypred=[0.95778197 0.77300798 0.77300798 0.33826765], Yerr=[ 0.04221803  0.22699202  0.22699202 -0.33826765], dw=[-0.11127563 -0.11127563  0.15793443]\n",
            "#23: w=[-1.95203601 -1.95203601  3.2007399 ], Y=[1 1 1 0], Ypred=[0.96086211 0.77707542 0.77707542 0.33107387], Yerr=[ 0.03913789  0.22292458  0.22292458 -0.33107387], dw=[-0.10814929 -0.10814929  0.15391319]\n",
            "#24: w=[-2.00611065 -2.00611065  3.27769649], Y=[1 1 1 0], Ypred=[0.96365569 0.7810141  0.7810141  0.32420257], Yerr=[ 0.03634431  0.2189859   0.2189859  -0.32420257], dw=[-0.10521667 -0.10521667  0.15011354]\n",
            "#25: w=[-2.05871899 -2.05871899  3.35275326], Y=[1 1 1 0], Ypred=[0.96619488 0.78482925 0.78482925 0.31763003], Yerr=[ 0.03380512  0.21517075  0.21517075 -0.31763003], dw=[-0.10245928 -0.10245928  0.14651659]\n",
            "#26: w=[-2.10994863 -2.10994863  3.42601156], Y=[1 1 1 0], Ypred=[0.96850764 0.78852593 0.78852593 0.31133494], Yerr=[ 0.03149236  0.21147407  0.21147407 -0.31133494], dw=[-0.09986088 -0.09986088  0.14310554]\n",
            "#27: w=[-2.15987907 -2.15987907  3.49756433], Y=[1 1 1 0], Ypred=[0.97061839 0.79210903 0.79210903 0.30529817], Yerr=[ 0.02938161  0.20789097  0.20789097 -0.30529817], dw=[-0.0974072  -0.0974072   0.13986539]\n",
            "#28: w=[-2.20858267 -2.20858267  3.56749702], Y=[1 1 1 0], Ypred=[0.97254844 0.7955832  0.7955832  0.29950244], Yerr=[ 0.02745156  0.2044168   0.2044168  -0.29950244], dw=[-0.09508564 -0.09508564  0.13678272]\n",
            "#29: w=[-2.25612548 -2.25612548  3.63588838], Y=[1 1 1 0], Ypred=[0.97431652 0.79895292 0.79895292 0.29393211], Yerr=[ 0.02568348  0.20104708  0.20104708 -0.29393211], dw=[-0.09288503 -0.09288503  0.13384553]\n",
            "#30: w=[-2.302568   -2.302568    3.70281115], Y=[1 1 1 0], Ypred=[0.97593908 0.80222247 0.80222247 0.28857298], Yerr=[ 0.02406092  0.19777753  0.19777753 -0.28857298], dw=[-0.09079545 -0.09079545  0.13104301]\n",
            "#31: w=[-2.34796572 -2.34796572  3.76833265], Y=[1 1 1 0], Ypred=[0.97743061 0.80539593 0.80539593 0.28341212], Yerr=[ 0.02256939  0.19460407  0.19460407 -0.28341212], dw=[-0.08880806 -0.08880806  0.1283654 ]\n",
            "#32: w=[-2.39236975 -2.39236975  3.83251535], Y=[1 1 1 0], Ypred=[0.97880393 0.8084772  0.8084772  0.27843775], Yerr=[ 0.02119607  0.1915228   0.1915228  -0.27843775], dw=[-0.08691495 -0.08691495  0.12580393]\n",
            "#33: w=[-2.43582722 -2.43582722  3.89541732], Y=[1 1 1 0], Ypred=[0.98007038 0.81146997 0.81146997 0.27363906], Yerr=[ 0.01992962  0.18853003  0.18853003 -0.27363906], dw=[-0.08510903 -0.08510903  0.12335062]\n",
            "#34: w=[-2.47838174 -2.47838174  3.95709262], Y=[1 1 1 0], Ypred=[0.98124005 0.81437779 0.81437779 0.26900614], Yerr=[ 0.01875995  0.18562221  0.18562221 -0.26900614], dw=[-0.08338393 -0.08338393  0.12099823]\n",
            "#35: w=[-2.5200737  -2.5200737   4.01759174], Y=[1 1 1 0], Ypred=[0.98232189 0.81720401 0.81720401 0.26452989], Yerr=[ 0.01767811  0.18279599  0.18279599 -0.26452989], dw=[-0.0817339  -0.0817339   0.11874021]\n",
            "#36: w=[-2.56094065 -2.56094065  4.07696185], Y=[1 1 1 0], Ypred=[0.9833239  0.81995183 0.81995183 0.2602019 ], Yerr=[ 0.0166761   0.18004817  0.18004817 -0.2602019 ], dw=[-0.08015373 -0.08015373  0.11657054]\n",
            "#37: w=[-2.60101752 -2.60101752  4.13524711], Y=[1 1 1 0], Ypred=[0.98425322 0.82262431 0.82262431 0.25601441], Yerr=[ 0.01574678  0.17737569  0.17737569 -0.25601441], dw=[-0.07863873 -0.07863873  0.11448375]\n",
            "#38: w=[-2.64033688 -2.64033688  4.19248899], Y=[1 1 1 0], Ypred=[0.98511624 0.82522435 0.82522435 0.25196025], Yerr=[ 0.01488376  0.17477565  0.17477565 -0.25196025], dw=[-0.0771846  -0.0771846   0.11247482]\n",
            "#39: w=[-2.67892918 -2.67892918  4.24872639], Y=[1 1 1 0], Ypred=[0.9859187  0.8277547  0.8277547  0.24803275], Yerr=[ 0.0140813   0.1722453   0.1722453  -0.24803275], dw=[-0.07578745 -0.07578745  0.11053915]\n",
            "#40: w=[-2.7168229  -2.7168229   4.30399597], Y=[1 1 1 0], Ypred=[0.98666576 0.830218   0.830218   0.24422573], Yerr=[ 0.01333424  0.169782    0.169782   -0.24422573], dw=[-0.07444373 -0.07444373  0.10867251]\n",
            "#41: w=[-2.75404477 -2.75404477  4.35833222], Y=[1 1 1 0], Ypred=[0.98736205 0.83261676 0.83261676 0.24053341], Yerr=[ 0.01263795  0.16738324  0.16738324 -0.24053341], dw=[-0.07315018 -0.07315018  0.10687101]\n",
            "#42: w=[-2.79061986 -2.79061986  4.41176773], Y=[1 1 1 0], Ypred=[0.98801175 0.83495337 0.83495337 0.23695044], Yerr=[ 0.01198825  0.16504663  0.16504663 -0.23695044], dw=[-0.07190381 -0.07190381  0.10513106]\n",
            "#43: w=[-2.82657176 -2.82657176  4.46433326], Y=[1 1 1 0], Ypred=[0.98861866 0.83723011 0.83723011 0.23347179], Yerr=[ 0.01138134  0.16276989  0.16276989 -0.23347179], dw=[-0.0707019  -0.0707019   0.10344933]\n",
            "#44: w=[-2.86192271 -2.86192271  4.51605793], Y=[1 1 1 0], Ypred=[0.98918618 0.83944915 0.83944915 0.23009276], Yerr=[ 0.01081382  0.16055085  0.16055085 -0.23009276], dw=[-0.06954191 -0.06954191  0.10182275]\n",
            "#45: w=[-2.89669367 -2.89669367  4.5669693 ], Y=[1 1 1 0], Ypred=[0.98971743 0.84161257 0.84161257 0.22680897], Yerr=[ 0.01028257  0.15838743  0.15838743 -0.22680897], dw=[-0.06842153 -0.06842153  0.10024847]\n",
            "#46: w=[-2.93090444 -2.93090444  4.61709354], Y=[1 1 1 0], Ypred=[0.99021521 0.84372233 0.84372233 0.22361628], Yerr=[ 0.00978479  0.15627767  0.15627767 -0.22361628], dw=[-0.06733861 -0.06733861  0.09872384]\n",
            "#47: w=[-2.96457374 -2.96457374  4.66645546], Y=[1 1 1 0], Ypred=[0.99068209 0.84578034 0.84578034 0.22051082], Yerr=[ 0.00931791  0.15421966  0.15421966 -0.22051082], dw=[-0.06629116 -0.06629116  0.09724641]\n",
            "#48: w=[-2.99771932 -2.99771932  4.71507866], Y=[1 1 1 0], Ypred=[0.99112039 0.84778839 0.84778839 0.21748895], Yerr=[ 0.00887961  0.15221161  0.15221161 -0.21748895], dw=[-0.06527734 -0.06527734  0.09581388]\n",
            "#49: w=[-3.03035799 -3.03035799  4.7629856 ], Y=[1 1 1 0], Ypred=[0.99153224 0.84974821 0.84974821 0.21454724], Yerr=[ 0.00846776  0.15025179  0.15025179 -0.21454724], dw=[-0.06429545 -0.06429545  0.0944241 ]\n",
            "#50: w=[-3.06250572 -3.06250572  4.81019765], Y=[1 1 1 0], Ypred=[0.99191958 0.85166145 0.85166145 0.21168244], Yerr=[ 0.00808042  0.14833855  0.14833855 -0.21168244], dw=[-0.06334389 -0.06334389  0.09307508]\n",
            "#51: w=[-3.09417766 -3.09417766  4.85673519], Y=[1 1 1 0], Ypred=[0.99228417 0.85352968 0.85352968 0.2088915 ], Yerr=[ 0.00771583  0.14647032  0.14647032 -0.2088915 ], dw=[-0.06242119 -0.06242119  0.09176496]\n",
            "#52: w=[-3.12538826 -3.12538826  4.90261767], Y=[1 1 1 0], Ypred=[0.99262764 0.85535442 0.85535442 0.20617154], Yerr=[ 0.00737236  0.14464558  0.14464558 -0.20617154], dw=[-0.06152596 -0.06152596  0.09049198]\n",
            "#53: w=[-3.15615124 -3.15615124  4.94786366], Y=[1 1 1 0], Ypred=[0.99295148 0.8571371  0.8571371  0.20351983], Yerr=[ 0.00704852  0.1428629   0.1428629  -0.20351983], dw=[-0.06065692 -0.06065692  0.0892545 ]\n",
            "#54: w=[-3.1864797  -3.1864797   4.99249092], Y=[1 1 1 0], Ypred=[0.99325704 0.8588791  0.8588791  0.20093377], Yerr=[ 0.00674296  0.1411209   0.1411209  -0.20093377], dw=[-0.05981287 -0.05981287  0.08805098]\n",
            "#55: w=[-3.21638613 -3.21638613  5.03651641], Y=[1 1 1 0], Ypred=[0.99354559 0.86058176 0.86058176 0.19841092], Yerr=[ 0.00645441  0.13941824  0.13941824 -0.19841092], dw=[-0.05899268 -0.05899268  0.08687997]\n",
            "#56: w=[-3.24588247 -3.24588247  5.07995639], Y=[1 1 1 0], Ypred=[0.99381827 0.86224633 0.86224633 0.19594896], Yerr=[ 0.00618173  0.13775367  0.13775367 -0.19594896], dw=[-0.05819529 -0.05819529  0.08574011]\n",
            "#57: w=[-3.27498012 -3.27498012  5.12282645], Y=[1 1 1 0], Ypred=[0.99407615 0.86387404 0.86387404 0.19354567], Yerr=[ 0.00592385  0.13612596  0.13612596 -0.19354567], dw=[-0.0574197  -0.0574197   0.08463011]\n",
            "#58: w=[-3.30368997 -3.30368997  5.1651415 ], Y=[1 1 1 0], Ypred=[0.99432019 0.86546605 0.86546605 0.19119895], Yerr=[ 0.00567981  0.13453395  0.13453395 -0.19119895], dw=[-0.056665   -0.056665    0.08354876]\n",
            "#59: w=[-3.33202247 -3.33202247  5.20691588], Y=[1 1 1 0], Ypred=[0.99455131 0.86702347 0.86702347 0.18890682], Yerr=[ 0.00544869  0.13297653  0.13297653 -0.18890682], dw=[-0.05593029 -0.05593029  0.08249493]\n",
            "#60: w=[-3.35998762 -3.35998762  5.24816335], Y=[1 1 1 0], Ypred=[0.99477033 0.86854739 0.86854739 0.18666737], Yerr=[ 0.00522967  0.13145261  0.13145261 -0.18666737], dw=[-0.05521476 -0.05521476  0.08146752]\n",
            "#61: w=[-3.387595   -3.387595    5.28889711], Y=[1 1 1 0], Ypred=[0.99497802 0.87003883 0.87003883 0.1844788 ], Yerr=[ 0.00502198  0.12996117  0.12996117 -0.1844788 ], dw=[-0.05451763 -0.05451763  0.08046552]\n",
            "#62: w=[-3.41485381 -3.41485381  5.32912987], Y=[1 1 1 0], Ypred=[0.99517511 0.87149878 0.87149878 0.18233937], Yerr=[ 0.00482489  0.12850122  0.12850122 -0.18233937], dw=[-0.05383815 -0.05383815  0.07948797]\n",
            "#63: w=[-3.44177289 -3.44177289  5.36887385], Y=[1 1 1 0], Ypred=[0.99536223 0.87292819 0.87292819 0.18024745], Yerr=[ 0.00463777  0.12707181  0.12707181 -0.18024745], dw=[-0.05317564 -0.05317564  0.07853393]\n",
            "#64: w=[-3.46836071 -3.46836071  5.40814082], Y=[1 1 1 0], Ypred=[0.99554002 0.87432798 0.87432798 0.17820146], Yerr=[ 0.00445998  0.12567202  0.12567202 -0.17820146], dw=[-0.05252944 -0.05252944  0.07760255]\n",
            "#65: w=[-3.49462543 -3.49462543  5.4469421 ], Y=[1 1 1 0], Ypred=[0.99570903 0.87569903 0.87569903 0.1761999 ], Yerr=[ 0.00429097  0.12430097  0.12430097 -0.1761999 ], dw=[-0.05189893 -0.05189893  0.07669301]\n",
            "#66: w=[-3.52057489 -3.52057489  5.4852886 ], Y=[1 1 1 0], Ypred=[0.99586979 0.87704218 0.87704218 0.17424134], Yerr=[ 0.00413021  0.12295782  0.12295782 -0.17424134], dw=[-0.05128352 -0.05128352  0.07580451]\n",
            "#67: w=[-3.54621665 -3.54621665  5.52319085], Y=[1 1 1 0], Ypred=[0.9960228  0.87835824 0.87835824 0.17232441], Yerr=[ 0.0039772   0.12164176  0.12164176 -0.17232441], dw=[-0.05068265 -0.05068265  0.07493631]\n",
            "#68: w=[-3.57155798 -3.57155798  5.56065901], Y=[1 1 1 0], Ypred=[0.9961685 0.879648  0.879648  0.1704478], Yerr=[ 0.0038315  0.120352   0.120352  -0.1704478], dw=[-0.0500958  -0.0500958   0.07408771]\n",
            "#69: w=[-3.59660588 -3.59660588  5.59770286], Y=[1 1 1 0], Ypred=[0.99630732 0.88091221 0.88091221 0.16861025], Yerr=[ 0.00369268  0.11908779  0.11908779 -0.16861025], dw=[-0.04952245 -0.04952245  0.07325802]\n",
            "#70: w=[-3.6213671  -3.6213671   5.63433188], Y=[1 1 1 0], Ypred=[0.99643966 0.88215159 0.88215159 0.16681055], Yerr=[ 0.00356034  0.11784841  0.11784841 -0.16681055], dw=[-0.04896214 -0.04896214  0.07244662]\n",
            "#71: w=[-3.64584817 -3.64584817  5.67055518], Y=[1 1 1 0], Ypred=[0.99656588 0.88336685 0.88336685 0.16504755], Yerr=[ 0.00343412  0.11663315  0.11663315 -0.16504755], dw=[-0.0484144  -0.0484144   0.07165287]\n",
            "#72: w=[-3.67005537 -3.67005537  5.70638162], Y=[1 1 1 0], Ypred=[0.99668634 0.88455865 0.88455865 0.16332015], Yerr=[ 0.00331366  0.11544135  0.11544135 -0.16332015], dw=[-0.0478788  -0.0478788   0.07087621]\n",
            "#73: w=[-3.69399477 -3.69399477  5.74181972], Y=[1 1 1 0], Ypred=[0.99680134 0.88572766 0.88572766 0.16162728], Yerr=[ 0.00319866  0.11427234  0.11427234 -0.16162728], dw=[-0.04735494 -0.04735494  0.07011606]\n",
            "#74: w=[-3.71767224 -3.71767224  5.77687776], Y=[1 1 1 0], Ypred=[0.9969112  0.88687449 0.88687449 0.15996793], Yerr=[ 0.0030888   0.11312551  0.11312551 -0.15996793], dw=[-0.04684241 -0.04684241  0.06937191]\n",
            "#75: w=[-3.74109345 -3.74109345  5.81156371], Y=[1 1 1 0], Ypred=[0.99701618 0.88799974 0.88799974 0.15834111], Yerr=[ 0.00298382  0.11200026  0.11200026 -0.15834111], dw=[-0.04634085 -0.04634085  0.06864323]\n",
            "#76: w=[-3.76426387 -3.76426387  5.84588532], Y=[1 1 1 0], Ypred=[0.99711656 0.88910401 0.88910401 0.15674589], Yerr=[ 0.00288344  0.11089599  0.11089599 -0.15674589], dw=[-0.04584989 -0.04584989  0.06792954]\n",
            "#77: w=[-3.78718882 -3.78718882  5.87985009], Y=[1 1 1 0], Ypred=[0.99721259 0.89018784 0.89018784 0.15518135], Yerr=[ 0.00278741  0.10981216  0.10981216 -0.15518135], dw=[-0.0453692  -0.0453692   0.06723037]\n",
            "#78: w=[-3.80987342 -3.80987342  5.91346528], Y=[1 1 1 0], Ypred=[0.99730448 0.8912518  0.8912518  0.15364664], Yerr=[ 0.00269552  0.1087482   0.1087482  -0.15364664], dw=[-0.04489844 -0.04489844  0.06654528]\n",
            "#79: w=[-3.83232263 -3.83232263  5.94673792], Y=[1 1 1 0], Ypred=[0.99739246 0.89229639 0.89229639 0.15214091], Yerr=[ 0.00260754  0.10770361  0.10770361 -0.15214091], dw=[-0.0444373  -0.0444373   0.06587384]\n",
            "#80: w=[-3.85454128 -3.85454128  5.97967484], Y=[1 1 1 0], Ypred=[0.99747673 0.89332213 0.89332213 0.15066335], Yerr=[ 0.00252327  0.10667787  0.10667787 -0.15066335], dw=[-0.04398549 -0.04398549  0.06521564]\n",
            "#81: w=[-3.87653403 -3.87653403  6.01228266], Y=[1 1 1 0], Ypred=[0.99755749 0.89432951 0.89432951 0.1492132 ], Yerr=[ 0.00244251  0.10567049  0.10567049 -0.1492132 ], dw=[-0.04354271 -0.04354271  0.06457029]\n",
            "#82: w=[-3.89830539 -3.89830539  6.04456781], Y=[1 1 1 0], Ypred=[0.9976349  0.895319   0.895319   0.14778971], Yerr=[ 0.0023651   0.104681    0.104681   -0.14778971], dw=[-0.0431087 -0.0431087  0.0639374]\n",
            "#83: w=[-3.91985974 -3.91985974  6.07653651], Y=[1 1 1 0], Ypred=[0.99770914 0.89629105 0.89629105 0.14639214], Yerr=[ 0.00229086  0.10370895  0.10370895 -0.14639214], dw=[-0.04268319 -0.04268319  0.06331661]\n",
            "#84: w=[-3.94120133 -3.94120133  6.10819481], Y=[1 1 1 0], Ypred=[0.99778037 0.89724611 0.89724611 0.14501982], Yerr=[ 0.00221963  0.10275389  0.10275389 -0.14501982], dw=[-0.04226593 -0.04226593  0.06270758]\n",
            "#85: w=[-3.9623343 -3.9623343  6.1395486], Y=[1 1 1 0], Ypred=[0.99784874 0.89818461 0.89818461 0.14367207], Yerr=[ 0.00215126  0.10181539  0.10181539 -0.14367207], dw=[-0.04185667 -0.04185667  0.06210998]\n",
            "#86: w=[-3.98326264 -3.98326264  6.17060359], Y=[1 1 1 0], Ypred=[0.99791438 0.89910695 0.89910695 0.14234824], Yerr=[ 0.00208562  0.10089305  0.10089305 -0.14234824], dw=[-0.04145519 -0.04145519  0.06152347]\n",
            "#87: w=[-4.00399023 -4.00399023  6.20136533], Y=[1 1 1 0], Ypred=[0.99797744 0.90001355 0.90001355 0.14104772], Yerr=[ 0.00202256  0.09998645  0.09998645 -0.14104772], dw=[-0.04106126 -0.04106126  0.06094776]\n",
            "#88: w=[-4.02452086 -4.02452086  6.23183921], Y=[1 1 1 0], Ypred=[0.99803802 0.90090478 0.90090478 0.13976989], Yerr=[ 0.00196198  0.09909522  0.09909522 -0.13976989], dw=[-0.04067467 -0.04067467  0.06038253]\n",
            "#89: w=[-4.0448582  -4.0448582   6.26203047], Y=[1 1 1 0], Ypred=[0.99809626 0.90178102 0.90178102 0.13851418], Yerr=[ 0.00190374  0.09821898  0.09821898 -0.13851418], dw=[-0.0402952  -0.0402952   0.05982751]\n",
            "#90: w=[-4.0650058  -4.0650058   6.29194423], Y=[1 1 1 0], Ypred=[0.99815226 0.90264264 0.90264264 0.13728002], Yerr=[ 0.00184774  0.09735736  0.09735736 -0.13728002], dw=[-0.03992267 -0.03992267  0.05928243]\n",
            "#91: w=[-4.08496713 -4.08496713  6.32158544], Y=[1 1 1 0], Ypred=[0.99820613 0.90348999 0.90348999 0.13606688], Yerr=[ 0.00179387  0.09651001  0.09651001 -0.13606688], dw=[-0.03955687 -0.03955687  0.058747  ]\n",
            "#92: w=[-4.10474557 -4.10474557  6.35095895], Y=[1 1 1 0], Ypred=[0.99825797 0.90432341 0.90432341 0.13487423], Yerr=[ 0.00174203  0.09567659  0.09567659 -0.13487423], dw=[-0.03919764 -0.03919764  0.05822099]\n",
            "#93: w=[-4.12434438 -4.12434438  6.38006944], Y=[1 1 1 0], Ypred=[0.99830786 0.90514322 0.90514322 0.13370156], Yerr=[ 0.00169214  0.09485678  0.09485678 -0.13370156], dw=[-0.03884478 -0.03884478  0.05770413]\n",
            "#94: w=[-4.14376678 -4.14376678  6.40892151], Y=[1 1 1 0], Ypred=[0.99835591 0.90594976 0.90594976 0.13254838], Yerr=[ 0.00164409  0.09405024  0.09405024 -0.13254838], dw=[-0.03849814 -0.03849814  0.0571962 ]\n",
            "#95: w=[-4.16301584 -4.16301584  6.4375196 ], Y=[1 1 1 0], Ypred=[0.99840219 0.90674332 0.90674332 0.13141421], Yerr=[ 0.00159781  0.09325668  0.09325668 -0.13141421], dw=[-0.03815754 -0.03815754  0.05669695]\n",
            "#96: w=[-4.18209461 -4.18209461  6.46586808], Y=[1 1 1 0], Ypred=[0.99844678 0.90752422 0.90752422 0.13029861], Yerr=[ 0.00155322  0.09247578  0.09247578 -0.13029861], dw=[-0.03782282 -0.03782282  0.05620618]\n",
            "#97: w=[-4.20100603 -4.20100603  6.49397117], Y=[1 1 1 0], Ypred=[0.99848975 0.90829274 0.90829274 0.12920111], Yerr=[ 0.00151025  0.09170726  0.09170726 -0.12920111], dw=[-0.03749385 -0.03749385  0.05572366]\n",
            "#98: w=[-4.21975295 -4.21975295  6.521833  ], Y=[1 1 1 0], Ypred=[0.99853119 0.90904916 0.90904916 0.12812129], Yerr=[ 0.00146881  0.09095084  0.09095084 -0.12812129], dw=[-0.03717046 -0.03717046  0.05524919]\n",
            "#99: w=[-4.23833818 -4.23833818  6.5494576 ], Y=[1 1 1 0], Ypred=[0.99857115 0.90979377 0.90979377 0.12705874], Yerr=[ 0.00142885  0.09020623  0.09020623 -0.12705874], dw=[-0.03685251 -0.03685251  0.05478257]\n"
          ],
          "name": "stdout"
        }
      ]
    },
    {
      "cell_type": "code",
      "metadata": {
        "colab_type": "code",
        "id": "9bASDMfhtm-I",
        "colab": {
          "base_uri": "https://localhost:8080/",
          "height": 34
        },
        "outputId": "9612c3cd-9b14-4b95-97bf-d5424accd3df"
      },
      "source": [
        "w"
      ],
      "execution_count": 15,
      "outputs": [
        {
          "output_type": "execute_result",
          "data": {
            "text/plain": [
              "array([-4.25676443, -4.25676443,  6.57684888])"
            ]
          },
          "metadata": {
            "tags": []
          },
          "execution_count": 15
        }
      ]
    },
    {
      "cell_type": "code",
      "metadata": {
        "colab_type": "code",
        "id": "-69r0c4KtqlW",
        "colab": {
          "base_uri": "https://localhost:8080/",
          "height": 34
        },
        "outputId": "10e878b6-be23-4086-d7ef-a4d7450ec81b"
      },
      "source": [
        "sigmoid(np.dot(x, w))"
      ],
      "execution_count": 16,
      "outputs": [
        {
          "output_type": "execute_result",
          "data": {
            "text/plain": [
              "array([0.99860971, 0.91052682, 0.91052682, 0.12601305])"
            ]
          },
          "metadata": {
            "tags": []
          },
          "execution_count": 16
        }
      ]
    },
    {
      "cell_type": "markdown",
      "metadata": {
        "colab_type": "text",
        "id": "ELUeNFRFuJv3"
      },
      "source": [
        "## Automatic differentiation\n",
        "\n",
        "Consider a loss function,\n",
        "$$\n",
        "l_{\\boldsymbol{x}}(\\boldsymbol{w}) = - \\log \\sigma(\\boldsymbol{w} \\cdot \\boldsymbol{x}) = - \\log \\frac{1}{1 + e^{-\\boldsymbol{w} \\cdot \\boldsymbol{x}}}\n",
        "$$\n",
        "\n",
        "This section shows implementations in different libraries of deep learning for computing the loss value $l_{\\boldsymbol{x}}(\\boldsymbol{w})$ and gradients $\\frac{\\partial l_{\\boldsymbol{x}}(\\boldsymbol{w})}{\\partial \\boldsymbol{w}}$ when $\\boldsymbol{x} = (1, 1, 1)$ and $\\boldsymbol{w} = (1, 1, -1.5)$."
      ]
    },
    {
      "cell_type": "markdown",
      "metadata": {
        "colab_type": "text",
        "id": "aB0DwVOyuXP_"
      },
      "source": [
        "### Using autograd\n",
        "\n",
        "See: https://github.com/HIPS/autograd"
      ]
    },
    {
      "cell_type": "code",
      "metadata": {
        "colab_type": "code",
        "id": "DyC9iOFO-1cd",
        "colab": {
          "base_uri": "https://localhost:8080/",
          "height": 52
        },
        "outputId": "cbea7578-79b4-4503-fbfd-fa2f9c6bf1dd"
      },
      "source": [
        "import autograd\n",
        "import autograd.numpy as np\n",
        "\n",
        "def loss(w, x):\n",
        "    return -np.log(1.0 / (1 + np.exp(-np.dot(x, w))))\n",
        "\n",
        "x = np.array([1, 1, 1])\n",
        "w = np.array([1.0, 1.0, -1.5])\n",
        "\n",
        "grad_loss = autograd.grad(loss)\n",
        "print(loss(w, x))\n",
        "print(grad_loss(w, x))"
      ],
      "execution_count": 17,
      "outputs": [
        {
          "output_type": "stream",
          "text": [
            "0.47407698418010663\n",
            "[-0.37754067 -0.37754067 -0.37754067]\n"
          ],
          "name": "stdout"
        }
      ]
    },
    {
      "cell_type": "markdown",
      "metadata": {
        "colab_type": "text",
        "id": "59D2aARTuQDL"
      },
      "source": [
        "### Using pytorch\n",
        "\n",
        "See: https://pytorch.org/tutorials/beginner/blitz/autograd_tutorial.html"
      ]
    },
    {
      "cell_type": "code",
      "metadata": {
        "id": "fpZWYFRQuvo9",
        "colab_type": "code",
        "colab": {
          "base_uri": "https://localhost:8080/",
          "height": 52
        },
        "outputId": "6dd672dd-e62d-43e9-c106-3adfdc6830f4"
      },
      "source": [
        "import torch\n",
        "\n",
        "dtype = torch.float\n",
        "\n",
        "x = torch.tensor([1, 1, 1], dtype=dtype)\n",
        "w = torch.tensor([1.0, 1.0, -1.5], dtype=dtype, requires_grad=True)\n",
        "\n",
        "loss = -torch.dot(x, w).sigmoid().log()\n",
        "loss.backward()\n",
        "print(loss.item())\n",
        "print(w.grad)"
      ],
      "execution_count": 18,
      "outputs": [
        {
          "output_type": "stream",
          "text": [
            "0.4740769565105438\n",
            "tensor([-0.3775, -0.3775, -0.3775])\n"
          ],
          "name": "stdout"
        }
      ]
    },
    {
      "cell_type": "markdown",
      "metadata": {
        "id": "hZ_BH643pO9Y",
        "colab_type": "text"
      },
      "source": [
        "### Using TensorFlow Eager\n",
        "\n",
        "See: https://www.tensorflow.org/guide/autodiff"
      ]
    },
    {
      "cell_type": "code",
      "metadata": {
        "id": "Zp87EyeAp6CY",
        "colab_type": "code",
        "colab": {
          "base_uri": "https://localhost:8080/",
          "height": 52
        },
        "outputId": "97d91510-833f-44c2-8a02-8e511dd6fb6b"
      },
      "source": [
        "import tensorflow as tf\n",
        "\n",
        "dtype = tf.float32\n",
        "\n",
        "x = tf.constant([1, 1, 1], dtype=dtype, name='x')\n",
        "w = tf.Variable([1.0, 1.0, -1.5], dtype=dtype, name='w')\n",
        "\n",
        "with tf.GradientTape() as tape:\n",
        "    loss = -tf.math.log(tf.math.sigmoid(tf.tensordot(x, w, 1)))\n",
        "\n",
        "print(loss.numpy())\n",
        "print(tape.gradient(loss, w))"
      ],
      "execution_count": 19,
      "outputs": [
        {
          "output_type": "stream",
          "text": [
            "0.47407696\n",
            "tf.Tensor([-0.37754062 -0.37754062 -0.37754062], shape=(3,), dtype=float32)\n"
          ],
          "name": "stdout"
        }
      ]
    },
    {
      "cell_type": "markdown",
      "metadata": {
        "id": "rM4eI6J0pXJF",
        "colab_type": "text"
      },
      "source": [
        "### Using JAX\n",
        "\n",
        "See: https://github.com/google/jax"
      ]
    },
    {
      "cell_type": "code",
      "metadata": {
        "id": "kI-UjxJzsnqY",
        "colab_type": "code",
        "colab": {
          "base_uri": "https://localhost:8080/",
          "height": 87
        },
        "outputId": "8509e631-0421-4f13-bf89-64af74391f2f"
      },
      "source": [
        "import jax\n",
        "import jax.numpy as jnp\n",
        "\n",
        "def loss(w, x):\n",
        "    return -jnp.log(1.0 / (1 + jnp.exp(-jnp.dot(x, w))))\n",
        "\n",
        "x = jnp.array([1, 1, 1])\n",
        "w = jnp.array([1.0, 1.0, -1.5])\n",
        "\n",
        "grad_loss = jax.jit(jax.grad(loss))\n",
        "print(loss(w, x))\n",
        "print(grad_loss(w, x))"
      ],
      "execution_count": 20,
      "outputs": [
        {
          "output_type": "stream",
          "text": [
            "0.47407693\n",
            "[-0.37754068 -0.37754068 -0.37754068]\n"
          ],
          "name": "stdout"
        },
        {
          "output_type": "stream",
          "text": [
            "/usr/local/lib/python3.6/dist-packages/jax/lib/xla_bridge.py:125: UserWarning: No GPU/TPU found, falling back to CPU.\n",
            "  warnings.warn('No GPU/TPU found, falling back to CPU.')\n"
          ],
          "name": "stderr"
        }
      ]
    },
    {
      "cell_type": "markdown",
      "metadata": {
        "colab_type": "text",
        "id": "VFzuau5gu4vY"
      },
      "source": [
        "## Implementing neural networks with pytorch"
      ]
    },
    {
      "cell_type": "markdown",
      "metadata": {
        "colab_type": "text",
        "id": "STwWdvJCva4G"
      },
      "source": [
        "### Single-layer neural network using automatic differentiation"
      ]
    },
    {
      "cell_type": "code",
      "metadata": {
        "colab_type": "code",
        "id": "xOJHDGYKIgsm",
        "colab": {
          "base_uri": "https://localhost:8080/",
          "height": 1000
        },
        "outputId": "d996129d-5d9c-4cc4-c2d9-faba8e1bd31b"
      },
      "source": [
        "import torch\n",
        "\n",
        "dtype = torch.float\n",
        "\n",
        "# Training data for NAND.\n",
        "x = torch.tensor([[0, 0, 1], [0, 1, 1], [1, 0, 1], [1, 1, 1]], dtype=dtype)\n",
        "y = torch.tensor([[1], [1], [1], [0]], dtype=dtype)\n",
        "w = torch.randn(3, 1, dtype=dtype, requires_grad=True)\n",
        "\n",
        "loss_history = []               # Used for plotting loss values.\n",
        "\n",
        "eta = 0.5\n",
        "for t in range(100):\n",
        "    # y_pred = \\sigma(x \\cdot w)\n",
        "    y_pred = x.mm(w).sigmoid()\n",
        "    ll = y * y_pred + (1 - y) * (1 - y_pred)\n",
        "    loss = -ll.log().sum()      # The loss value.\n",
        "    loss.backward()             # Compute the gradients of the loss.\n",
        "\n",
        "    loss_history.append(loss.item())    # Record the loss value.\n",
        "    print(f'#{t}: w={w.t().data[0].numpy()}, loss={loss.item()}')\n",
        "\n",
        "    with torch.no_grad():\n",
        "        w -= eta * w.grad       # Update weights using SGD.        \n",
        "        w.grad.zero_()          # Clear the gradients for the next iteration."
      ],
      "execution_count": 21,
      "outputs": [
        {
          "output_type": "stream",
          "text": [
            "#0: w=[-0.6429169   0.59503806 -0.7709467 ], loss=3.9329655170440674\n",
            "#1: w=[-0.39373612  0.71396357  0.09202898], loss=2.793145179748535\n",
            "#2: w=[-0.40712065  0.5675217   0.47152147], loss=2.5075149536132812\n",
            "#3: w=[-0.49163055  0.3717264   0.7098069 ], loss=2.312899589538574\n",
            "#4: w=[-0.5904664   0.17666295  0.90239984], loss=2.1493544578552246\n",
            "#5: w=[-0.6890328  -0.00638318  1.0749539 ], loss=2.0084311962127686\n",
            "#6: w=[-0.78356385 -0.17542651  1.2354915 ], loss=1.886060357093811\n",
            "#7: w=[-0.8734567 -0.3311221  1.3868581], loss=1.7790783643722534\n",
            "#8: w=[-0.9589805  -0.47478154  1.5303518 ], loss=1.6848962306976318\n",
            "#9: w=[-1.0405846  -0.60776746  1.6667972 ], loss=1.6014032363891602\n",
            "#10: w=[-1.1187053  -0.73132557  1.7968497 ], loss=1.5268833637237549\n",
            "#11: w=[-1.1937214 -0.8465519  1.9210787], loss=1.4599432945251465\n",
            "#12: w=[-1.2659522  -0.95439863  2.03999   ], loss=1.399446964263916\n",
            "#13: w=[-1.3356649 -1.0556898  2.1540358], loss=1.3444654941558838\n",
            "#14: w=[-1.4030837 -1.1511384  2.2636192], loss=1.2942359447479248\n",
            "#15: w=[-1.4683981 -1.2413622  2.3690996], loss=1.2481276988983154\n",
            "#16: w=[-1.5317694 -1.3268973  2.4707975], loss=1.2056156396865845\n",
            "#17: w=[-1.5933362 -1.4082099  2.5689986], loss=1.166262149810791\n",
            "#18: w=[-1.6532186 -1.485707   2.6639583], loss=1.1296970844268799\n",
            "#19: w=[-1.7115216 -1.5597442  2.7559056], loss=1.0956089496612549\n",
            "#20: w=[-1.768338  -1.6306337  2.8450456], loss=1.0637307167053223\n",
            "#21: w=[-1.8237503 -1.69865    2.931563 ], loss=1.03383469581604\n",
            "#22: w=[-1.8778322 -1.7640353  3.0156245], loss=1.0057246685028076\n",
            "#23: w=[-1.9306507 -1.8270042  3.097381 ], loss=0.9792298078536987\n",
            "#24: w=[-1.9822665 -1.8877469  3.1769693], loss=0.9542025923728943\n",
            "#25: w=[-2.032735  -1.9464328  3.2545137], loss=0.9305124878883362\n",
            "#26: w=[-2.0821078 -2.0032132  3.3301277], loss=0.9080461859703064\n",
            "#27: w=[-2.1304317 -2.0582235  3.403915 ], loss=0.886702835559845\n",
            "#28: w=[-2.1777506 -2.1115851  3.4759705], loss=0.8663932085037231\n",
            "#29: w=[-2.2241051 -2.1634078  3.5463822], loss=0.8470374345779419\n",
            "#30: w=[-2.2695336 -2.2137902  3.61523  ], loss=0.828565239906311\n",
            "#31: w=[-2.3140717 -2.262822   3.6825886], loss=0.8109122514724731\n",
            "#32: w=[-2.357753  -2.3105838  3.7485266], loss=0.794021725654602\n",
            "#33: w=[-2.4006093 -2.35715    3.8131077], loss=0.777841329574585\n",
            "#34: w=[-2.4426699 -2.4025877  3.8763914], loss=0.7623242139816284\n",
            "#35: w=[-2.4839635 -2.4469583  3.9384327], loss=0.7474281787872314\n",
            "#36: w=[-2.5245166 -2.4903183  3.9992833], loss=0.7331137657165527\n",
            "#37: w=[-2.5643544 -2.5327196  4.058991 ], loss=0.7193461656570435\n",
            "#38: w=[-2.603501  -2.5742097  4.117601 ], loss=0.7060925960540771\n",
            "#39: w=[-2.6419795 -2.6148324  4.175155 ], loss=0.6933231353759766\n",
            "#40: w=[-2.679811  -2.6546285  4.2316937], loss=0.6810110807418823\n",
            "#41: w=[-2.7170167 -2.6936357  4.287254 ], loss=0.6691302061080933\n",
            "#42: w=[-2.753616  -2.7318888  4.3418703], loss=0.6576577425003052\n",
            "#43: w=[-2.789628  -2.76942    4.3955765], loss=0.6465722322463989\n",
            "#44: w=[-2.8250706 -2.8062596  4.4484034], loss=0.6358531713485718\n",
            "#45: w=[-2.8599608 -2.842436   4.500381 ], loss=0.6254825592041016\n",
            "#46: w=[-2.8943152 -2.8779755  4.551537 ], loss=0.6154426336288452\n",
            "#47: w=[-2.9281495 -2.9129024  4.601898 ], loss=0.6057174205780029\n",
            "#48: w=[-2.9614787 -2.94724    4.6514897], loss=0.5962920188903809\n",
            "#49: w=[-2.994317  -2.9810102  4.7003355], loss=0.587152361869812\n",
            "#50: w=[-3.0266786 -3.014233   4.7484584], loss=0.5782852172851562\n",
            "#51: w=[-3.0585763 -3.0469282  4.79588  ], loss=0.5696782469749451\n",
            "#52: w=[-3.0900233 -3.0791132  4.842621 ], loss=0.5613200068473816\n",
            "#53: w=[-3.1210315 -3.1108055  4.888701 ], loss=0.5531994700431824\n",
            "#54: w=[-3.1516128 -3.1420212  4.934139 ], loss=0.5453064441680908\n",
            "#55: w=[-3.1817782 -3.1727757  4.9789524], loss=0.5376315116882324\n",
            "#56: w=[-3.2115388 -3.2030835  5.0231595], loss=0.5301656723022461\n",
            "#57: w=[-3.2409048 -3.2329583  5.0667763], loss=0.5229003429412842\n",
            "#58: w=[-3.2698863 -3.2624133  5.1098185], loss=0.5158270001411438\n",
            "#59: w=[-3.2984931 -3.2914608  5.152301 ], loss=0.5089384317398071\n",
            "#60: w=[-3.3267345 -3.3201127  5.1942387], loss=0.5022273063659668\n",
            "#61: w=[-3.3546193 -3.3483803  5.2356453], loss=0.49568676948547363\n",
            "#62: w=[-3.3821564 -3.3762746  5.276534 ], loss=0.4893103837966919\n",
            "#63: w=[-3.409354  -3.4038055  5.3169184], loss=0.48309218883514404\n",
            "#64: w=[-3.43622  -3.430983  5.35681 ], loss=0.47702598571777344\n",
            "#65: w=[-3.4627624 -3.4578168  5.396221 ], loss=0.47110629081726074\n",
            "#66: w=[-3.4889886 -3.4843156  5.435163 ], loss=0.46532782912254333\n",
            "#67: w=[-3.514906 -3.510488  5.473647], loss=0.45968589186668396\n",
            "#68: w=[-3.5405214 -3.5363424  5.5116835], loss=0.45417535305023193\n",
            "#69: w=[-3.5658417 -3.5618865  5.549283 ], loss=0.4487919807434082\n",
            "#70: w=[-3.5908732 -3.5871282  5.5864553], loss=0.4435310363769531\n",
            "#71: w=[-3.6156228 -3.6120746  5.62321  ], loss=0.43838855624198914\n",
            "#72: w=[-3.6400962 -3.636733   5.659556 ], loss=0.43336060643196106\n",
            "#73: w=[-3.6642995 -3.66111    5.6955023], loss=0.42844367027282715\n",
            "#74: w=[-3.6882381 -3.685212   5.731058 ], loss=0.42363354563713074\n",
            "#75: w=[-3.711918  -3.7090454  5.766231 ], loss=0.4189271330833435\n",
            "#76: w=[-3.7353446 -3.7326164  5.8010297], loss=0.41432106494903564\n",
            "#77: w=[-3.758523  -3.7559307  5.8354616], loss=0.4098123013973236\n",
            "#78: w=[-3.7814581 -3.778994   5.8695345], loss=0.4053977131843567\n",
            "#79: w=[-3.804155  -3.801812   5.9032555], loss=0.40107429027557373\n",
            "#80: w=[-3.8266187 -3.8243895  5.9366317], loss=0.39683952927589417\n",
            "#81: w=[-3.8488533 -3.8467317  5.9696703], loss=0.39269036054611206\n",
            "#82: w=[-3.870864  -3.8688436  6.002378 ], loss=0.3886244297027588\n",
            "#83: w=[-3.8926544 -3.89073    6.034761 ], loss=0.3846394121646881\n",
            "#84: w=[-3.9142294 -3.9123952  6.0668254], loss=0.3807326555252075\n",
            "#85: w=[-3.9355927 -3.9338439  6.0985775], loss=0.3769022226333618\n",
            "#86: w=[-3.9567485 -3.9550805  6.1300235], loss=0.37314561009407043\n",
            "#87: w=[-3.9777005 -3.976109   6.161169 ], loss=0.3694607615470886\n",
            "#88: w=[-3.9984527 -3.9969337  6.1920195], loss=0.36584585905075073\n",
            "#89: w=[-4.0190086 -4.017558   6.2225804], loss=0.36229872703552246\n",
            "#90: w=[-4.039372  -4.0379863  6.252857 ], loss=0.3588177263736725\n",
            "#91: w=[-4.0595465 -4.0582223  6.282855 ], loss=0.35540062189102173\n",
            "#92: w=[-4.079535  -4.078269   6.3125787], loss=0.35204625129699707\n",
            "#93: w=[-4.099341  -4.09813    6.3420334], loss=0.348752498626709\n",
            "#94: w=[-4.118968  -4.11781    6.3712234], loss=0.3455180823802948\n",
            "#95: w=[-4.1384187 -4.1373105  6.4001536], loss=0.3423411548137665\n",
            "#96: w=[-4.1576967 -4.1566358  6.4288287], loss=0.3392201364040375\n",
            "#97: w=[-4.1768045 -4.1757884  6.457253 ], loss=0.33615395426750183\n",
            "#98: w=[-4.1957455 -4.194772   6.4854302], loss=0.33314087986946106\n",
            "#99: w=[-4.214522  -4.2135887  6.5133653], loss=0.3301796317100525\n"
          ],
          "name": "stdout"
        }
      ]
    },
    {
      "cell_type": "code",
      "metadata": {
        "id": "Z5PZL4LH4qMF",
        "colab_type": "code",
        "colab": {
          "base_uri": "https://localhost:8080/",
          "height": 297
        },
        "outputId": "d514a89c-a753-4660-9618-b386c6ae46db"
      },
      "source": [
        "import matplotlib.pyplot as plt\n",
        "\n",
        "plt.plot(loss_history)\n",
        "plt.xlabel('Iteration #')\n",
        "plt.ylabel('Loss')"
      ],
      "execution_count": 22,
      "outputs": [
        {
          "output_type": "execute_result",
          "data": {
            "text/plain": [
              "Text(0, 0.5, 'Loss')"
            ]
          },
          "metadata": {
            "tags": []
          },
          "execution_count": 22
        },
        {
          "output_type": "display_data",
          "data": {
            "image/png": "[encoded data removed]",
            "text/plain": [
              "<Figure size 432x288 with 1 Axes>"
            ]
          },
          "metadata": {
            "tags": [],
            "needs_background": "light"
          }
        }
      ]
    },
    {
      "cell_type": "code",
      "metadata": {
        "colab_type": "code",
        "id": "FyoS5iP6n7Ru",
        "colab": {
          "base_uri": "https://localhost:8080/",
          "height": 70
        },
        "outputId": "39aec8a8-81b0-48e6-95fd-93ef10b16caa"
      },
      "source": [
        "w"
      ],
      "execution_count": 23,
      "outputs": [
        {
          "output_type": "execute_result",
          "data": {
            "text/plain": [
              "tensor([[-4.2331],\n",
              "        [-4.2322],\n",
              "        [ 6.5411]], requires_grad=True)"
            ]
          },
          "metadata": {
            "tags": []
          },
          "execution_count": 23
        }
      ]
    },
    {
      "cell_type": "code",
      "metadata": {
        "colab_type": "code",
        "id": "Jfp604gFn9Yw",
        "colab": {
          "base_uri": "https://localhost:8080/",
          "height": 87
        },
        "outputId": "4d082781-fc06-446f-a459-6a56e8620d61"
      },
      "source": [
        "x.mm(w).sigmoid()"
      ],
      "execution_count": 24,
      "outputs": [
        {
          "output_type": "execute_result",
          "data": {
            "text/plain": [
              "tensor([[0.9986],\n",
              "        [0.9096],\n",
              "        [0.9095],\n",
              "        [0.1274]], grad_fn=<SigmoidBackward>)"
            ]
          },
          "metadata": {
            "tags": []
          },
          "execution_count": 24
        }
      ]
    },
    {
      "cell_type": "markdown",
      "metadata": {
        "colab_type": "text",
        "id": "w6eu-AuDvl9J"
      },
      "source": [
        "### Multi-layer neural network using automatic differentiation"
      ]
    },
    {
      "cell_type": "code",
      "metadata": {
        "colab_type": "code",
        "id": "ts2RTKVPn_xk",
        "colab": {}
      },
      "source": [
        "import torch\n",
        "\n",
        "dtype = torch.float\n",
        "\n",
        "# Training data for XOR.\n",
        "x = torch.tensor([[0, 0, 1], [0, 1, 1], [1, 0, 1], [1, 1, 1]], dtype=dtype)\n",
        "y = torch.tensor([[0], [1], [1], [0]], dtype=dtype)\n",
        "w1 = torch.randn(3, 2, dtype=dtype, requires_grad=True)\n",
        "w2 = torch.randn(2, 1, dtype=dtype, requires_grad=True)\n",
        "b2 = torch.randn(1, 1, dtype=dtype, requires_grad=True)\n",
        "\n",
        "loss_history = []               # Used for plotting loss values.\n",
        "\n",
        "eta = 0.5\n",
        "for t in range(1000):\n",
        "    # y_pred = \\sigma(w_2 \\cdot \\sigma(x \\cdot w_1) + b_2)\n",
        "    y_pred = x.mm(w1).sigmoid().mm(w2).add(b2).sigmoid()\n",
        "    ll = y * y_pred + (1 - y) * (1 - y_pred)\n",
        "    loss = -ll.log().sum()\n",
        "    loss.backward()\n",
        "\n",
        "    loss_history.append(loss.item())    # Record the loss value.\n",
        "    #print(f'#{t}: loss={loss.item()}')\n",
        "\n",
        "    with torch.no_grad():\n",
        "        # Update weights using SGD.\n",
        "        w1 -= eta * w1.grad\n",
        "        w2 -= eta * w2.grad\n",
        "        b2 -= eta * b2.grad\n",
        "        \n",
        "        # Clear the gradients for the next iteration.\n",
        "        w1.grad.zero_()\n",
        "        w2.grad.zero_()\n",
        "        b2.grad.zero_()"
      ],
      "execution_count": 25,
      "outputs": []
    },
    {
      "cell_type": "code",
      "metadata": {
        "id": "R12W-FS95dFg",
        "colab_type": "code",
        "colab": {
          "base_uri": "https://localhost:8080/",
          "height": 297
        },
        "outputId": "94d894af-3561-405c-e408-da2403b1a6a9"
      },
      "source": [
        "import matplotlib.pyplot as plt\n",
        "\n",
        "plt.plot(loss_history)\n",
        "plt.xlabel('Iteration #')\n",
        "plt.ylabel('Loss')"
      ],
      "execution_count": 26,
      "outputs": [
        {
          "output_type": "execute_result",
          "data": {
            "text/plain": [
              "Text(0, 0.5, 'Loss')"
            ]
          },
          "metadata": {
            "tags": []
          },
          "execution_count": 26
        },
        {
          "output_type": "display_data",
          "data": {
            "image/png": "[encoded data removed]",
            "text/plain": [
              "<Figure size 432x288 with 1 Axes>"
            ]
          },
          "metadata": {
            "tags": [],
            "needs_background": "light"
          }
        }
      ]
    },
    {
      "cell_type": "code",
      "metadata": {
        "colab_type": "code",
        "id": "FWgbqAXawEof",
        "colab": {
          "base_uri": "https://localhost:8080/",
          "height": 122
        },
        "outputId": "48ab7690-da18-40c9-8162-555a040ca90d"
      },
      "source": [
        "print(w1)\n",
        "print(w2)\n",
        "print(b2)"
      ],
      "execution_count": 27,
      "outputs": [
        {
          "output_type": "stream",
          "text": [
            "tensor([[-5.4977,  3.4479],\n",
            "        [-8.7568, -8.3596],\n",
            "        [ 1.5093, -2.0215]], requires_grad=True)\n",
            "tensor([[-8.0149],\n",
            "        [ 6.9216]], requires_grad=True)\n",
            "tensor([[0.0017]], requires_grad=True)\n"
          ],
          "name": "stdout"
        }
      ]
    },
    {
      "cell_type": "code",
      "metadata": {
        "colab_type": "code",
        "id": "yS4bql3foxB5",
        "colab": {
          "base_uri": "https://localhost:8080/",
          "height": 87
        },
        "outputId": "c20d350c-bc0c-453d-c7fe-24898e50d0ee"
      },
      "source": [
        "x.mm(w1).sigmoid().mm(w2).add(b2).sigmoid()"
      ],
      "execution_count": 28,
      "outputs": [
        {
          "output_type": "execute_result",
          "data": {
            "text/plain": [
              "tensor([[0.0032],\n",
              "        [0.4991],\n",
              "        [0.9957],\n",
              "        [0.5021]], grad_fn=<SigmoidBackward>)"
            ]
          },
          "metadata": {
            "tags": []
          },
          "execution_count": 28
        }
      ]
    },
    {
      "cell_type": "markdown",
      "metadata": {
        "colab_type": "text",
        "id": "OGS23bDSazMJ"
      },
      "source": [
        "### Single-layer neural network with high-level NN modules"
      ]
    },
    {
      "cell_type": "code",
      "metadata": {
        "colab_type": "code",
        "id": "Jt9eizLFo1iN",
        "colab": {}
      },
      "source": [
        "import torch\n",
        "\n",
        "dtype = torch.float\n",
        "\n",
        "# Training data for NAND.\n",
        "x = torch.tensor([[0, 0], [0, 1], [1, 0], [1, 1]], dtype=dtype)\n",
        "y = torch.tensor([[1], [1], [1], [0]], dtype=dtype)\n",
        "                                        \n",
        "# Define a neural network using high-level modules.\n",
        "model = torch.nn.Sequential(\n",
        "    torch.nn.Linear(2, 1, bias=True),   # 2 dims (with bias) -> 1 dim\n",
        ")\n",
        "\n",
        "# Binary corss-entropy loss after sigmoid function.\n",
        "loss_fn = torch.nn.BCEWithLogitsLoss(reduction='sum')\n",
        "\n",
        "# Used for plotting loss values.\n",
        "loss_history = []\n",
        "\n",
        "eta = 0.5\n",
        "for t in range(100):\n",
        "    y_pred = model(x)                   # Make predictions.\n",
        "    loss = loss_fn(y_pred, y)           # Compute the loss.\n",
        "\n",
        "    loss_history.append(loss.item())    # Record the loss value.\n",
        "    #print(f'#{t}: loss={loss.item()}')\n",
        "    \n",
        "    model.zero_grad()                   # Zero-clear the gradients.\n",
        "    loss.backward()                     # Compute the gradients.\n",
        "        \n",
        "    with torch.no_grad():\n",
        "        for param in model.parameters():\n",
        "            param -= eta * param.grad   # Update the parameters using SGD."
      ],
      "execution_count": 29,
      "outputs": []
    },
    {
      "cell_type": "code",
      "metadata": {
        "id": "D20KVsRJ5wJK",
        "colab_type": "code",
        "colab": {
          "base_uri": "https://localhost:8080/",
          "height": 297
        },
        "outputId": "9daa27f7-4af8-4f7f-f013-4457ff895886"
      },
      "source": [
        "import matplotlib.pyplot as plt\n",
        "\n",
        "plt.plot(loss_history)\n",
        "plt.xlabel('Iteration #')\n",
        "plt.ylabel('Loss')"
      ],
      "execution_count": 30,
      "outputs": [
        {
          "output_type": "execute_result",
          "data": {
            "text/plain": [
              "Text(0, 0.5, 'Loss')"
            ]
          },
          "metadata": {
            "tags": []
          },
          "execution_count": 30
        },
        {
          "output_type": "display_data",
          "data": {
            "image/png": "[encoded data removed]",
            "text/plain": [
              "<Figure size 432x288 with 1 Axes>"
            ]
          },
          "metadata": {
            "tags": [],
            "needs_background": "light"
          }
        }
      ]
    },
    {
      "cell_type": "code",
      "metadata": {
        "colab_type": "code",
        "id": "Zq6oqLmIENFa",
        "colab": {
          "base_uri": "https://localhost:8080/",
          "height": 52
        },
        "outputId": "0ee827da-8065-4fe8-aaa3-c4a567d86716"
      },
      "source": [
        "model.state_dict()"
      ],
      "execution_count": 31,
      "outputs": [
        {
          "output_type": "execute_result",
          "data": {
            "text/plain": [
              "OrderedDict([('0.weight', tensor([[-4.2519, -4.2525]])),\n",
              "             ('0.bias', tensor([6.5701]))])"
            ]
          },
          "metadata": {
            "tags": []
          },
          "execution_count": 31
        }
      ]
    },
    {
      "cell_type": "code",
      "metadata": {
        "colab_type": "code",
        "id": "QdPOdNgO840b",
        "colab": {
          "base_uri": "https://localhost:8080/",
          "height": 87
        },
        "outputId": "d7df3104-9fac-4eef-f9d7-d05de98c56b6"
      },
      "source": [
        "model(x).sigmoid()"
      ],
      "execution_count": 32,
      "outputs": [
        {
          "output_type": "execute_result",
          "data": {
            "text/plain": [
              "tensor([[0.9986],\n",
              "        [0.9103],\n",
              "        [0.9104],\n",
              "        [0.1263]], grad_fn=<SigmoidBackward>)"
            ]
          },
          "metadata": {
            "tags": []
          },
          "execution_count": 32
        }
      ]
    },
    {
      "cell_type": "markdown",
      "metadata": {
        "colab_type": "text",
        "id": "KfuoJMeqbClA"
      },
      "source": [
        "### Multi-layer neural network with high-level NN modules"
      ]
    },
    {
      "cell_type": "code",
      "metadata": {
        "colab_type": "code",
        "id": "D6ss25zA9nPk",
        "colab": {}
      },
      "source": [
        "import torch\n",
        "\n",
        "dtype = torch.float\n",
        "\n",
        "# Training data for XOR.\n",
        "x = torch.tensor([[0, 0], [0, 1], [1, 0], [1, 1]], dtype=dtype)\n",
        "y = torch.tensor([[0], [1], [1], [0]], dtype=dtype)\n",
        "                                        \n",
        "# Define a neural network using high-level modules.\n",
        "model = torch.nn.Sequential(\n",
        "    torch.nn.Linear(2, 2, bias=True),   # 2 dims (with bias) -> 2 dims\n",
        "    torch.nn.Sigmoid(),                 # Sigmoid function\n",
        "    torch.nn.Linear(2, 1, bias=True),   # 2 dims (with bias) -> 1 dim\n",
        ")\n",
        "\n",
        "# Binary corss-entropy loss after sigmoid function.\n",
        "loss_fn = torch.nn.BCEWithLogitsLoss(reduction='sum')\n",
        "\n",
        "# Used for plotting loss values.\n",
        "loss_history = []\n",
        "\n",
        "eta = 0.5\n",
        "for t in range(1000):\n",
        "    y_pred = model(x)                   # Make predictions.\n",
        "    loss = loss_fn(y_pred, y)           # Compute the loss.\n",
        "\n",
        "    loss_history.append(loss.item())    # Record the loss value.\n",
        "    #print(f'#{t}: loss={loss.item()}')\n",
        "    \n",
        "    model.zero_grad()                   # Zero-clear the gradients.\n",
        "    loss.backward()                     # Compute the gradients.\n",
        "        \n",
        "    with torch.no_grad():\n",
        "        for param in model.parameters():\n",
        "            param -= eta * param.grad   # Update the parameters using SGD."
      ],
      "execution_count": 33,
      "outputs": []
    },
    {
      "cell_type": "code",
      "metadata": {
        "id": "-_6Hle_e6IXM",
        "colab_type": "code",
        "colab": {
          "base_uri": "https://localhost:8080/",
          "height": 297
        },
        "outputId": "9fd8f2a9-6cea-4e88-ea51-68de338185e4"
      },
      "source": [
        "import matplotlib.pyplot as plt\n",
        "\n",
        "plt.plot(loss_history)\n",
        "plt.xlabel('Iteration #')\n",
        "plt.ylabel('Loss')"
      ],
      "execution_count": 34,
      "outputs": [
        {
          "output_type": "execute_result",
          "data": {
            "text/plain": [
              "Text(0, 0.5, 'Loss')"
            ]
          },
          "metadata": {
            "tags": []
          },
          "execution_count": 34
        },
        {
          "output_type": "display_data",
          "data": {
            "image/png": "[encoded data removed]",
            "text/plain": [
              "<Figure size 432x288 with 1 Axes>"
            ]
          },
          "metadata": {
            "tags": [],
            "needs_background": "light"
          }
        }
      ]
    },
    {
      "cell_type": "code",
      "metadata": {
        "colab_type": "code",
        "id": "iLFGZWL0--2n",
        "colab": {
          "base_uri": "https://localhost:8080/",
          "height": 105
        },
        "outputId": "ab8dfb34-f2f4-4b99-e534-4483471bd459"
      },
      "source": [
        "model.state_dict()"
      ],
      "execution_count": 35,
      "outputs": [
        {
          "output_type": "execute_result",
          "data": {
            "text/plain": [
              "OrderedDict([('0.weight', tensor([[-4.5999,  4.2610],\n",
              "                      [-5.5579,  5.6238]])),\n",
              "             ('0.bias', tensor([-2.2500,  2.9988])),\n",
              "             ('2.weight', tensor([[ 7.1426, -6.7479]])),\n",
              "             ('2.bias', tensor([3.0771]))])"
            ]
          },
          "metadata": {
            "tags": []
          },
          "execution_count": 35
        }
      ]
    },
    {
      "cell_type": "code",
      "metadata": {
        "colab_type": "code",
        "id": "1BF6-W_J-82M",
        "colab": {
          "base_uri": "https://localhost:8080/",
          "height": 87
        },
        "outputId": "72a67318-a371-4bc4-bc83-3d332f34e37a"
      },
      "source": [
        "model(x).sigmoid()"
      ],
      "execution_count": 36,
      "outputs": [
        {
          "output_type": "execute_result",
          "data": {
            "text/plain": [
              "tensor([[0.0648],\n",
              "        [0.9328],\n",
              "        [0.9309],\n",
              "        [0.0536]], grad_fn=<SigmoidBackward>)"
            ]
          },
          "metadata": {
            "tags": []
          },
          "execution_count": 36
        }
      ]
    },
    {
      "cell_type": "markdown",
      "metadata": {
        "colab_type": "text",
        "id": "gGK3DJBubb0f"
      },
      "source": [
        "### Single-layer neural network with an optimizer."
      ]
    },
    {
      "cell_type": "code",
      "metadata": {
        "colab_type": "code",
        "id": "puqbP4F9bidv",
        "colab": {}
      },
      "source": [
        "import torch\n",
        "\n",
        "dtype = torch.float\n",
        "\n",
        "# Training data for NAND.\n",
        "x = torch.tensor([[0, 0], [0, 1], [1, 0], [1, 1]], dtype=dtype)\n",
        "y = torch.tensor([[1], [1], [1], [0]], dtype=dtype)\n",
        "                                        \n",
        "# Define a neural network using high-level modules.\n",
        "model = torch.nn.Sequential(\n",
        "    torch.nn.Linear(2, 1, bias=True),   # 2 dims (with bias) -> 1 dim\n",
        ")\n",
        "\n",
        "# Binary corss-entropy loss after sigmoid function.\n",
        "loss_fn = torch.nn.BCEWithLogitsLoss(reduction='sum')\n",
        "\n",
        "# Optimizer based on SGD (change \"SGD\" to \"Adam\" to use Adam)\n",
        "optimizer = torch.optim.SGD(model.parameters(), lr=0.5)\n",
        "\n",
        "# Used for plotting loss values.\n",
        "loss_history = []\n",
        "\n",
        "for t in range(100):\n",
        "    y_pred = model(x)           # Make predictions.\n",
        "    loss = loss_fn(y_pred, y)   # Compute the loss.\n",
        "\n",
        "    loss_history.append(loss.item())    # Record the loss value.\n",
        "    #print(f'#{t}: loss={loss.item()}')\n",
        "    \n",
        "    optimizer.zero_grad()       # Zero-clear gradients.\n",
        "    loss.backward()             # Compute the gradients.\n",
        "    optimizer.step()            # Update the parameters using the gradients."
      ],
      "execution_count": 37,
      "outputs": []
    },
    {
      "cell_type": "code",
      "metadata": {
        "id": "I2Dg32ag6UwT",
        "colab_type": "code",
        "colab": {
          "base_uri": "https://localhost:8080/",
          "height": 297
        },
        "outputId": "473fb98f-42ff-4673-9417-793599f90bb3"
      },
      "source": [
        "import matplotlib.pyplot as plt\n",
        "\n",
        "plt.plot(loss_history)\n",
        "plt.xlabel('Iteration #')\n",
        "plt.ylabel('Loss')"
      ],
      "execution_count": 38,
      "outputs": [
        {
          "output_type": "execute_result",
          "data": {
            "text/plain": [
              "Text(0, 0.5, 'Loss')"
            ]
          },
          "metadata": {
            "tags": []
          },
          "execution_count": 38
        },
        {
          "output_type": "display_data",
          "data": {
            "image/png": "[encoded data removed]",
            "text/plain": [
              "<Figure size 432x288 with 1 Axes>"
            ]
          },
          "metadata": {
            "tags": [],
            "needs_background": "light"
          }
        }
      ]
    },
    {
      "cell_type": "code",
      "metadata": {
        "colab_type": "code",
        "id": "RBUX1BUhcDK4",
        "colab": {
          "base_uri": "https://localhost:8080/",
          "height": 52
        },
        "outputId": "4e47449f-0b3d-4a7a-cefd-8ecce0b49740"
      },
      "source": [
        "model.state_dict()"
      ],
      "execution_count": 39,
      "outputs": [
        {
          "output_type": "execute_result",
          "data": {
            "text/plain": [
              "OrderedDict([('0.weight', tensor([[-4.3077, -4.3077]])),\n",
              "             ('0.bias', tensor([6.6526]))])"
            ]
          },
          "metadata": {
            "tags": []
          },
          "execution_count": 39
        }
      ]
    },
    {
      "cell_type": "code",
      "metadata": {
        "colab_type": "code",
        "id": "nJWcDaPpcKCB",
        "colab": {
          "base_uri": "https://localhost:8080/",
          "height": 87
        },
        "outputId": "98475b7b-41a2-45db-c409-a43bee221265"
      },
      "source": [
        "model(x).sigmoid()"
      ],
      "execution_count": 40,
      "outputs": [
        {
          "output_type": "execute_result",
          "data": {
            "text/plain": [
              "tensor([[0.9987],\n",
              "        [0.9125],\n",
              "        [0.9125],\n",
              "        [0.1232]], grad_fn=<SigmoidBackward>)"
            ]
          },
          "metadata": {
            "tags": []
          },
          "execution_count": 40
        }
      ]
    },
    {
      "cell_type": "markdown",
      "metadata": {
        "colab_type": "text",
        "id": "scIE8zZWdhLs"
      },
      "source": [
        "### Multi-layer neural networks using an optimizer"
      ]
    },
    {
      "cell_type": "code",
      "metadata": {
        "colab_type": "code",
        "id": "J1BrWIxkcMfI",
        "colab": {}
      },
      "source": [
        "import torch\n",
        "\n",
        "dtype = torch.float\n",
        "\n",
        "# Training data for XOR.\n",
        "x = torch.tensor([[0, 0], [0, 1], [1, 0], [1, 1]], dtype=dtype)\n",
        "y = torch.tensor([[0], [1], [1], [0]], dtype=dtype)\n",
        "                                        \n",
        "# Define a neural network using high-level modules.\n",
        "model = torch.nn.Sequential(\n",
        "    torch.nn.Linear(2, 2, bias=True),   # 2 dims (with bias) -> 2 dims\n",
        "    torch.nn.Sigmoid(),                 # Sigmoid function\n",
        "    torch.nn.Linear(2, 1, bias=True),   # 2 dims (with bias) -> 1 dim\n",
        ")\n",
        "\n",
        "# Binary corss-entropy loss after sigmoid function.\n",
        "loss_fn = torch.nn.BCEWithLogitsLoss(reduction='sum')\n",
        "\n",
        "# Optimizer based on SGD (change \"SGD\" to \"Adam\" to use Adam)\n",
        "optimizer = torch.optim.SGD(model.parameters(), lr=0.5)\n",
        "\n",
        "# Used for plotting loss values.\n",
        "loss_history = []\n",
        "\n",
        "for t in range(1000):\n",
        "    y_pred = model(x)           # Make predictions.\n",
        "    loss = loss_fn(y_pred, y)   # Compute the loss.\n",
        "\n",
        "    loss_history.append(loss.item())    # Record the loss value.\n",
        "    #print(f'#{t}: loss={loss.item()}')\n",
        "    \n",
        "    optimizer.zero_grad()       # Zero-clear gradients.\n",
        "    loss.backward()             # Compute the gradients.\n",
        "    optimizer.step()            # Update the parameters using the gradients."
      ],
      "execution_count": 41,
      "outputs": []
    },
    {
      "cell_type": "code",
      "metadata": {
        "id": "rgxApAuf6lI5",
        "colab_type": "code",
        "colab": {
          "base_uri": "https://localhost:8080/",
          "height": 297
        },
        "outputId": "10ad1c9c-dca5-4e8e-f804-feea03bdf92a"
      },
      "source": [
        "import matplotlib.pyplot as plt\n",
        "\n",
        "plt.plot(loss_history)\n",
        "plt.xlabel('Iteration #')\n",
        "plt.ylabel('Loss')"
      ],
      "execution_count": 42,
      "outputs": [
        {
          "output_type": "execute_result",
          "data": {
            "text/plain": [
              "Text(0, 0.5, 'Loss')"
            ]
          },
          "metadata": {
            "tags": []
          },
          "execution_count": 42
        },
        {
          "output_type": "display_data",
          "data": {
            "image/png": "[encoded data removed]",
            "text/plain": [
              "<Figure size 432x288 with 1 Axes>"
            ]
          },
          "metadata": {
            "tags": [],
            "needs_background": "light"
          }
        }
      ]
    },
    {
      "cell_type": "code",
      "metadata": {
        "colab_type": "code",
        "id": "mp0sNnxhducs",
        "colab": {
          "base_uri": "https://localhost:8080/",
          "height": 105
        },
        "outputId": "3489e120-8066-4916-cf6e-813b19c3148a"
      },
      "source": [
        "model.state_dict()"
      ],
      "execution_count": 43,
      "outputs": [
        {
          "output_type": "execute_result",
          "data": {
            "text/plain": [
              "OrderedDict([('0.weight', tensor([[ 6.2074, -6.5285],\n",
              "                      [-6.9943,  6.8447]])),\n",
              "             ('0.bias', tensor([-3.3879, -3.7703])),\n",
              "             ('2.weight', tensor([[11.3024, 11.1864]])),\n",
              "             ('2.bias', tensor([-5.5174]))])"
            ]
          },
          "metadata": {
            "tags": []
          },
          "execution_count": 43
        }
      ]
    },
    {
      "cell_type": "code",
      "metadata": {
        "colab_type": "code",
        "id": "AYgEteqydwt2",
        "colab": {
          "base_uri": "https://localhost:8080/",
          "height": 87
        },
        "outputId": "6356cd62-86c2-49e1-c7de-e85f897bb7ff"
      },
      "source": [
        "model(x).sigmoid()"
      ],
      "execution_count": 44,
      "outputs": [
        {
          "output_type": "execute_result",
          "data": {
            "text/plain": [
              "tensor([[0.0074],\n",
              "        [0.9944],\n",
              "        [0.9942],\n",
              "        [0.0065]], grad_fn=<SigmoidBackward>)"
            ]
          },
          "metadata": {
            "tags": []
          },
          "execution_count": 44
        }
      ]
    },
    {
      "cell_type": "markdown",
      "metadata": {
        "colab_type": "text",
        "id": "7x7Ed3SBGjPx"
      },
      "source": [
        "### Single-layer neural network with a customizable NN class."
      ]
    },
    {
      "cell_type": "code",
      "metadata": {
        "colab_type": "code",
        "id": "klKcvlpVkpk9",
        "colab": {}
      },
      "source": [
        "import torch\n",
        "\n",
        "dtype = torch.float\n",
        "\n",
        "# Training data for NAND.\n",
        "x = torch.tensor([[0, 0], [0, 1], [1, 0], [1, 1]], dtype=dtype)\n",
        "y = torch.tensor([[1], [1], [1], [0]], dtype=dtype)\n",
        "                                        \n",
        "# Define a neural network model.\n",
        "class SingleLayerNN(torch.nn.Module):\n",
        "    def __init__(self, d_in, d_out):\n",
        "        super(SingleLayerNN, self).__init__()\n",
        "        self.linear1 = torch.nn.Linear(d_in, d_out, bias=True)\n",
        "\n",
        "    def forward(self, x):\n",
        "        return self.linear1(x)\n",
        "\n",
        "model = SingleLayerNN(2, 1)\n",
        "\n",
        "# Binary corss-entropy loss after sigmoid function.\n",
        "loss_fn = torch.nn.BCEWithLogitsLoss(reduction='sum')\n",
        "\n",
        "# Optimizer based on SGD (change \"SGD\" to \"Adam\" to use Adam)\n",
        "optimizer = torch.optim.SGD(model.parameters(), lr=0.5)\n",
        "\n",
        "# Used for plotting loss values.\n",
        "loss_history = []\n",
        "\n",
        "for t in range(100):\n",
        "    y_pred = model(x)           # Make predictions.\n",
        "    loss = loss_fn(y_pred, y)   # Compute the loss.\n",
        "\n",
        "    loss_history.append(loss.item())    # Record the loss value.\n",
        "    #print(f'#{t}: loss={loss.item()}')\n",
        "    \n",
        "    optimizer.zero_grad()       # Zero-clear gradients.\n",
        "    loss.backward()             # Compute the gradients.\n",
        "    optimizer.step()            # Update the parameters using the gradients."
      ],
      "execution_count": 45,
      "outputs": []
    },
    {
      "cell_type": "code",
      "metadata": {
        "id": "BMZS4VzN6v-S",
        "colab_type": "code",
        "colab": {
          "base_uri": "https://localhost:8080/",
          "height": 297
        },
        "outputId": "ca9b4ef8-77a1-4aef-bc9e-9b4f05e6c776"
      },
      "source": [
        "import matplotlib.pyplot as plt\n",
        "\n",
        "plt.plot(loss_history)\n",
        "plt.xlabel('Iteration #')\n",
        "plt.ylabel('Loss')"
      ],
      "execution_count": 46,
      "outputs": [
        {
          "output_type": "execute_result",
          "data": {
            "text/plain": [
              "Text(0, 0.5, 'Loss')"
            ]
          },
          "metadata": {
            "tags": []
          },
          "execution_count": 46
        },
        {
          "output_type": "display_data",
          "data": {
            "image/png": "[encoded data removed]",
            "text/plain": [
              "<Figure size 432x288 with 1 Axes>"
            ]
          },
          "metadata": {
            "tags": [],
            "needs_background": "light"
          }
        }
      ]
    },
    {
      "cell_type": "code",
      "metadata": {
        "colab_type": "code",
        "id": "ExxVfDnB5vPW",
        "colab": {
          "base_uri": "https://localhost:8080/",
          "height": 52
        },
        "outputId": "e1d4be0f-4643-4fa1-e2e6-8fd1bc003c1f"
      },
      "source": [
        "model.state_dict()"
      ],
      "execution_count": 47,
      "outputs": [
        {
          "output_type": "execute_result",
          "data": {
            "text/plain": [
              "OrderedDict([('linear1.weight', tensor([[-4.2535, -4.2532]])),\n",
              "             ('linear1.bias', tensor([6.5718]))])"
            ]
          },
          "metadata": {
            "tags": []
          },
          "execution_count": 47
        }
      ]
    },
    {
      "cell_type": "code",
      "metadata": {
        "colab_type": "code",
        "id": "xKczD7tZ518W",
        "colab": {
          "base_uri": "https://localhost:8080/",
          "height": 87
        },
        "outputId": "b4a824ba-9ff3-4e1b-9d72-8682ea23dd3b"
      },
      "source": [
        "model(x).sigmoid()"
      ],
      "execution_count": 48,
      "outputs": [
        {
          "output_type": "execute_result",
          "data": {
            "text/plain": [
              "tensor([[0.9986],\n",
              "        [0.9104],\n",
              "        [0.9104],\n",
              "        [0.1262]], grad_fn=<SigmoidBackward>)"
            ]
          },
          "metadata": {
            "tags": []
          },
          "execution_count": 48
        }
      ]
    },
    {
      "cell_type": "markdown",
      "metadata": {
        "colab_type": "text",
        "id": "jzTPZXUxGNso"
      },
      "source": [
        "### Multi-layer neural network with a customizable NN class.\n",
        "\n"
      ]
    },
    {
      "cell_type": "code",
      "metadata": {
        "colab_type": "code",
        "id": "gSpf1qft53-O",
        "colab": {}
      },
      "source": [
        "import torch\n",
        "\n",
        "dtype = torch.float\n",
        "\n",
        "# Training data for XOR.\n",
        "x = torch.tensor([[0, 0], [0, 1], [1, 0], [1, 1]], dtype=dtype)\n",
        "y = torch.tensor([[0], [1], [1], [0]], dtype=dtype)\n",
        "                                        \n",
        "# Define a neural network model.\n",
        "class ThreeLayerNN(torch.nn.Module):\n",
        "    def __init__(self, d_in, d_hidden, d_out):\n",
        "        super(ThreeLayerNN, self).__init__()\n",
        "        self.linear1 = torch.nn.Linear(d_in, d_hidden, bias=True)\n",
        "        self.linear2 = torch.nn.Linear(d_hidden, d_out, bias=True)\n",
        "\n",
        "    def forward(self, x):\n",
        "        return self.linear2(self.linear1(x).sigmoid())\n",
        "\n",
        "model = ThreeLayerNN(2, 2, 1)\n",
        "\n",
        "# Binary corss-entropy loss after sigmoid function.\n",
        "loss_fn = torch.nn.BCEWithLogitsLoss(reduction='sum')\n",
        "\n",
        "# Optimizer based on SGD (change \"SGD\" to \"Adam\" to use Adam)\n",
        "optimizer = torch.optim.SGD(model.parameters(), lr=0.5)\n",
        "\n",
        "# Used for plotting loss values.\n",
        "loss_history = []\n",
        "\n",
        "for t in range(1000):\n",
        "    y_pred = model(x)           # Make predictions.\n",
        "    loss = loss_fn(y_pred, y)   # Compute the loss.\n",
        "\n",
        "    loss_history.append(loss.item())    # Record the loss value.\n",
        "    #print(f'#{t}: loss={loss.item()}')\n",
        "    \n",
        "    optimizer.zero_grad()       # Zero-clear gradients.\n",
        "    loss.backward()             # Compute the gradients.\n",
        "    optimizer.step()            # Update the parameters using the gradients."
      ],
      "execution_count": 49,
      "outputs": []
    },
    {
      "cell_type": "code",
      "metadata": {
        "id": "TicWHj-L7BdZ",
        "colab_type": "code",
        "colab": {
          "base_uri": "https://localhost:8080/",
          "height": 297
        },
        "outputId": "cc4ede3a-13e0-470c-d7b4-b78fd0c9bc30"
      },
      "source": [
        "import matplotlib.pyplot as plt\n",
        "\n",
        "plt.plot(loss_history)\n",
        "plt.xlabel('Iteration #')\n",
        "plt.ylabel('Loss')"
      ],
      "execution_count": 50,
      "outputs": [
        {
          "output_type": "execute_result",
          "data": {
            "text/plain": [
              "Text(0, 0.5, 'Loss')"
            ]
          },
          "metadata": {
            "tags": []
          },
          "execution_count": 50
        },
        {
          "output_type": "display_data",
          "data": {
            "image/png": "[encoded data removed]",
            "text/plain": [
              "<Figure size 432x288 with 1 Axes>"
            ]
          },
          "metadata": {
            "tags": [],
            "needs_background": "light"
          }
        }
      ]
    },
    {
      "cell_type": "code",
      "metadata": {
        "colab_type": "code",
        "id": "k6LLbCf0684G",
        "colab": {
          "base_uri": "https://localhost:8080/",
          "height": 105
        },
        "outputId": "37acc333-a06f-4977-e379-a08363cf06a2"
      },
      "source": [
        "model.state_dict()"
      ],
      "execution_count": 51,
      "outputs": [
        {
          "output_type": "execute_result",
          "data": {
            "text/plain": [
              "OrderedDict([('linear1.weight', tensor([[-6.8131,  6.6644],\n",
              "                      [-6.2714,  6.5666]])),\n",
              "             ('linear1.bias', tensor([-3.5802,  3.1128])),\n",
              "             ('linear2.weight', tensor([[ 11.2923, -10.8243]])),\n",
              "             ('linear2.bias', tensor([5.0908]))])"
            ]
          },
          "metadata": {
            "tags": []
          },
          "execution_count": 51
        }
      ]
    },
    {
      "cell_type": "code",
      "metadata": {
        "colab_type": "code",
        "id": "iPhm3J4R61S2",
        "colab": {
          "base_uri": "https://localhost:8080/",
          "height": 87
        },
        "outputId": "cf318deb-4383-447c-83df-0c7be4f9e20a"
      },
      "source": [
        "model(x).sigmoid()"
      ],
      "execution_count": 52,
      "outputs": [
        {
          "output_type": "execute_result",
          "data": {
            "text/plain": [
              "tensor([[0.0069],\n",
              "        [0.9937],\n",
              "        [0.9905],\n",
              "        [0.0059]], grad_fn=<SigmoidBackward>)"
            ]
          },
          "metadata": {
            "tags": []
          },
          "execution_count": 52
        }
      ]
    }
  ]
}