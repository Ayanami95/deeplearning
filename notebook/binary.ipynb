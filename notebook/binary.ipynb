{
  "nbformat": 4,
  "nbformat_minor": 0,
  "metadata": {
    "colab": {
      "name": "mlp_binary.ipynb",
      "provenance": [],
      "collapsed_sections": [],
      "include_colab_link": true
    },
    "language_info": {
      "codemirror_mode": {
        "name": "ipython",
        "version": 3
      },
      "file_extension": ".py",
      "mimetype": "text/x-python",
      "name": "python",
      "nbconvert_exporter": "python",
      "pygments_lexer": "ipython3",
      "version": "3.5.2"
    },
    "kernelspec": {
      "display_name": "Python 3",
      "language": "python",
      "name": "python3"
    },
    "accelerator": "GPU"
  },
  "cells": [
    {
      "cell_type": "markdown",
      "metadata": {
        "id": "view-in-github",
        "colab_type": "text"
      },
      "source": [
        "<a href=\"https://colab.research.google.com/github/chokkan/deeplearning/blob/master/notebook/binary.ipynb\" target=\"_parent\"><img src=\"https://colab.research.google.com/assets/colab-badge.svg\" alt=\"Open In Colab\"/></a>"
      ]
    },
    {
      "cell_type": "markdown",
      "metadata": {
        "colab_type": "text",
        "id": "CX_9BuPB_hA-"
      },
      "source": [
        "# Feedforward Neural Networks\n",
        "\n",
        "This Jupyter notebook explains various ways of implementing single-layer and multi-layer neural networks. The implementations are arranged by concrete (explicit) to abstract order so that one can understand the black-boxed processing in deep learning frameworks.\n",
        "\n",
        "In order to focus on understanding the internals of training, this notebook uses a simple and classic example: *threshold logic units*.\n",
        "Supposing $x=0$ as *false* and $x=1$ as *true*, single-layer neural networks can realize logic units such as AND ($\\wedge$), OR ($\\vee$), NOT ($\\lnot$), and NAND ($|$). Multi-layer neural networks can realize logical compounds such as XOR.\n",
        "\n",
        "| $x_1$ | $x_2$ | AND | OR | NAND | XOR |\n",
        "| :---: |:-----:|:---:|:--:|:----:|:---:|\n",
        "| 0 | 0 | 0 | 0 | 1 | 0 |\n",
        "| 0 | 1 | 0 | 1 | 1 | 1 |\n",
        "| 1 | 0 | 0 | 1 | 1 | 1 |\n",
        "| 1 | 1 | 1 | 1 | 0 | 0 |\n"
      ]
    },
    {
      "cell_type": "markdown",
      "metadata": {
        "colab_type": "text",
        "id": "qxdFG8U2Net8"
      },
      "source": [
        "## Using numpy"
      ]
    },
    {
      "cell_type": "code",
      "metadata": {
        "id": "Ug4zqMhLB-B6",
        "colab_type": "code",
        "colab": {}
      },
      "source": [
        "import numpy as np"
      ],
      "execution_count": 1,
      "outputs": []
    },
    {
      "cell_type": "markdown",
      "metadata": {
        "colab_type": "text",
        "id": "Ea5cM4JEsENr"
      },
      "source": [
        "### Single-layer perceptron\n",
        "\n",
        "A single layer perceptron predicts a binary label $\\hat{y} \\in \\{0, 1\\}$ for a given input vector $\\boldsymbol{x} \\in \\mathbb{R}^d$ ($d$ presents the number of dimensions of inputs) by using the following formula,\n",
        "$$\n",
        "\\hat{y} = g(\\boldsymbol{w} \\cdot \\boldsymbol{x} + b) = g(w_1 x_1 + w_2 x_2 + ... + w_d x_d + b)\n",
        "$$\n",
        "\n",
        "Here, $\\boldsymbol{w} \\in \\mathbb{R}^d$ is a weight vector; $b \\in \\mathbb{R}$ is a bias weight; and $g(.)$ denotes a Heaviside step function (we assume $g(0)=0$)."
      ]
    },
    {
      "cell_type": "markdown",
      "metadata": {
        "id": "kRpaNDA8BWJY",
        "colab_type": "text"
      },
      "source": [
        "For simplicity, let us consider examples with two-dimensional inputs ($d=2$).\n",
        "We can represent an input vector $\\boldsymbol{x} \\in \\mathbb{R}^2$ and weight vector $\\boldsymbol{w} \\in \\mathbb{R}^2$ with `numpy.array`. We also define the bias term $b$."
      ]
    },
    {
      "cell_type": "code",
      "metadata": {
        "id": "kyX1MfRvBD25",
        "colab_type": "code",
        "colab": {}
      },
      "source": [
        "x = np.array([0, 1])\n",
        "w = np.array([1.0, 1.0])\n",
        "b = 1.0"
      ],
      "execution_count": 2,
      "outputs": []
    },
    {
      "cell_type": "markdown",
      "metadata": {
        "id": "P-P2AkbTCI0P",
        "colab_type": "text"
      },
      "source": [
        "The following code computes $\\boldsymbol{w} \\cdot \\boldsymbol{x} + b$,\n"
      ]
    },
    {
      "cell_type": "code",
      "metadata": {
        "id": "4g_115nLCGqs",
        "colab_type": "code",
        "colab": {
          "base_uri": "https://localhost:8080/",
          "height": 34
        },
        "outputId": "b15de92c-9ca5-4c50-dd32-d0b56dc2d8eb"
      },
      "source": [
        "np.dot(x, w) + b"
      ],
      "execution_count": 3,
      "outputs": [
        {
          "output_type": "execute_result",
          "data": {
            "text/plain": [
              "2.0"
            ]
          },
          "metadata": {
            "tags": []
          },
          "execution_count": 3
        }
      ]
    },
    {
      "cell_type": "markdown",
      "metadata": {
        "id": "UUzhy8YFDIuf",
        "colab_type": "text"
      },
      "source": [
        "Applying Heaviside step function $g$ to the result yields a binary label $\\hat{y}$,"
      ]
    },
    {
      "cell_type": "code",
      "metadata": {
        "id": "KV6a5JT5DH6c",
        "colab_type": "code",
        "colab": {
          "base_uri": "https://localhost:8080/",
          "height": 34
        },
        "outputId": "e93564c4-8f29-40e8-e785-89302edd39a9"
      },
      "source": [
        "np.heaviside(np.dot(x, w) + b, 0)"
      ],
      "execution_count": 4,
      "outputs": [
        {
          "output_type": "execute_result",
          "data": {
            "text/plain": [
              "1.0"
            ]
          },
          "metadata": {
            "tags": []
          },
          "execution_count": 4
        }
      ]
    },
    {
      "cell_type": "markdown",
      "metadata": {
        "id": "7Ppo_Jh8EEs3",
        "colab_type": "text"
      },
      "source": [
        "#### Including the bias term into the weight vector\n",
        "\n",
        "For the simplicity of implementations, we include a bias term `b` as an additional dimension to the weight vector `w`. More concretely, we append an element with the value of $1$ to each input,\n",
        "$$\n",
        "\\boldsymbol{x} = (0, 1) \\rightarrow \\boldsymbol{x}' = (0, 1, 1)\n",
        "$$\n",
        "and expand the dimension of the weight vector $\\boldsymbol{w} \\in \\mathbb{R}^{3}$.\n",
        "\n",
        "Then, the formula of the single-layer perceptron becomes,\n",
        "$$\n",
        "\\hat{y} = g((w_1, w_2, w_3) \\cdot \\boldsymbol{x}') = g(w_1 x_1 + w_2 x_2 + w_3)\n",
        "$$\n",
        "In other words, $w_1$ and $w_2$ present weights for $x_1$ and $x_2$, respectively, and $w_3$ does a bias weight."
      ]
    },
    {
      "cell_type": "code",
      "metadata": {
        "id": "lmQGDVM2FnGy",
        "colab_type": "code",
        "colab": {}
      },
      "source": [
        "x = np.array([0, 1, 1])\n",
        "w = np.array([1.0, 1.0, 1.0])"
      ],
      "execution_count": 5,
      "outputs": []
    },
    {
      "cell_type": "markdown",
      "metadata": {
        "id": "53zn1dWQFvLw",
        "colab_type": "text"
      },
      "source": [
        "We can simplify the code to predict a binary label $\\hat{y}$,"
      ]
    },
    {
      "cell_type": "code",
      "metadata": {
        "id": "rsgq_oOzF4PZ",
        "colab_type": "code",
        "colab": {
          "base_uri": "https://localhost:8080/",
          "height": 34
        },
        "outputId": "54131f50-088d-4ea8-ffd2-2778c765e1e0"
      },
      "source": [
        "np.heaviside(np.dot(x, w), 0)"
      ],
      "execution_count": 6,
      "outputs": [
        {
          "output_type": "execute_result",
          "data": {
            "text/plain": [
              "1.0"
            ]
          },
          "metadata": {
            "tags": []
          },
          "execution_count": 6
        }
      ]
    },
    {
      "cell_type": "markdown",
      "metadata": {
        "id": "53SDTFENBA19",
        "colab_type": "text"
      },
      "source": [
        "#### Training a NAND gate\n",
        "\n",
        "Let's train a NAND gate with two inputs. More specifically, we want to find a weight vector $\\boldsymbol{w}$ and a bias weight $b$ of a single-layer perceptron that realizes the truth table of the NAND gate: $\\{0,1\\}^2 \\to \\{0,1\\}$.\n",
        "\n",
        "| $x_1$ | $x_2$ | $y$  |\n",
        "| :---: |:-----:|:----:|\n",
        "| 0 | 0 | 1|\n",
        "| 0 | 1 | 1|\n",
        "| 1 | 0 | 1|\n",
        "| 1 | 1 | 0|\n",
        "\n",
        "We convert the truth table into a training set consisting of all mappings of the NAND gate,\n",
        "$$\n",
        "\\boldsymbol{x}_1 = (0, 0), y_1 = 1 \\\\\n",
        "\\boldsymbol{x}_2 = (0, 1), y_2 = 1 \\\\\n",
        "\\boldsymbol{x}_3 = (1, 0), y_3 = 1 \\\\\n",
        "\\boldsymbol{x}_4 = (1, 1), y_4 = 0 \\\\\n",
        "$$\n",
        "\n",
        "As explained earlier, we include the bias term into the last dimension.\n",
        "$$\n",
        "\\boldsymbol{x}'_1 = (0, 0, 1), y_1 = 1 \\\\\n",
        "\\boldsymbol{x}'_2 = (0, 1, 1), y_2 = 1 \\\\\n",
        "\\boldsymbol{x}'_3 = (1, 0, 1), y_3 = 1 \\\\\n",
        "\\boldsymbol{x}'_4 = (1, 1, 1), y_4 = 0 \\\\\n",
        "$$\n",
        "\n",
        "The code below implements Rosenblatt's perceptron algorithm with a fixed number of iterations (50 times). We use a constant learning rate 0.5 for simplicity.\n"
      ]
    },
    {
      "cell_type": "code",
      "metadata": {
        "colab_type": "code",
        "id": "2ygoUjQYrPoj",
        "colab": {
          "base_uri": "https://localhost:8080/",
          "height": 867
        },
        "outputId": "9176e947-9b7f-4d76-9d86-5f087661b9f1"
      },
      "source": [
        "import random\n",
        "import numpy as np\n",
        "\n",
        "# Training data for NAND.\n",
        "x = np.array([\n",
        "    [0, 0, 1], [0, 1, 1], [1, 0, 1], [1, 1, 1]\n",
        "    ])\n",
        "y = np.array([0, 0, 0, 1])\n",
        "w = np.array([0.0, 0.0, 0.0])\n",
        "\n",
        "eta = 0.5\n",
        "for t in range(50):\n",
        "    # Pick an instance index (i) at random.\n",
        "    i = random.choice(range(len(y)))\n",
        "    # Predict the label for the instance x[i] with the current parameter w.\n",
        "    y_pred = np.heaviside(np.dot(x[i], w), 0)\n",
        "    # Show the detail of the instance and the current parameter.\n",
        "    print(f'#{t}: i={i}, x={x[i]}, w={w}, y={y[i]}, y_pred={y_pred}, y_err={y[i] - y_pred}')\n",
        "    # Update the parameter.\n",
        "    w += (y[i] - y_pred) * eta * x[i]"
      ],
      "execution_count": 7,
      "outputs": [
        {
          "output_type": "stream",
          "text": [
            "#0: i=0, x=[0 0 1], w=[0. 0. 0.], y=0, y_pred=0.0, y_err=0.0\n",
            "#1: i=3, x=[1 1 1], w=[0. 0. 0.], y=1, y_pred=0.0, y_err=1.0\n",
            "#2: i=0, x=[0 0 1], w=[0.5 0.5 0.5], y=0, y_pred=1.0, y_err=-1.0\n",
            "#3: i=3, x=[1 1 1], w=[0.5 0.5 0. ], y=1, y_pred=1.0, y_err=0.0\n",
            "#4: i=2, x=[1 0 1], w=[0.5 0.5 0. ], y=0, y_pred=1.0, y_err=-1.0\n",
            "#5: i=2, x=[1 0 1], w=[ 0.   0.5 -0.5], y=0, y_pred=0.0, y_err=0.0\n",
            "#6: i=1, x=[0 1 1], w=[ 0.   0.5 -0.5], y=0, y_pred=0.0, y_err=0.0\n",
            "#7: i=1, x=[0 1 1], w=[ 0.   0.5 -0.5], y=0, y_pred=0.0, y_err=0.0\n",
            "#8: i=2, x=[1 0 1], w=[ 0.   0.5 -0.5], y=0, y_pred=0.0, y_err=0.0\n",
            "#9: i=1, x=[0 1 1], w=[ 0.   0.5 -0.5], y=0, y_pred=0.0, y_err=0.0\n",
            "#10: i=2, x=[1 0 1], w=[ 0.   0.5 -0.5], y=0, y_pred=0.0, y_err=0.0\n",
            "#11: i=3, x=[1 1 1], w=[ 0.   0.5 -0.5], y=1, y_pred=0.0, y_err=1.0\n",
            "#12: i=1, x=[0 1 1], w=[0.5 1.  0. ], y=0, y_pred=1.0, y_err=-1.0\n",
            "#13: i=1, x=[0 1 1], w=[ 0.5  0.5 -0.5], y=0, y_pred=0.0, y_err=0.0\n",
            "#14: i=2, x=[1 0 1], w=[ 0.5  0.5 -0.5], y=0, y_pred=0.0, y_err=0.0\n",
            "#15: i=3, x=[1 1 1], w=[ 0.5  0.5 -0.5], y=1, y_pred=1.0, y_err=0.0\n",
            "#16: i=1, x=[0 1 1], w=[ 0.5  0.5 -0.5], y=0, y_pred=0.0, y_err=0.0\n",
            "#17: i=0, x=[0 0 1], w=[ 0.5  0.5 -0.5], y=0, y_pred=0.0, y_err=0.0\n",
            "#18: i=0, x=[0 0 1], w=[ 0.5  0.5 -0.5], y=0, y_pred=0.0, y_err=0.0\n",
            "#19: i=0, x=[0 0 1], w=[ 0.5  0.5 -0.5], y=0, y_pred=0.0, y_err=0.0\n",
            "#20: i=1, x=[0 1 1], w=[ 0.5  0.5 -0.5], y=0, y_pred=0.0, y_err=0.0\n",
            "#21: i=1, x=[0 1 1], w=[ 0.5  0.5 -0.5], y=0, y_pred=0.0, y_err=0.0\n",
            "#22: i=2, x=[1 0 1], w=[ 0.5  0.5 -0.5], y=0, y_pred=0.0, y_err=0.0\n",
            "#23: i=1, x=[0 1 1], w=[ 0.5  0.5 -0.5], y=0, y_pred=0.0, y_err=0.0\n",
            "#24: i=3, x=[1 1 1], w=[ 0.5  0.5 -0.5], y=1, y_pred=1.0, y_err=0.0\n",
            "#25: i=0, x=[0 0 1], w=[ 0.5  0.5 -0.5], y=0, y_pred=0.0, y_err=0.0\n",
            "#26: i=2, x=[1 0 1], w=[ 0.5  0.5 -0.5], y=0, y_pred=0.0, y_err=0.0\n",
            "#27: i=2, x=[1 0 1], w=[ 0.5  0.5 -0.5], y=0, y_pred=0.0, y_err=0.0\n",
            "#28: i=0, x=[0 0 1], w=[ 0.5  0.5 -0.5], y=0, y_pred=0.0, y_err=0.0\n",
            "#29: i=1, x=[0 1 1], w=[ 0.5  0.5 -0.5], y=0, y_pred=0.0, y_err=0.0\n",
            "#30: i=1, x=[0 1 1], w=[ 0.5  0.5 -0.5], y=0, y_pred=0.0, y_err=0.0\n",
            "#31: i=3, x=[1 1 1], w=[ 0.5  0.5 -0.5], y=1, y_pred=1.0, y_err=0.0\n",
            "#32: i=2, x=[1 0 1], w=[ 0.5  0.5 -0.5], y=0, y_pred=0.0, y_err=0.0\n",
            "#33: i=0, x=[0 0 1], w=[ 0.5  0.5 -0.5], y=0, y_pred=0.0, y_err=0.0\n",
            "#34: i=2, x=[1 0 1], w=[ 0.5  0.5 -0.5], y=0, y_pred=0.0, y_err=0.0\n",
            "#35: i=2, x=[1 0 1], w=[ 0.5  0.5 -0.5], y=0, y_pred=0.0, y_err=0.0\n",
            "#36: i=1, x=[0 1 1], w=[ 0.5  0.5 -0.5], y=0, y_pred=0.0, y_err=0.0\n",
            "#37: i=2, x=[1 0 1], w=[ 0.5  0.5 -0.5], y=0, y_pred=0.0, y_err=0.0\n",
            "#38: i=0, x=[0 0 1], w=[ 0.5  0.5 -0.5], y=0, y_pred=0.0, y_err=0.0\n",
            "#39: i=2, x=[1 0 1], w=[ 0.5  0.5 -0.5], y=0, y_pred=0.0, y_err=0.0\n",
            "#40: i=0, x=[0 0 1], w=[ 0.5  0.5 -0.5], y=0, y_pred=0.0, y_err=0.0\n",
            "#41: i=2, x=[1 0 1], w=[ 0.5  0.5 -0.5], y=0, y_pred=0.0, y_err=0.0\n",
            "#42: i=3, x=[1 1 1], w=[ 0.5  0.5 -0.5], y=1, y_pred=1.0, y_err=0.0\n",
            "#43: i=0, x=[0 0 1], w=[ 0.5  0.5 -0.5], y=0, y_pred=0.0, y_err=0.0\n",
            "#44: i=1, x=[0 1 1], w=[ 0.5  0.5 -0.5], y=0, y_pred=0.0, y_err=0.0\n",
            "#45: i=0, x=[0 0 1], w=[ 0.5  0.5 -0.5], y=0, y_pred=0.0, y_err=0.0\n",
            "#46: i=2, x=[1 0 1], w=[ 0.5  0.5 -0.5], y=0, y_pred=0.0, y_err=0.0\n",
            "#47: i=0, x=[0 0 1], w=[ 0.5  0.5 -0.5], y=0, y_pred=0.0, y_err=0.0\n",
            "#48: i=2, x=[1 0 1], w=[ 0.5  0.5 -0.5], y=0, y_pred=0.0, y_err=0.0\n",
            "#49: i=0, x=[0 0 1], w=[ 0.5  0.5 -0.5], y=0, y_pred=0.0, y_err=0.0\n"
          ],
          "name": "stdout"
        }
      ]
    },
    {
      "cell_type": "markdown",
      "metadata": {
        "id": "8geTVVpnlu1O",
        "colab_type": "text"
      },
      "source": [
        "We can confirm the learned parameter and classification results."
      ]
    },
    {
      "cell_type": "code",
      "metadata": {
        "colab_type": "code",
        "id": "TYoeshu2rXdK",
        "colab": {
          "base_uri": "https://localhost:8080/",
          "height": 34
        },
        "outputId": "7984c135-a3e7-4254-d906-74eeca6dda83"
      },
      "source": [
        "w"
      ],
      "execution_count": 8,
      "outputs": [
        {
          "output_type": "execute_result",
          "data": {
            "text/plain": [
              "array([ 0.5,  0.5, -0.5])"
            ]
          },
          "metadata": {
            "tags": []
          },
          "execution_count": 8
        }
      ]
    },
    {
      "cell_type": "code",
      "metadata": {
        "colab_type": "code",
        "id": "hOFgUFojraFA",
        "colab": {
          "base_uri": "https://localhost:8080/",
          "height": 34
        },
        "outputId": "289d5636-bb66-4eb1-be11-f2ee2f3ad5d5"
      },
      "source": [
        "np.heaviside(np.dot(x, w), 0)"
      ],
      "execution_count": 9,
      "outputs": [
        {
          "output_type": "execute_result",
          "data": {
            "text/plain": [
              "array([0., 0., 0., 1.])"
            ]
          },
          "metadata": {
            "tags": []
          },
          "execution_count": 9
        }
      ]
    },
    {
      "cell_type": "markdown",
      "metadata": {
        "colab_type": "text",
        "id": "bl_ZAEguNzgU"
      },
      "source": [
        "### Single-layer perceptron with mini-batch\n",
        "\n",
        "It is desireable to reduce the execusion run by the Python interpreter, which is extremely slow. The common technique to speed up a machine-learning code written in Python is to to execute computations within the matrix library (e.g., numpy).\n",
        "\n",
        "The single-layer perceptron makes predictions for four inputs,\n",
        "$$\n",
        "\\hat{y}_1 = g(\\boldsymbol{x}_1 \\cdot \\boldsymbol{w}) \\\\\n",
        "\\hat{y}_2 = g(\\boldsymbol{x}_2 \\cdot \\boldsymbol{w}) \\\\\n",
        "\\hat{y}_3 = g(\\boldsymbol{x}_3 \\cdot \\boldsymbol{w}) \\\\\n",
        "\\hat{y}_4 = g(\\boldsymbol{x}_4 \\cdot \\boldsymbol{w}) \\\\\n",
        "$$\n",
        "\n",
        "Here, we define $\\hat{Y} \\in \\mathbb{R}^{4 \\times 1}$ and $X \\in \\mathbb{R}^{4 \\times d}$ as,\n",
        "$$\n",
        "\\hat{Y} = \\begin{pmatrix} \n",
        "  \\hat{y}_1 \\\\ \n",
        "  \\hat{y}_2 \\\\ \n",
        "  \\hat{y}_3 \\\\ \n",
        "  \\hat{y}_4 \\\\ \n",
        "\\end{pmatrix},\n",
        "X = \\begin{pmatrix} \n",
        "  \\boldsymbol{x}_1 \\\\ \n",
        "  \\boldsymbol{x}_2 \\\\ \n",
        "  \\boldsymbol{x}_3 \\\\ \n",
        "  \\boldsymbol{x}_4 \\\\ \n",
        "\\end{pmatrix}\n",
        "$$\n",
        "\n",
        "Then, we can write the four predictions in one dot-product computation,\n",
        "$$\n",
        "\\hat{Y} = X \\cdot \\boldsymbol{w}\n",
        "$$\n",
        "\n",
        "The code below implements this idea. The function `np.heaviside()` yields a vector corresponding to the four predictions, applying the step function for every element of the argument.\n",
        "\n",
        "This technique is frequently used in mini-batch training."
      ]
    },
    {
      "cell_type": "code",
      "metadata": {
        "colab_type": "code",
        "id": "2fK-_WimtPwb",
        "colab": {
          "base_uri": "https://localhost:8080/",
          "height": 187
        },
        "outputId": "2f3c70b5-7a49-40c8-9036-c2e091d23168"
      },
      "source": [
        "import numpy as np\n",
        "\n",
        "# Training data for NAND.\n",
        "x = np.array([\n",
        "    [0, 0, 1], [0, 1, 1], [1, 0, 1], [1, 1, 1]\n",
        "    ])\n",
        "y = np.array([1, 1, 1, 0])\n",
        "w = np.array([0.0, 0.0, 0.0])\n",
        "\n",
        "eta = 0.5\n",
        "for t in range(10):\n",
        "    y_pred = np.heaviside(np.dot(x, w), 0)\n",
        "    print(f'#{t}: w={w}, Y={y}, Ypred={y_pred}, Yerr={y-y_pred}, dw={np.dot((y - y_pred), x)}')\n",
        "    w += np.dot((y - y_pred), x)"
      ],
      "execution_count": 10,
      "outputs": [
        {
          "output_type": "stream",
          "text": [
            "#0: w=[0. 0. 0.], Y=[1 1 1 0], Ypred=[0. 0. 0. 0.], Yerr=[1. 1. 1. 0.], dw=[1. 1. 3.]\n",
            "#1: w=[1. 1. 3.], Y=[1 1 1 0], Ypred=[1. 1. 1. 1.], Yerr=[ 0.  0.  0. -1.], dw=[-1. -1. -1.]\n",
            "#2: w=[0. 0. 2.], Y=[1 1 1 0], Ypred=[1. 1. 1. 1.], Yerr=[ 0.  0.  0. -1.], dw=[-1. -1. -1.]\n",
            "#3: w=[-1. -1.  1.], Y=[1 1 1 0], Ypred=[1. 0. 0. 0.], Yerr=[0. 1. 1. 0.], dw=[1. 1. 2.]\n",
            "#4: w=[0. 0. 3.], Y=[1 1 1 0], Ypred=[1. 1. 1. 1.], Yerr=[ 0.  0.  0. -1.], dw=[-1. -1. -1.]\n",
            "#5: w=[-1. -1.  2.], Y=[1 1 1 0], Ypred=[1. 1. 1. 0.], Yerr=[0. 0. 0. 0.], dw=[0. 0. 0.]\n",
            "#6: w=[-1. -1.  2.], Y=[1 1 1 0], Ypred=[1. 1. 1. 0.], Yerr=[0. 0. 0. 0.], dw=[0. 0. 0.]\n",
            "#7: w=[-1. -1.  2.], Y=[1 1 1 0], Ypred=[1. 1. 1. 0.], Yerr=[0. 0. 0. 0.], dw=[0. 0. 0.]\n",
            "#8: w=[-1. -1.  2.], Y=[1 1 1 0], Ypred=[1. 1. 1. 0.], Yerr=[0. 0. 0. 0.], dw=[0. 0. 0.]\n",
            "#9: w=[-1. -1.  2.], Y=[1 1 1 0], Ypred=[1. 1. 1. 0.], Yerr=[0. 0. 0. 0.], dw=[0. 0. 0.]\n"
          ],
          "name": "stdout"
        }
      ]
    },
    {
      "cell_type": "markdown",
      "metadata": {
        "id": "CWvR709WnUlH",
        "colab_type": "text"
      },
      "source": [
        "We can confirm the learned parameter and classification results."
      ]
    },
    {
      "cell_type": "code",
      "metadata": {
        "colab_type": "code",
        "id": "_x4p1BldtQ-K",
        "colab": {
          "base_uri": "https://localhost:8080/",
          "height": 34
        },
        "outputId": "7eabd8cc-c46a-4cd1-b47f-f401027c5c5b"
      },
      "source": [
        "w"
      ],
      "execution_count": 11,
      "outputs": [
        {
          "output_type": "execute_result",
          "data": {
            "text/plain": [
              "array([-1., -1.,  2.])"
            ]
          },
          "metadata": {
            "tags": []
          },
          "execution_count": 11
        }
      ]
    },
    {
      "cell_type": "code",
      "metadata": {
        "colab_type": "code",
        "id": "E-P2RpWrtVyf",
        "colab": {
          "base_uri": "https://localhost:8080/",
          "height": 34
        },
        "outputId": "10283c9b-9595-4f8c-fb86-3749e051799a"
      },
      "source": [
        "np.heaviside(np.dot(x, w), 0)"
      ],
      "execution_count": 12,
      "outputs": [
        {
          "output_type": "execute_result",
          "data": {
            "text/plain": [
              "array([1., 1., 1., 0.])"
            ]
          },
          "metadata": {
            "tags": []
          },
          "execution_count": 12
        }
      ]
    },
    {
      "cell_type": "markdown",
      "metadata": {
        "colab_type": "text",
        "id": "nkxBcCSTtDvm"
      },
      "source": [
        "### Stochastic gradient descent (SGD) with mini-batch"
      ]
    },
    {
      "cell_type": "code",
      "metadata": {
        "colab_type": "code",
        "id": "bltpfNRctjV5",
        "colab": {
          "base_uri": "https://localhost:8080/",
          "height": 1000
        },
        "outputId": "6262f41e-1bce-450a-fd4c-42c8ad9dbeae"
      },
      "source": [
        "import numpy as np\n",
        "\n",
        "def sigmoid(v):\n",
        "    return 1.0 / (1 + np.exp(-v))\n",
        "\n",
        "# Training data for NAND.\n",
        "x = np.array([\n",
        "    [0, 0, 1], [0, 1, 1], [1, 0, 1], [1, 1, 1]\n",
        "    ])\n",
        "y = np.array([1, 1, 1, 0])\n",
        "w = np.array([0.0, 0.0, 0.0])\n",
        "\n",
        "eta = 0.5\n",
        "for t in range(100):\n",
        "    y_pred = sigmoid(np.dot(x, w))\n",
        "    print(f'#{t}: w={w}, Y={y}, Ypred={y_pred}, Yerr={y-y_pred}, dw={np.dot((y - y_pred), x)}')\n",
        "    w -= np.dot((y_pred - y), x)"
      ],
      "execution_count": 13,
      "outputs": [
        {
          "output_type": "stream",
          "text": [
            "#0: w=[0. 0. 0.], Y=[1 1 1 0], Ypred=[0.5 0.5 0.5 0.5], Yerr=[ 0.5  0.5  0.5 -0.5], dw=[0. 0. 1.]\n",
            "#1: w=[0. 0. 1.], Y=[1 1 1 0], Ypred=[0.73105858 0.73105858 0.73105858 0.73105858], Yerr=[ 0.26894142  0.26894142  0.26894142 -0.73105858], dw=[-0.46211716 -0.46211716  0.07576569]\n",
            "#2: w=[-0.46211716 -0.46211716  1.07576569], Y=[1 1 1 0], Ypred=[0.74569184 0.64877263 0.64877263 0.53781052], Yerr=[ 0.25430816  0.35122737  0.35122737 -0.53781052], dw=[-0.18658315 -0.18658315  0.41895238]\n",
            "#3: w=[-0.64870031 -0.64870031  1.49471806], Y=[1 1 1 0], Ypred=[0.81678537 0.69973111 0.69973111 0.54916993], Yerr=[ 0.18321463  0.30026889  0.30026889 -0.54916993], dw=[-0.24890104 -0.24890104  0.23458248]\n",
            "#4: w=[-0.89760135 -0.89760135  1.72930054], Y=[1 1 1 0], Ypred=[0.84932293 0.6967141  0.6967141  0.48353042], Yerr=[ 0.15067707  0.3032859   0.3032859  -0.48353042], dw=[-0.18024452 -0.18024452  0.27371846]\n",
            "#5: w=[-1.07784586 -1.07784586  2.003019  ], Y=[1 1 1 0], Ypred=[0.88111369 0.71609499 0.71609499 0.46190578], Yerr=[ 0.11888631  0.28390501  0.28390501 -0.46190578], dw=[-0.17800078 -0.17800078  0.22479054]\n",
            "#6: w=[-1.25584664 -1.25584664  2.22780954], Y=[1 1 1 0], Ypred=[0.90271917 0.72551057 0.72551057 0.42950188], Yerr=[ 0.09728083  0.27448943  0.27448943 -0.42950188], dw=[-0.15501245 -0.15501245  0.21675781]\n",
            "#7: w=[-1.4108591  -1.4108591   2.44456734], Y=[1 1 1 0], Ypred=[0.92016326 0.73763419 0.73763419 0.40681426], Yerr=[ 0.07983674  0.26236581  0.26236581 -0.40681426], dw=[-0.14444845 -0.14444845  0.19775411]\n",
            "#8: w=[-1.55530754 -1.55530754  2.64232145], Y=[1 1 1 0], Ypred=[0.93353615 0.747819   0.747819   0.3850202 ], Yerr=[ 0.06646385  0.252181    0.252181   -0.3850202 ], dw=[-0.1328392  -0.1328392   0.18580565]\n",
            "#9: w=[-1.68814674 -1.68814674  2.8281271 ], Y=[1 1 1 0], Ypred=[0.94417697 0.75767603 0.75767603 0.36628993], Yerr=[ 0.05582303  0.24232397  0.24232397 -0.36628993], dw=[-0.12396596 -0.12396596  0.17418104]\n",
            "#10: w=[-1.8121127  -1.8121127   3.00230814], Y=[1 1 1 0], Ypred=[0.95267829 0.76677602 0.76677602 0.34934553], Yerr=[ 0.04732171  0.23322398  0.23322398 -0.34934553], dw=[-0.11612154 -0.11612154  0.16442415]\n",
            "#11: w=[-1.92823424 -1.92823424  3.16673229], Y=[1 1 1 0], Ypred=[0.95956298 0.77530247 0.77530247 0.33409176], Yerr=[ 0.04043702  0.22469753  0.22469753 -0.33409176], dw=[-0.10939423 -0.10939423  0.15574032]\n",
            "#12: w=[-2.03762847 -2.03762847  3.32247261], Y=[1 1 1 0], Ypred=[0.96519176 0.78327323 0.78327323 0.32021491], Yerr=[ 0.03480824  0.21672677  0.21672677 -0.32021491], dw=[-0.10348814 -0.10348814  0.14804688]\n",
            "#13: w=[-2.14111661 -2.14111661  3.47051948], Y=[1 1 1 0], Ypred=[0.96983722 0.79074185 0.79074185 0.30752543], Yerr=[ 0.03016278  0.20925815  0.20925815 -0.30752543], dw=[-0.09826728 -0.09826728  0.14115366]\n",
            "#14: w=[-2.23938389 -2.23938389  3.61167315], Y=[1 1 1 0], Ypred=[0.97370356 0.79774977 0.79774977 0.29585921], Yerr=[ 0.02629644  0.20225023  0.20225023 -0.29585921], dw=[-0.09360898 -0.09360898  0.1349377 ]\n",
            "#15: w=[-2.33299286 -2.33299286  3.74661085], Y=[1 1 1 0], Ypred=[0.97694642 0.80433597 0.80433597 0.28508529], Yerr=[ 0.02305358  0.19566403  0.19566403 -0.28508529], dw=[-0.08942125 -0.08942125  0.12929636]\n",
            "#16: w=[-2.42241411 -2.42241411  3.8759072 ], Y=[1 1 1 0], Ypred=[0.97968571 0.81053544 0.81053544 0.27509562], Yerr=[ 0.02031429  0.18946456  0.18946456 -0.27509562], dw=[-0.08563106 -0.08563106  0.12414779]\n",
            "#17: w=[-2.50804517 -2.50804517  4.00005499], Y=[1 1 1 0], Ypred=[0.98201476 0.81637974 0.81637974 0.26580038], Yerr=[ 0.01798524  0.18362026  0.18362026 -0.26580038], dw=[-0.08218013 -0.08218013  0.11942537]\n",
            "#18: w=[-2.5902253  -2.5902253   4.11948036], Y=[1 1 1 0], Ypred=[0.98400698 0.82189729 0.82189729 0.25712408], Yerr=[ 0.01599302  0.17810271  0.17810271 -0.25712408], dw=[-0.07902138 -0.07902138  0.11507435]\n",
            "#19: w=[-2.66924668 -2.66924668  4.23455471], Y=[1 1 1 0], Ypred=[0.9857206  0.8271137  0.8271137  0.24900264], Yerr=[ 0.0142794   0.1728863   0.1728863  -0.24900264], dw=[-0.07611634 -0.07611634  0.11104936]\n",
            "#20: w=[-2.74536302 -2.74536302  4.34560407], Y=[1 1 1 0], Ypred=[0.98720223 0.83205207 0.83205207 0.2413812 ], Yerr=[ 0.01279777  0.16794793  0.16794793 -0.2413812 ], dw=[-0.07343328 -0.07343328  0.10731242]\n",
            "#21: w=[-2.8187963  -2.8187963   4.45291649], Y=[1 1 1 0], Ypred=[0.98848948 0.83673328 0.83673328 0.23421246], Yerr=[ 0.01151052  0.16326672  0.16326672 -0.23421246], dw=[-0.07094575 -0.07094575  0.10383149]\n",
            "#22: w=[-2.88974204 -2.88974204  4.55674799], Y=[1 1 1 0], Ypred=[0.98961289 0.84117623 0.84117623 0.22745531], Yerr=[ 0.01038711  0.15882377  0.15882377 -0.22745531], dw=[-0.06863153 -0.06863153  0.10057935]\n",
            "#23: w=[-2.95837358 -2.95837358  4.65732734], Y=[1 1 1 0], Ypred=[0.99059745 0.84539804 0.84539804 0.22107378], Yerr=[ 0.00940255  0.15460196  0.15460196 -0.22107378], dw=[-0.06647182 -0.06647182  0.09753268]\n",
            "#24: w=[-3.0248454  -3.0248454   4.75486002], Y=[1 1 1 0], Ypred=[0.99146375 0.84941429 0.84941429 0.21503627], Yerr=[ 0.00853625  0.15058571  0.15058571 -0.21503627], dw=[-0.06445056 -0.06445056  0.0946714 ]\n",
            "#25: w=[-3.08929596 -3.08929596  4.84953142], Y=[1 1 1 0], Ypred=[0.99222882 0.85323915 0.85323915 0.20931481], Yerr=[ 0.00777118  0.14676085  0.14676085 -0.20931481], dw=[-0.06255396 -0.06255396  0.09197808]\n",
            "#26: w=[-3.15184992 -3.15184992  4.9415095 ], Y=[1 1 1 0], Ypred=[0.99290687 0.85688553 0.85688553 0.20388454], Yerr=[ 0.00709313  0.14311447  0.14311447 -0.20388454], dw=[-0.06077008 -0.06077008  0.08943752]\n",
            "#27: w=[-3.21262    -3.21262     5.03094702], Y=[1 1 1 0], Ypred=[0.99350978 0.86036526 0.86036526 0.19872329], Yerr=[ 0.00649022  0.13963474  0.13963474 -0.19872329], dw=[-0.05908855 -0.05908855  0.08703641]\n",
            "#28: w=[-3.27170855 -3.27170855  5.11798343], Y=[1 1 1 0], Ypred=[0.99404756 0.86368914 0.86368914 0.19381117], Yerr=[ 0.00595244  0.13631086  0.13631086 -0.19381117], dw=[-0.0575003 -0.0575003  0.084763 ]\n",
            "#29: w=[-3.32920886 -3.32920886  5.20274643], Y=[1 1 1 0], Ypred=[0.99452867 0.86686707 0.86686707 0.18913028], Yerr=[ 0.00547133  0.13313293  0.13313293 -0.18913028], dw=[-0.05599736 -0.05599736  0.0826069 ]\n",
            "#30: w=[-3.38520622 -3.38520622  5.28535333], Y=[1 1 1 0], Ypred=[0.99496029 0.86990818 0.86990818 0.18466449], Yerr=[ 0.00503971  0.13009182  0.13009182 -0.18466449], dw=[-0.05457266 -0.05457266  0.08055888]\n",
            "#31: w=[-3.43977888 -3.43977888  5.36591221], Y=[1 1 1 0], Ypred=[0.99534854 0.87282082 0.87282082 0.18039915], Yerr=[ 0.00465146  0.12717918  0.12717918 -0.18039915], dw=[-0.05321997 -0.05321997  0.07861067]\n",
            "#32: w=[-3.49299885 -3.49299885  5.44452288], Y=[1 1 1 0], Ypred=[0.99569868 0.87561273 0.87561273 0.17632098], Yerr=[ 0.00430132  0.12438727  0.12438727 -0.17632098], dw=[-0.05193371 -0.05193371  0.07675489]\n",
            "#33: w=[-3.54493256 -3.54493256  5.52127776], Y=[1 1 1 0], Ypred=[0.99601521 0.87829102 0.87829102 0.17241787], Yerr=[ 0.00398479  0.12170898  0.12170898 -0.17241787], dw=[-0.05070889 -0.05070889  0.07498488]\n",
            "#34: w=[-3.59564145 -3.59564145  5.59626265], Y=[1 1 1 0], Ypred=[0.99630202 0.88086228 0.88086228 0.16867876], Yerr=[ 0.00369798  0.11913772  0.11913772 -0.16867876], dw=[-0.04954104 -0.04954104  0.07329466]\n",
            "#35: w=[-3.64518249 -3.64518249  5.66955731], Y=[1 1 1 0], Ypred=[0.99656247 0.88333262 0.88333262 0.16509351], Yerr=[ 0.00343753  0.11666738  0.11666738 -0.16509351], dw=[-0.04842613 -0.04842613  0.07167879]\n",
            "#36: w=[-3.69360862 -3.69360862  5.74123609], Y=[1 1 1 0], Ypred=[0.99679948 0.88570767 0.88570767 0.16165285], Yerr=[ 0.00320052  0.11429233  0.11429233 -0.16165285], dw=[-0.04736052 -0.04736052  0.07013233]\n",
            "#37: w=[-3.74096913 -3.74096913  5.81136842], Y=[1 1 1 0], Ypred=[0.9970156  0.88799268 0.88799268 0.15834822], Yerr=[ 0.0029844   0.11200732  0.11200732 -0.15834822], dw=[-0.0463409  -0.0463409   0.06865082]\n",
            "#38: w=[-3.78731004 -3.78731004  5.88001924], Y=[1 1 1 0], Ypred=[0.99721306 0.89019253 0.89019253 0.15517174], Yerr=[ 0.00278694  0.10980747  0.10980747 -0.15517174], dw=[-0.04536427 -0.04536427  0.06723014]\n",
            "#39: w=[-3.83267431 -3.83267431  5.94724938], Y=[1 1 1 0], Ypred=[0.99739379 0.89231175 0.89231175 0.15211616], Yerr=[ 0.00260621  0.10768825  0.10768825 -0.15211616], dw=[-0.0444279  -0.0444279   0.06586656]\n",
            "#40: w=[-3.87710221 -3.87710221  6.01311594], Y=[1 1 1 0], Ypred=[0.99755952 0.89435456 0.89435456 0.14917473], Yerr=[ 0.00244048  0.10564544  0.10564544 -0.14917473], dw=[-0.04352929 -0.04352929  0.06455663]\n",
            "#41: w=[-3.9206315  -3.9206315   6.07767257], Y=[1 1 1 0], Ypred=[0.99771174 0.89632491 0.89632491 0.14634123], Yerr=[ 0.00228826  0.10367509  0.10367509 -0.14634123], dw=[-0.04266614 -0.04266614  0.06329721]\n",
            "#42: w=[-3.96329764 -3.96329764  6.14096978], Y=[1 1 1 0], Ypred=[0.99785179 0.89822647 0.89822647 0.14360989], Yerr=[ 0.00214821  0.10177353  0.10177353 -0.14360989], dw=[-0.04183635 -0.04183635  0.06208539]\n",
            "#43: w=[-4.005134   -4.005134    6.20305517], Y=[1 1 1 0], Ypred=[0.99798085 0.90006268 0.90006268 0.14097532], Yerr=[ 0.00201915  0.09993732  0.09993732 -0.14097532], dw=[-0.041038   -0.041038    0.06091848]\n",
            "#44: w=[-4.04617199 -4.04617199  6.26397365], Y=[1 1 1 0], Ypred=[0.99809995 0.90183675 0.90183675 0.13843253], Yerr=[ 0.00190005  0.09816325  0.09816325 -0.13843253], dw=[-0.04026928 -0.04026928  0.05979401]\n",
            "#45: w=[-4.08644127 -4.08644127  6.32376767], Y=[1 1 1 0], Ypred=[0.99821004 0.90355172 0.90355172 0.13597685], Yerr=[ 0.00178996  0.09644828  0.09644828 -0.13597685], dw=[-0.03952857 -0.03952857  0.05870968]\n",
            "#46: w=[-4.12596984 -4.12596984  6.38247735], Y=[1 1 1 0], Ypred=[0.99831193 0.90521038 0.90521038 0.13360395], Yerr=[ 0.00168807  0.09478962  0.09478962 -0.13360395], dw=[-0.03881433 -0.03881433  0.05766336]\n",
            "#47: w=[-4.16478417 -4.16478417  6.44014071], Y=[1 1 1 0], Ypred=[0.99840636 0.90681541 0.90681541 0.13130974], Yerr=[ 0.00159364  0.09318459  0.09318459 -0.13130974], dw=[-0.03812515 -0.03812515  0.05665308]\n",
            "#48: w=[-4.20290933 -4.20290933  6.49679379], Y=[1 1 1 0], Ypred=[0.998494   0.90836928 0.90836928 0.12909044], Yerr=[ 0.001506    0.09163072  0.09163072 -0.12909044], dw=[-0.03745973 -0.03745973  0.05567698]\n",
            "#49: w=[-4.24036905 -4.24036905  6.55247077], Y=[1 1 1 0], Ypred=[0.99857545 0.90987435 0.90987435 0.12694248], Yerr=[ 0.00142455  0.09012565  0.09012565 -0.12694248], dw=[-0.03681683 -0.03681683  0.05473337]\n",
            "#50: w=[-4.27718589 -4.27718589  6.60720414], Y=[1 1 1 0], Ypred=[0.99865122 0.91133281 0.91133281 0.12486253], Yerr=[ 0.00134878  0.08866719  0.08866719 -0.12486253], dw=[-0.03619534 -0.03619534  0.05382063]\n",
            "#51: w=[-4.31338123 -4.31338123  6.66102477], Y=[1 1 1 0], Ypred=[0.9987218  0.91274674 0.91274674 0.12284744], Yerr=[ 0.0012782   0.08725326  0.08725326 -0.12284744], dw=[-0.03559418 -0.03559418  0.05293728]\n",
            "#52: w=[-4.34897541 -4.34897541  6.71396205], Y=[1 1 1 0], Ypred=[0.99878763 0.9141181  0.9141181  0.12089427], Yerr=[ 0.00121237  0.0858819   0.0858819  -0.12089427], dw=[-0.03501237 -0.03501237  0.05208191]\n",
            "#53: w=[-4.38398778 -4.38398778  6.76604395], Y=[1 1 1 0], Ypred=[0.99884908 0.91544872 0.91544872 0.11900026], Yerr=[ 0.00115092  0.08455128  0.08455128 -0.11900026], dw=[-0.03444899 -0.03444899  0.05125321]\n",
            "#54: w=[-4.41843677 -4.41843677  6.81729716], Y=[1 1 1 0], Ypred=[0.99890652 0.91674036 0.91674036 0.1171628 ], Yerr=[ 0.00109348  0.08325964  0.08325964 -0.1171628 ], dw=[-0.03390316 -0.03390316  0.05044995]\n",
            "#55: w=[-4.45233993 -4.45233993  6.86774711], Y=[1 1 1 0], Ypred=[0.99896026 0.91799466 0.91799466 0.11537943], Yerr=[ 0.00103974  0.08200534  0.08200534 -0.11537943], dw=[-0.03337409 -0.03337409  0.04967099]\n",
            "#56: w=[-4.48571402 -4.48571402  6.9174181 ], Y=[1 1 1 0], Ypred=[0.9990106  0.91921317 0.91921317 0.11364783], Yerr=[ 0.0009894   0.08078683  0.08078683 -0.11364783], dw=[-0.032861   -0.032861    0.04891524]\n",
            "#57: w=[-4.51857501 -4.51857501  6.96633334], Y=[1 1 1 0], Ypred=[0.99905778 0.92039737 0.92039737 0.11196581], Yerr=[ 0.00094222  0.07960263  0.07960263 -0.11196581], dw=[-0.03236318 -0.03236318  0.04818167]\n",
            "#58: w=[-4.55093819 -4.55093819  7.01451501], Y=[1 1 1 0], Ypred=[0.99910207 0.92154865 0.92154865 0.11033131], Yerr=[ 0.00089793  0.07845135  0.07845135 -0.11033131], dw=[-0.03187996 -0.03187996  0.04746933]\n",
            "#59: w=[-4.58281815 -4.58281815  7.06198434], Y=[1 1 1 0], Ypred=[0.99914366 0.92266833 0.92266833 0.10874238], Yerr=[ 0.00085634  0.07733167  0.07733167 -0.10874238], dw=[-0.0314107  -0.0314107   0.04677731]\n",
            "#60: w=[-4.61422885 -4.61422885  7.10876166], Y=[1 1 1 0], Ypred=[0.99918276 0.92375766 0.92375766 0.10719716], Yerr=[ 0.00081724  0.07624234  0.07624234 -0.10719716], dw=[-0.03095482 -0.03095482  0.04610476]\n",
            "#61: w=[-4.64518367 -4.64518367  7.15486642], Y=[1 1 1 0], Ypred=[0.99921956 0.92481784 0.92481784 0.1056939 ], Yerr=[ 0.00078044  0.07518216  0.07518216 -0.1056939 ], dw=[-0.03051174 -0.03051174  0.04545087]\n",
            "#62: w=[-4.6756954  -4.6756954   7.20031729], Y=[1 1 1 0], Ypred=[0.99925421 0.92584998 0.92584998 0.10423095], Yerr=[ 0.00074579  0.07415002  0.07415002 -0.10423095], dw=[-0.03008093 -0.03008093  0.04481488]\n",
            "#63: w=[-4.70577633 -4.70577633  7.24513217], Y=[1 1 1 0], Ypred=[0.99928687 0.92685517 0.92685517 0.10280673], Yerr=[ 0.00071313  0.07314483  0.07314483 -0.10280673], dw=[-0.0296619  -0.0296619   0.04419607]\n",
            "#64: w=[-4.73543823 -4.73543823  7.28932824], Y=[1 1 1 0], Ypred=[0.99931768 0.92783441 0.92783441 0.10141975], Yerr=[ 0.00068232  0.07216559  0.07216559 -0.10141975], dw=[-0.02925416 -0.02925416  0.04359375]\n",
            "#65: w=[-4.76469239 -4.76469239  7.33292199], Y=[1 1 1 0], Ypred=[0.99934677 0.92878869 0.92878869 0.10006858], Yerr=[ 0.00065323  0.07121131  0.07121131 -0.10006858], dw=[-0.02885727 -0.02885727  0.04300727]\n",
            "#66: w=[-4.79354966 -4.79354966  7.37592926], Y=[1 1 1 0], Ypred=[0.99937425 0.92971891 0.92971891 0.09875189], Yerr=[ 0.00062575  0.07028109  0.07028109 -0.09875189], dw=[-0.0284708  -0.0284708   0.04243603]\n",
            "#67: w=[-4.82202047 -4.82202047  7.41836529], Y=[1 1 1 0], Ypred=[0.99940023 0.93062597 0.93062597 0.09746839], Yerr=[ 0.00059977  0.06937403  0.06937403 -0.09746839], dw=[-0.02809435 -0.02809435  0.04187945]\n",
            "#68: w=[-4.85011482 -4.85011482  7.46024474], Y=[1 1 1 0], Ypred=[0.99942482 0.93151069 0.93151069 0.09621685], Yerr=[ 0.00057518  0.06848931  0.06848931 -0.09621685], dw=[-0.02772754 -0.02772754  0.04133696]\n",
            "#69: w=[-4.87784236 -4.87784236  7.5015817 ], Y=[1 1 1 0], Ypred=[0.99944809 0.93237386 0.93237386 0.09499613], Yerr=[ 0.00055191  0.06762614  0.06762614 -0.09499613], dw=[-0.02737    -0.02737     0.04080804]\n",
            "#70: w=[-4.90521236 -4.90521236  7.54238974], Y=[1 1 1 0], Ypred=[0.99947015 0.93321626 0.93321626 0.09380512], Yerr=[ 0.00052985  0.06678374  0.06678374 -0.09380512], dw=[-0.02702138 -0.02702138  0.0402922 ]\n",
            "#71: w=[-4.93223374 -4.93223374  7.58268195], Y=[1 1 1 0], Ypred=[0.99949107 0.93403861 0.93403861 0.09264275], Yerr=[ 0.00050893  0.06596139  0.06596139 -0.09264275], dw=[-0.02668136 -0.02668136  0.03978896]\n",
            "#72: w=[-4.9589151  -4.9589151   7.62247091], Y=[1 1 1 0], Ypred=[0.99951091 0.9348416  0.9348416  0.09150803], Yerr=[ 0.00048909  0.0651584   0.0651584  -0.09150803], dw=[-0.02634963 -0.02634963  0.03929787]\n",
            "#73: w=[-4.98526473 -4.98526473  7.66176878], Y=[1 1 1 0], Ypred=[0.99952975 0.93562588 0.93562588 0.0904    ], Yerr=[ 0.00047025  0.06437412  0.06437412 -0.0904    ], dw=[-0.02602588 -0.02602588  0.03881849]\n",
            "#74: w=[-5.01129061 -5.01129061  7.70058727], Y=[1 1 1 0], Ypred=[0.99954764 0.9363921  0.9363921  0.08931774], Yerr=[ 0.00045236  0.0636079   0.0636079  -0.08931774], dw=[-0.02570984 -0.02570984  0.03835041]\n",
            "#75: w=[-5.03700045 -5.03700045  7.73893768], Y=[1 1 1 0], Ypred=[0.99956466 0.93714086 0.93714086 0.08826037], Yerr=[ 0.00043534  0.06285914  0.06285914 -0.08826037], dw=[-0.02540123 -0.02540123  0.03789325]\n",
            "#76: w=[-5.06240168 -5.06240168  7.77683093], Y=[1 1 1 0], Ypred=[0.99958084 0.93787273 0.93787273 0.08722707], Yerr=[ 0.00041916  0.06212727  0.06212727 -0.08722707], dw=[-0.0250998  -0.0250998   0.03744663]\n",
            "#77: w=[-5.08750148 -5.08750148  7.81427757], Y=[1 1 1 0], Ypred=[0.99959624 0.93858827 0.93858827 0.08621703], Yerr=[ 0.00040376  0.06141173  0.06141173 -0.08621703], dw=[-0.0248053  -0.0248053   0.03701019]\n",
            "#78: w=[-5.11230678 -5.11230678  7.85128776], Y=[1 1 1 0], Ypred=[0.9996109  0.93928801 0.93928801 0.08522948], Yerr=[ 0.0003891   0.06071199  0.06071199 -0.08522948], dw=[-0.0245175  -0.0245175   0.03658359]\n",
            "#79: w=[-5.13682428 -5.13682428  7.88787135], Y=[1 1 1 0], Ypred=[0.99962487 0.93997246 0.93997246 0.08426371], Yerr=[ 0.00037513  0.06002754  0.06002754 -0.08426371], dw=[-0.02423616 -0.02423616  0.03616651]\n",
            "#80: w=[-5.16106044 -5.16106044  7.92403786], Y=[1 1 1 0], Ypred=[0.99963819 0.94064209 0.94064209 0.08331899], Yerr=[ 0.00036181  0.05935791  0.05935791 -0.08331899], dw=[-0.02396109 -0.02396109  0.03575862]\n",
            "#81: w=[-5.18502153 -5.18502153  7.95979648], Y=[1 1 1 0], Ypred=[0.9996509  0.94129739 0.94129739 0.08239467], Yerr=[ 0.0003491   0.05870261  0.05870261 -0.08239467], dw=[-0.02369206 -0.02369206  0.03535965]\n",
            "#82: w=[-5.20871359 -5.20871359  7.99515613], Y=[1 1 1 0], Ypred=[0.99966302 0.94193879 0.94193879 0.08149011], Yerr=[ 0.00033698  0.05806121  0.05806121 -0.08149011], dw=[-0.0234289  -0.0234289   0.03496929]\n",
            "#83: w=[-5.23214249 -5.23214249  8.03012542], Y=[1 1 1 0], Ypred=[0.9996746  0.94256673 0.94256673 0.08060467], Yerr=[ 0.0003254   0.05743327  0.05743327 -0.08060467], dw=[-0.0231714  -0.0231714   0.03458727]\n",
            "#84: w=[-5.25531389 -5.25531389  8.06471269], Y=[1 1 1 0], Ypred=[0.99968566 0.94318161 0.94318161 0.07973778], Yerr=[ 0.00031434  0.05681839  0.05681839 -0.07973778], dw=[-0.02291939 -0.02291939  0.03421334]\n",
            "#85: w=[-5.27823329 -5.27823329  8.09892603], Y=[1 1 1 0], Ypred=[0.99969623 0.94378383 0.94378383 0.07888887], Yerr=[ 0.00030377  0.05621617  0.05621617 -0.07888887], dw=[-0.0226727  -0.0226727   0.03384724]\n",
            "#86: w=[-5.30090599 -5.30090599  8.13277327], Y=[1 1 1 0], Ypred=[0.99970633 0.94437378 0.94437378 0.07805739], Yerr=[ 0.00029367  0.05562622  0.05562622 -0.07805739], dw=[-0.02243116 -0.02243116  0.03348873]\n",
            "#87: w=[-5.32333715 -5.32333715  8.166262  ], Y=[1 1 1 0], Ypred=[0.999716   0.9449518  0.9449518  0.07724281], Yerr=[ 0.000284    0.0550482   0.0550482  -0.07724281], dw=[-0.02219461 -0.02219461  0.03313758]\n",
            "#88: w=[-5.34553176 -5.34553176  8.19939957], Y=[1 1 1 0], Ypred=[0.99972526 0.94551827 0.94551827 0.07644464], Yerr=[ 0.00027474  0.05448173  0.05448173 -0.07644464], dw=[-0.02196291 -0.02196291  0.03279356]\n",
            "#89: w=[-5.36749467 -5.36749467  8.23219314], Y=[1 1 1 0], Ypred=[0.99973412 0.94607351 0.94607351 0.07566239], Yerr=[ 0.00026588  0.05392649  0.05392649 -0.07566239], dw=[-0.0217359  -0.0217359   0.03245647]\n",
            "#90: w=[-5.38923057 -5.38923057  8.26464961], Y=[1 1 1 0], Ypred=[0.99974261 0.94661785 0.94661785 0.07489559], Yerr=[ 0.00025739  0.05338215  0.05338215 -0.07489559], dw=[-0.02151344 -0.02151344  0.0321261 ]\n",
            "#91: w=[-5.41074401 -5.41074401  8.29677571], Y=[1 1 1 0], Ypred=[0.99975074 0.9471516  0.9471516  0.07414381], Yerr=[ 0.00024926  0.0528484   0.0528484  -0.07414381], dw=[-0.02129541 -0.02129541  0.03180225]\n",
            "#92: w=[-5.43203942 -5.43203942  8.32857796], Y=[1 1 1 0], Ypred=[0.99975854 0.94767506 0.94767506 0.07340661], Yerr=[ 0.00024146  0.05232494  0.05232494 -0.07340661], dw=[-0.02108167 -0.02108167  0.03148473]\n",
            "#93: w=[-5.45312109 -5.45312109  8.36006269], Y=[1 1 1 0], Ypred=[0.99976603 0.94818852 0.94818852 0.07268357], Yerr=[ 0.00023397  0.05181148  0.05181148 -0.07268357], dw=[-0.02087209 -0.02087209  0.03117336]\n",
            "#94: w=[-5.47399318 -5.47399318  8.39123606], Y=[1 1 1 0], Ypred=[0.9997732  0.94869226 0.94869226 0.0719743 ], Yerr=[ 0.0002268   0.05130774  0.05130774 -0.0719743 ], dw=[-0.02066656 -0.02066656  0.03086797]\n",
            "#95: w=[-5.49465974 -5.49465974  8.42210403], Y=[1 1 1 0], Ypred=[0.9997801  0.94918655 0.94918655 0.07127841], Yerr=[ 0.0002199   0.05081345  0.05081345 -0.07127841], dw=[-0.02046497 -0.02046497  0.03056839]\n",
            "#96: w=[-5.51512471 -5.51512471  8.45267241], Y=[1 1 1 0], Ypred=[0.99978672 0.94967165 0.94967165 0.07059554], Yerr=[ 0.00021328  0.05032835  0.05032835 -0.07059554], dw=[-0.02026719 -0.02026719  0.03027445]\n",
            "#97: w=[-5.5353919  -5.5353919   8.48294686], Y=[1 1 1 0], Ypred=[0.99979307 0.9501478  0.9501478  0.06992533], Yerr=[ 0.00020693  0.0498522   0.0498522  -0.06992533], dw=[-0.02007313 -0.02007313  0.02998599]\n",
            "#98: w=[-5.55546503 -5.55546503  8.51293285], Y=[1 1 1 0], Ypred=[0.99979919 0.95061525 0.95061525 0.06926743], Yerr=[ 0.00020081  0.04938475  0.04938475 -0.06926743], dw=[-0.01988268 -0.01988268  0.02970288]\n",
            "#99: w=[-5.57534771 -5.57534771  8.54263573], Y=[1 1 1 0], Ypred=[0.99980506 0.95107424 0.95107424 0.06862151], Yerr=[ 0.00019494  0.04892576  0.04892576 -0.06862151], dw=[-0.01969575 -0.01969575  0.02942495]\n"
          ],
          "name": "stdout"
        }
      ]
    },
    {
      "cell_type": "code",
      "metadata": {
        "colab_type": "code",
        "id": "9bASDMfhtm-I",
        "colab": {
          "base_uri": "https://localhost:8080/",
          "height": 34
        },
        "outputId": "5ff37b83-db1c-4329-9836-034eec820309"
      },
      "source": [
        "w"
      ],
      "execution_count": 14,
      "outputs": [
        {
          "output_type": "execute_result",
          "data": {
            "text/plain": [
              "array([-5.59504346, -5.59504346,  8.57206068])"
            ]
          },
          "metadata": {
            "tags": []
          },
          "execution_count": 14
        }
      ]
    },
    {
      "cell_type": "code",
      "metadata": {
        "colab_type": "code",
        "id": "-69r0c4KtqlW",
        "colab": {
          "base_uri": "https://localhost:8080/",
          "height": 34
        },
        "outputId": "a65a9f34-dc6d-4dab-f79b-774ba4bd3e64"
      },
      "source": [
        "sigmoid(np.dot(x, w))"
      ],
      "execution_count": 15,
      "outputs": [
        {
          "output_type": "execute_result",
          "data": {
            "text/plain": [
              "array([0.99981071, 0.95152498, 0.95152498, 0.06798725])"
            ]
          },
          "metadata": {
            "tags": []
          },
          "execution_count": 15
        }
      ]
    },
    {
      "cell_type": "markdown",
      "metadata": {
        "colab_type": "text",
        "id": "ELUeNFRFuJv3"
      },
      "source": [
        "## Automatic differentiation\n",
        "\n",
        "Consider a loss function,\n",
        "$$\n",
        "l_{\\boldsymbol{x}}(\\boldsymbol{w}) = - \\log \\sigma(\\boldsymbol{w} \\cdot \\boldsymbol{x}) = - \\log \\frac{1}{1 + e^{-\\boldsymbol{w} \\cdot \\boldsymbol{x}}}\n",
        "$$\n",
        "\n",
        "This section shows implementations in different libraries of deep learning for computing the loss value $l_{\\boldsymbol{x}}(\\boldsymbol{w})$ and gradients $\\frac{\\partial l_{\\boldsymbol{x}}(\\boldsymbol{w})}{\\partial \\boldsymbol{w}}$ when $\\boldsymbol{x} = (1, 1, 1)$ and $\\boldsymbol{w} = (1, 1, -1.5)$."
      ]
    },
    {
      "cell_type": "markdown",
      "metadata": {
        "colab_type": "text",
        "id": "aB0DwVOyuXP_"
      },
      "source": [
        "### Using autograd\n",
        "\n",
        "See: https://github.com/HIPS/autograd"
      ]
    },
    {
      "cell_type": "code",
      "metadata": {
        "colab_type": "code",
        "id": "DyC9iOFO-1cd",
        "colab": {
          "base_uri": "https://localhost:8080/",
          "height": 51
        },
        "outputId": "51bb2008-43e2-4a94-d0b4-0dcd307b947a"
      },
      "source": [
        "import autograd\n",
        "import autograd.numpy as np\n",
        "\n",
        "def loss(w, x):\n",
        "    return -np.log(1.0 / (1 + np.exp(-np.dot(x, w))))\n",
        "\n",
        "x = np.array([1, 1, 1])\n",
        "w = np.array([1.0, 1.0, -1.5])\n",
        "\n",
        "grad_loss = autograd.grad(loss)\n",
        "print(loss(w, x))\n",
        "print(grad_loss(w, x))"
      ],
      "execution_count": 16,
      "outputs": [
        {
          "output_type": "stream",
          "text": [
            "0.47407698418010663\n",
            "[-0.37754067 -0.37754067 -0.37754067]\n"
          ],
          "name": "stdout"
        }
      ]
    },
    {
      "cell_type": "markdown",
      "metadata": {
        "colab_type": "text",
        "id": "59D2aARTuQDL"
      },
      "source": [
        "### Using pytorch\n",
        "\n",
        "See: https://pytorch.org/tutorials/beginner/blitz/autograd_tutorial.html"
      ]
    },
    {
      "cell_type": "code",
      "metadata": {
        "id": "fpZWYFRQuvo9",
        "colab_type": "code",
        "colab": {
          "base_uri": "https://localhost:8080/",
          "height": 51
        },
        "outputId": "36563a41-eadb-4801-f337-5485eb50a1f1"
      },
      "source": [
        "import torch\n",
        "\n",
        "dtype = torch.float\n",
        "\n",
        "x = torch.tensor([1, 1, 1], dtype=dtype)\n",
        "w = torch.tensor([1.0, 1.0, -1.5], dtype=dtype, requires_grad=True)\n",
        "\n",
        "loss = -torch.dot(x, w).sigmoid().log()\n",
        "loss.backward()\n",
        "print(loss.item())\n",
        "print(w.grad)"
      ],
      "execution_count": 17,
      "outputs": [
        {
          "output_type": "stream",
          "text": [
            "0.4740769565105438\n",
            "tensor([-0.3775, -0.3775, -0.3775])\n"
          ],
          "name": "stdout"
        }
      ]
    },
    {
      "cell_type": "markdown",
      "metadata": {
        "id": "hZ_BH643pO9Y",
        "colab_type": "text"
      },
      "source": [
        "### Using TensorFlow Eager\n",
        "\n",
        "See: https://www.tensorflow.org/guide/autodiff"
      ]
    },
    {
      "cell_type": "code",
      "metadata": {
        "id": "Zp87EyeAp6CY",
        "colab_type": "code",
        "colab": {
          "base_uri": "https://localhost:8080/",
          "height": 51
        },
        "outputId": "3fc00a58-b7ce-4f1a-a3fd-8d2730e96966"
      },
      "source": [
        "import tensorflow as tf\n",
        "\n",
        "dtype = tf.float32\n",
        "\n",
        "x = tf.constant([1, 1, 1], dtype=dtype, name='x')\n",
        "w = tf.Variable([1.0, 1.0, -1.5], dtype=dtype, name='w')\n",
        "\n",
        "with tf.GradientTape() as tape:\n",
        "    loss = -tf.math.log(tf.math.sigmoid(tf.tensordot(x, w, 1)))\n",
        "\n",
        "print(loss.numpy())\n",
        "print(tape.gradient(loss, w))"
      ],
      "execution_count": 18,
      "outputs": [
        {
          "output_type": "stream",
          "text": [
            "0.47407696\n",
            "tf.Tensor([-0.37754062 -0.37754062 -0.37754062], shape=(3,), dtype=float32)\n"
          ],
          "name": "stdout"
        }
      ]
    },
    {
      "cell_type": "markdown",
      "metadata": {
        "id": "rM4eI6J0pXJF",
        "colab_type": "text"
      },
      "source": [
        "### Using JAX\n",
        "\n",
        "See: https://github.com/google/jax"
      ]
    },
    {
      "cell_type": "code",
      "metadata": {
        "id": "kI-UjxJzsnqY",
        "colab_type": "code",
        "colab": {
          "base_uri": "https://localhost:8080/",
          "height": 51
        },
        "outputId": "6d49d935-6e17-4fec-f545-3afe6591014d"
      },
      "source": [
        "import jax\n",
        "import jax.numpy as jnp\n",
        "\n",
        "def loss(w, x):\n",
        "    return -jnp.log(1.0 / (1 + jnp.exp(-jnp.dot(x, w))))\n",
        "\n",
        "x = jnp.array([1, 1, 1])\n",
        "w = jnp.array([1.0, 1.0, -1.5])\n",
        "\n",
        "grad_loss = jax.jit(jax.grad(loss))\n",
        "print(loss(w, x))\n",
        "print(grad_loss(w, x))"
      ],
      "execution_count": 19,
      "outputs": [
        {
          "output_type": "stream",
          "text": [
            "0.47407696\n",
            "[-0.37754068 -0.37754068 -0.37754068]\n"
          ],
          "name": "stdout"
        }
      ]
    },
    {
      "cell_type": "markdown",
      "metadata": {
        "colab_type": "text",
        "id": "VFzuau5gu4vY"
      },
      "source": [
        "## Implementing neural networks with pytorch"
      ]
    },
    {
      "cell_type": "markdown",
      "metadata": {
        "colab_type": "text",
        "id": "STwWdvJCva4G"
      },
      "source": [
        "### Single-layer neural network using automatic differentiation"
      ]
    },
    {
      "cell_type": "code",
      "metadata": {
        "colab_type": "code",
        "id": "xOJHDGYKIgsm",
        "colab": {
          "base_uri": "https://localhost:8080/",
          "height": 1000
        },
        "outputId": "da9a4247-2a63-4309-a915-4d845df90693"
      },
      "source": [
        "import torch\n",
        "\n",
        "dtype = torch.float\n",
        "\n",
        "# Training data for NAND.\n",
        "x = torch.tensor([[0, 0, 1], [0, 1, 1], [1, 0, 1], [1, 1, 1]], dtype=dtype)\n",
        "y = torch.tensor([[1], [1], [1], [0]], dtype=dtype)\n",
        "w = torch.randn(3, 1, dtype=dtype, requires_grad=True)\n",
        "\n",
        "loss_history = []               # Used for plotting loss values.\n",
        "\n",
        "eta = 0.5\n",
        "for t in range(100):\n",
        "    # y_pred = \\sigma(x \\cdot w)\n",
        "    y_pred = x.mm(w).sigmoid()\n",
        "    ll = y * y_pred + (1 - y) * (1 - y_pred)\n",
        "    loss = -ll.log().sum()      # The loss value.\n",
        "    loss.backward()             # Compute the gradients of the loss.\n",
        "\n",
        "    loss_history.append(loss.item())    # Record the loss value.\n",
        "    print(f'#{t}: w={w.t().data[0].numpy()}, loss={loss.item()}')\n",
        "\n",
        "    with torch.no_grad():\n",
        "        w -= eta * w.grad       # Update weights using SGD.        \n",
        "        w.grad.zero_()          # Clear the gradients for the next iteration."
      ],
      "execution_count": 20,
      "outputs": [
        {
          "output_type": "stream",
          "text": [
            "#0: w=[ 1.2769991   0.01225248 -0.36489728], loss=3.3732824325561523\n",
            "#1: w=[ 1.0623198  -0.05208236  0.00916553], loss=3.0254273414611816\n",
            "#2: w=[ 0.82245195 -0.16414675  0.27351585], loss=2.7578930854797363\n",
            "#3: w=[ 0.5889777 -0.2865266  0.4924062], loss=2.5320191383361816\n",
            "#4: w=[ 0.37116316 -0.4066077   0.6886107 ], loss=2.3387038707733154\n",
            "#5: w=[ 0.17097771 -0.5204881   0.8705777 ], loss=2.1725897789001465\n",
            "#6: w=[-0.01229596 -0.6275064   1.0415514 ], loss=2.029198169708252\n",
            "#7: w=[-0.18023562 -0.728089    1.2030084 ], loss=1.9046998023986816\n",
            "#8: w=[-0.334563  -0.8229339  1.3558775], loss=1.7958908081054688\n",
            "#9: w=[-0.47689384 -0.91273516  1.5009176 ], loss=1.7001333236694336\n",
            "#10: w=[-0.60866845 -0.9981059   1.6388134 ], loss=1.6152759790420532\n",
            "#11: w=[-0.7311449 -1.0795671  1.7701935], loss=1.5395680665969849\n",
            "#12: w=[-0.845414  -1.157556   1.8956304], loss=1.471588134765625\n",
            "#13: w=[-0.9524176 -1.2324388  2.0156412], loss=1.4101767539978027\n",
            "#14: w=[-1.0529691 -1.3045222  2.13069  ], loss=1.3543864488601685\n",
            "#15: w=[-1.147771  -1.3740649  2.241191 ], loss=1.3034380674362183\n",
            "#16: w=[-1.2374314 -1.4412864  2.3475127], loss=1.2566879987716675\n",
            "#17: w=[-1.3224772 -1.5063739  2.449985 ], loss=1.2136013507843018\n",
            "#18: w=[-1.4033668 -1.5694883  2.548901 ], loss=1.1737306118011475\n",
            "#19: w=[-1.4804995 -1.6307696  2.6445227], loss=1.136698842048645\n",
            "#20: w=[-1.5542243 -1.6903399  2.7370846], loss=1.1021876335144043\n",
            "#21: w=[-1.6248474 -1.7483069  2.826797 ], loss=1.0699248313903809\n",
            "#22: w=[-1.6926382 -1.8047659  2.9138489], loss=1.0396784543991089\n",
            "#23: w=[-1.7578338 -1.8598025  2.9984107], loss=1.0112478733062744\n",
            "#24: w=[-1.8206449 -1.9134933  3.0806365], loss=0.984459400177002\n",
            "#25: w=[-1.8812577 -1.9659078  3.160666 ], loss=0.9591616988182068\n",
            "#26: w=[-1.9398383 -2.0171094  3.2386265], loss=0.9352230429649353\n",
            "#27: w=[-1.9965352 -2.0671558  3.3146334], loss=0.9125270843505859\n",
            "#28: w=[-2.051481  -2.1161005  3.3887923], loss=0.890971302986145\n",
            "#29: w=[-2.1047952 -2.1639926  3.4612002], loss=0.8704643249511719\n",
            "#30: w=[-2.156585  -2.2108774  3.5319464], loss=0.8509256839752197\n",
            "#31: w=[-2.2069476 -2.2567973  3.6011126], loss=0.8322826623916626\n",
            "#32: w=[-2.2559705 -2.3017914  3.6687744], loss=0.814470648765564\n",
            "#33: w=[-2.3037338 -2.345897   3.7350016], loss=0.797431230545044\n",
            "#34: w=[-2.35031   -2.3891482  3.799859 ], loss=0.7811115980148315\n",
            "#35: w=[-2.3957653 -2.431578   3.863407 ], loss=0.7654640674591064\n",
            "#36: w=[-2.44016   -2.4732163  3.9257014], loss=0.7504454255104065\n",
            "#37: w=[-2.4835498 -2.5140924  3.9867945], loss=0.7360159158706665\n",
            "#38: w=[-2.5259857 -2.5542333  4.0467353], loss=0.7221397757530212\n",
            "#39: w=[-2.5675147 -2.5936646  4.105569 ], loss=0.7087840437889099\n",
            "#40: w=[-2.60818   -2.6324108  4.1633387], loss=0.6959179639816284\n",
            "#41: w=[-2.648022 -2.670495  4.220084], loss=0.6835145354270935\n",
            "#42: w=[-2.6870775 -2.7079391  4.2758436], loss=0.6715471744537354\n",
            "#43: w=[-2.7253811 -2.7447639  4.3306527], loss=0.6599928736686707\n",
            "#44: w=[-2.762965  -2.7809892  4.3845444], loss=0.6488299369812012\n",
            "#45: w=[-2.7998586 -2.8166337  4.437551 ], loss=0.6380370855331421\n",
            "#46: w=[-2.83609   -2.8517158  4.4897017], loss=0.6275962591171265\n",
            "#47: w=[-2.8716857 -2.8862524  4.5410256], loss=0.617489755153656\n",
            "#48: w=[-2.9066696 -2.92026    4.591549 ], loss=0.6077011823654175\n",
            "#49: w=[-2.9410648 -2.9537542  4.6412973], loss=0.5982153415679932\n",
            "#50: w=[-2.9748929 -2.9867501  4.690295 ], loss=0.5890178084373474\n",
            "#51: w=[-3.008174 -3.019262  4.738566], loss=0.5800954699516296\n",
            "#52: w=[-3.0409272 -3.0513036  4.7861304], loss=0.5714359283447266\n",
            "#53: w=[-3.0731707 -3.0828881  4.83301  ], loss=0.5630273222923279\n",
            "#54: w=[-3.1049213 -3.114028   4.8792253], loss=0.5548587441444397\n",
            "#55: w=[-3.1361952 -3.1447353  4.9247947], loss=0.546919584274292\n",
            "#56: w=[-3.1670074 -3.175022   4.969736 ], loss=0.5392005443572998\n",
            "#57: w=[-3.1973727 -3.2048988  5.014067 ], loss=0.5316923260688782\n",
            "#58: w=[-3.2273045 -3.2343767  5.0578046], loss=0.524385929107666\n",
            "#59: w=[-3.256816 -3.263466  5.100964], loss=0.5172736048698425\n",
            "#60: w=[-3.2859194 -3.2921765  5.1435614], loss=0.5103477239608765\n",
            "#61: w=[-3.314627  -3.3205178  5.185611 ], loss=0.503600537776947\n",
            "#62: w=[-3.3429496 -3.348499   5.227126 ], loss=0.4970252811908722\n",
            "#63: w=[-3.3708982 -3.3761292  5.268121 ], loss=0.4906156063079834\n",
            "#64: w=[-3.398483  -3.4034166  5.308608 ], loss=0.4843650460243225\n",
            "#65: w=[-3.4257138 -3.4303696  5.348601 ], loss=0.4782678782939911\n",
            "#66: w=[-3.4525998 -3.4569962  5.38811  ], loss=0.47231847047805786\n",
            "#67: w=[-3.4791503 -3.483304   5.4271483], loss=0.4665113091468811\n",
            "#68: w=[-3.5053737 -3.5093002  5.4657264], loss=0.4608415365219116\n",
            "#69: w=[-3.5312784 -3.5349922  5.5038548], loss=0.45530417561531067\n",
            "#70: w=[-3.5568724 -3.560387   5.5415435], loss=0.44989484548568726\n",
            "#71: w=[-3.582163  -3.5854907  5.578803 ], loss=0.4446089267730713\n",
            "#72: w=[-3.6071577 -3.61031    5.615643 ], loss=0.43944233655929565\n",
            "#73: w=[-3.6318636 -3.6348515  5.652073 ], loss=0.43439120054244995\n",
            "#74: w=[-3.6562874 -3.6591208  5.6881013], loss=0.4294514060020447\n",
            "#75: w=[-3.6804357 -3.6831238  5.7237372], loss=0.42461955547332764\n",
            "#76: w=[-3.7043147 -3.7068663  5.758989 ], loss=0.41989201307296753\n",
            "#77: w=[-3.7279308 -3.7303536  5.7938643], loss=0.41526538133621216\n",
            "#78: w=[-3.7512894 -3.7535913  5.828371 ], loss=0.4107368588447571\n",
            "#79: w=[-3.7743962 -3.7765841  5.8625174], loss=0.4063029885292053\n",
            "#80: w=[-3.797257  -3.7993374  5.8963103], loss=0.4019610285758972\n",
            "#81: w=[-3.8198767 -3.8218558  5.9297576], loss=0.39770811796188354\n",
            "#82: w=[-3.8422604 -3.844144   5.9628654], loss=0.3935413956642151\n",
            "#83: w=[-3.8644133 -3.866207   5.9956408], loss=0.3894585371017456\n",
            "#84: w=[-3.88634   -3.8880484  6.02809  ], loss=0.385456919670105\n",
            "#85: w=[-3.9080448 -3.909673   6.06022  ], loss=0.3815343976020813\n",
            "#86: w=[-3.9295328 -3.9310849  6.0920362], loss=0.37768805027008057\n",
            "#87: w=[-3.9508078 -3.9522882  6.123545 ], loss=0.3739163875579834\n",
            "#88: w=[-3.9718742 -3.9732866  6.1547523], loss=0.3702170252799988\n",
            "#89: w=[-3.9927363 -3.9940844  6.185663 ], loss=0.3665877878665924\n",
            "#90: w=[-4.0133977 -4.0146847  6.216284 ], loss=0.36302685737609863\n",
            "#91: w=[-4.033862  -4.035092   6.2466187], loss=0.3595321774482727\n",
            "#92: w=[-4.054134 -4.055309  6.276674], loss=0.35610219836235046\n",
            "#93: w=[-4.074216  -4.0753393  6.3064537], loss=0.3527350425720215\n",
            "#94: w=[-4.094112  -4.095186   6.3359637], loss=0.34942883253097534\n",
            "#95: w=[-4.1138253 -4.114853   6.365208 ], loss=0.34618234634399414\n",
            "#96: w=[-4.13336   -4.134343   6.3941917], loss=0.3429933786392212\n",
            "#97: w=[-4.152718  -4.1536593  6.4229193], loss=0.33986106514930725\n",
            "#98: w=[-4.1719036 -4.172805   6.451395 ], loss=0.33678367733955383\n",
            "#99: w=[-4.1909194 -4.1917825  6.4796233], loss=0.333759605884552\n"
          ],
          "name": "stdout"
        }
      ]
    },
    {
      "cell_type": "code",
      "metadata": {
        "id": "Z5PZL4LH4qMF",
        "colab_type": "code",
        "colab": {
          "base_uri": "https://localhost:8080/",
          "height": 299
        },
        "outputId": "c1636f47-4955-4c4a-eff2-7ae22402b122"
      },
      "source": [
        "import matplotlib.pyplot as plt\n",
        "\n",
        "plt.plot(loss_history)\n",
        "plt.xlabel('Iteration #')\n",
        "plt.ylabel('Loss')"
      ],
      "execution_count": 21,
      "outputs": [
        {
          "output_type": "execute_result",
          "data": {
            "text/plain": [
              "Text(0, 0.5, 'Loss')"
            ]
          },
          "metadata": {
            "tags": []
          },
          "execution_count": 21
        },
        {
          "output_type": "display_data",
          "data": {
            "image/png": "[encoded data removed]",
            "text/plain": [
              "<Figure size 432x288 with 1 Axes>"
            ]
          },
          "metadata": {
            "tags": [],
            "needs_background": "light"
          }
        }
      ]
    },
    {
      "cell_type": "code",
      "metadata": {
        "colab_type": "code",
        "id": "FyoS5iP6n7Ru",
        "colab": {
          "base_uri": "https://localhost:8080/",
          "height": 68
        },
        "outputId": "fd28636e-2fd1-4b70-b7a2-970a90dd738a"
      },
      "source": [
        "w"
      ],
      "execution_count": 22,
      "outputs": [
        {
          "output_type": "execute_result",
          "data": {
            "text/plain": [
              "tensor([[-4.2098],\n",
              "        [-4.2106],\n",
              "        [ 6.5076]], requires_grad=True)"
            ]
          },
          "metadata": {
            "tags": []
          },
          "execution_count": 22
        }
      ]
    },
    {
      "cell_type": "code",
      "metadata": {
        "colab_type": "code",
        "id": "Jfp604gFn9Yw",
        "colab": {
          "base_uri": "https://localhost:8080/",
          "height": 85
        },
        "outputId": "b696d466-4064-4238-c16b-d116fa5c1a34"
      },
      "source": [
        "x.mm(w).sigmoid()"
      ],
      "execution_count": 23,
      "outputs": [
        {
          "output_type": "execute_result",
          "data": {
            "text/plain": [
              "tensor([[0.9985],\n",
              "        [0.9086],\n",
              "        [0.9087],\n",
              "        [0.1287]], grad_fn=<SigmoidBackward>)"
            ]
          },
          "metadata": {
            "tags": []
          },
          "execution_count": 23
        }
      ]
    },
    {
      "cell_type": "markdown",
      "metadata": {
        "colab_type": "text",
        "id": "w6eu-AuDvl9J"
      },
      "source": [
        "### Multi-layer neural network using automatic differentiation"
      ]
    },
    {
      "cell_type": "code",
      "metadata": {
        "colab_type": "code",
        "id": "ts2RTKVPn_xk",
        "colab": {}
      },
      "source": [
        "import torch\n",
        "\n",
        "dtype = torch.float\n",
        "\n",
        "# Training data for XOR.\n",
        "x = torch.tensor([[0, 0, 1], [0, 1, 1], [1, 0, 1], [1, 1, 1]], dtype=dtype)\n",
        "y = torch.tensor([[0], [1], [1], [0]], dtype=dtype)\n",
        "w1 = torch.randn(3, 2, dtype=dtype, requires_grad=True)\n",
        "w2 = torch.randn(2, 1, dtype=dtype, requires_grad=True)\n",
        "b2 = torch.randn(1, 1, dtype=dtype, requires_grad=True)\n",
        "\n",
        "loss_history = []               # Used for plotting loss values.\n",
        "\n",
        "eta = 0.5\n",
        "for t in range(1000):\n",
        "    # y_pred = \\sigma(w_2 \\cdot \\sigma(x \\cdot w_1) + b_2)\n",
        "    y_pred = x.mm(w1).sigmoid().mm(w2).add(b2).sigmoid()\n",
        "    ll = y * y_pred + (1 - y) * (1 - y_pred)\n",
        "    loss = -ll.log().sum()\n",
        "    loss.backward()\n",
        "\n",
        "    loss_history.append(loss.item())    # Record the loss value.\n",
        "    #print(f'#{t}: loss={loss.item()}')\n",
        "\n",
        "    with torch.no_grad():\n",
        "        # Update weights using SGD.\n",
        "        w1 -= eta * w1.grad\n",
        "        w2 -= eta * w2.grad\n",
        "        b2 -= eta * b2.grad\n",
        "        \n",
        "        # Clear the gradients for the next iteration.\n",
        "        w1.grad.zero_()\n",
        "        w2.grad.zero_()\n",
        "        b2.grad.zero_()"
      ],
      "execution_count": 24,
      "outputs": []
    },
    {
      "cell_type": "code",
      "metadata": {
        "id": "R12W-FS95dFg",
        "colab_type": "code",
        "colab": {
          "base_uri": "https://localhost:8080/",
          "height": 296
        },
        "outputId": "49f6e654-a6f7-4d6a-c061-618dafd96b94"
      },
      "source": [
        "import matplotlib.pyplot as plt\n",
        "\n",
        "plt.plot(loss_history)\n",
        "plt.xlabel('Iteration #')\n",
        "plt.ylabel('Loss')"
      ],
      "execution_count": 25,
      "outputs": [
        {
          "output_type": "execute_result",
          "data": {
            "text/plain": [
              "Text(0, 0.5, 'Loss')"
            ]
          },
          "metadata": {
            "tags": []
          },
          "execution_count": 25
        },
        {
          "output_type": "display_data",
          "data": {
            "image/png": "[encoded data removed]",
            "text/plain": [
              "<Figure size 432x288 with 1 Axes>"
            ]
          },
          "metadata": {
            "tags": [],
            "needs_background": "light"
          }
        }
      ]
    },
    {
      "cell_type": "code",
      "metadata": {
        "colab_type": "code",
        "id": "FWgbqAXawEof",
        "colab": {
          "base_uri": "https://localhost:8080/",
          "height": 119
        },
        "outputId": "7b8938a2-c0fb-462e-e311-a4a8770075cd"
      },
      "source": [
        "print(w1)\n",
        "print(w2)\n",
        "print(b2)"
      ],
      "execution_count": 26,
      "outputs": [
        {
          "output_type": "stream",
          "text": [
            "tensor([[ 6.4471, -7.1096],\n",
            "        [ 6.4457, -7.1104],\n",
            "        [-0.1984,  0.6700]], requires_grad=True)\n",
            "tensor([[ 3.7458],\n",
            "        [-5.9030]], requires_grad=True)\n",
            "tensor([[-3.0481]], requires_grad=True)\n"
          ],
          "name": "stdout"
        }
      ]
    },
    {
      "cell_type": "code",
      "metadata": {
        "colab_type": "code",
        "id": "yS4bql3foxB5",
        "colab": {
          "base_uri": "https://localhost:8080/",
          "height": 85
        },
        "outputId": "59c412a1-b199-4467-fc1d-306f5558d59d"
      },
      "source": [
        "x.mm(w1).sigmoid().mm(w2).add(b2).sigmoid()"
      ],
      "execution_count": 27,
      "outputs": [
        {
          "output_type": "execute_result",
          "data": {
            "text/plain": [
              "tensor([[0.0051],\n",
              "        [0.6640],\n",
              "        [0.6640],\n",
              "        [0.6677]], grad_fn=<SigmoidBackward>)"
            ]
          },
          "metadata": {
            "tags": []
          },
          "execution_count": 27
        }
      ]
    },
    {
      "cell_type": "markdown",
      "metadata": {
        "colab_type": "text",
        "id": "OGS23bDSazMJ"
      },
      "source": [
        "### Single-layer neural network with high-level NN modules"
      ]
    },
    {
      "cell_type": "code",
      "metadata": {
        "colab_type": "code",
        "id": "Jt9eizLFo1iN",
        "colab": {}
      },
      "source": [
        "import torch\n",
        "\n",
        "dtype = torch.float\n",
        "\n",
        "# Training data for NAND.\n",
        "x = torch.tensor([[0, 0], [0, 1], [1, 0], [1, 1]], dtype=dtype)\n",
        "y = torch.tensor([[1], [1], [1], [0]], dtype=dtype)\n",
        "                                        \n",
        "# Define a neural network using high-level modules.\n",
        "model = torch.nn.Sequential(\n",
        "    torch.nn.Linear(2, 1, bias=True),   # 2 dims (with bias) -> 1 dim\n",
        ")\n",
        "\n",
        "# Binary corss-entropy loss after sigmoid function.\n",
        "loss_fn = torch.nn.BCEWithLogitsLoss(reduction='sum')\n",
        "\n",
        "# Used for plotting loss values.\n",
        "loss_history = []\n",
        "\n",
        "eta = 0.5\n",
        "for t in range(100):\n",
        "    y_pred = model(x)                   # Make predictions.\n",
        "    loss = loss_fn(y_pred, y)           # Compute the loss.\n",
        "\n",
        "    loss_history.append(loss.item())    # Record the loss value.\n",
        "    #print(f'#{t}: loss={loss.item()}')\n",
        "    \n",
        "    model.zero_grad()                   # Zero-clear the gradients.\n",
        "    loss.backward()                     # Compute the gradients.\n",
        "        \n",
        "    with torch.no_grad():\n",
        "        for param in model.parameters():\n",
        "            param -= eta * param.grad   # Update the parameters using SGD."
      ],
      "execution_count": 28,
      "outputs": []
    },
    {
      "cell_type": "code",
      "metadata": {
        "id": "D20KVsRJ5wJK",
        "colab_type": "code",
        "colab": {
          "base_uri": "https://localhost:8080/",
          "height": 296
        },
        "outputId": "8bf6e750-790c-4891-b0bf-de46958d25d3"
      },
      "source": [
        "import matplotlib.pyplot as plt\n",
        "\n",
        "plt.plot(loss_history)\n",
        "plt.xlabel('Iteration #')\n",
        "plt.ylabel('Loss')"
      ],
      "execution_count": 29,
      "outputs": [
        {
          "output_type": "execute_result",
          "data": {
            "text/plain": [
              "Text(0, 0.5, 'Loss')"
            ]
          },
          "metadata": {
            "tags": []
          },
          "execution_count": 29
        },
        {
          "output_type": "display_data",
          "data": {
            "image/png": "[encoded data removed]",
            "text/plain": [
              "<Figure size 432x288 with 1 Axes>"
            ]
          },
          "metadata": {
            "tags": [],
            "needs_background": "light"
          }
        }
      ]
    },
    {
      "cell_type": "code",
      "metadata": {
        "colab_type": "code",
        "id": "Zq6oqLmIENFa",
        "colab": {
          "base_uri": "https://localhost:8080/",
          "height": 51
        },
        "outputId": "e0014c07-c0eb-4408-9eda-6afa883347d6"
      },
      "source": [
        "model.state_dict()"
      ],
      "execution_count": 30,
      "outputs": [
        {
          "output_type": "execute_result",
          "data": {
            "text/plain": [
              "OrderedDict([('0.weight', tensor([[-4.2823, -4.2829]])),\n",
              "             ('0.bias', tensor([6.6152]))])"
            ]
          },
          "metadata": {
            "tags": []
          },
          "execution_count": 30
        }
      ]
    },
    {
      "cell_type": "code",
      "metadata": {
        "colab_type": "code",
        "id": "QdPOdNgO840b",
        "colab": {
          "base_uri": "https://localhost:8080/",
          "height": 85
        },
        "outputId": "4d829d76-9365-4221-b383-758c34d7d9cf"
      },
      "source": [
        "model(x).sigmoid()"
      ],
      "execution_count": 31,
      "outputs": [
        {
          "output_type": "execute_result",
          "data": {
            "text/plain": [
              "tensor([[0.9987],\n",
              "        [0.9115],\n",
              "        [0.9116],\n",
              "        [0.1246]], grad_fn=<SigmoidBackward>)"
            ]
          },
          "metadata": {
            "tags": []
          },
          "execution_count": 31
        }
      ]
    },
    {
      "cell_type": "markdown",
      "metadata": {
        "colab_type": "text",
        "id": "KfuoJMeqbClA"
      },
      "source": [
        "### Multi-layer neural network with high-level NN modules"
      ]
    },
    {
      "cell_type": "code",
      "metadata": {
        "colab_type": "code",
        "id": "D6ss25zA9nPk",
        "colab": {}
      },
      "source": [
        "import torch\n",
        "\n",
        "dtype = torch.float\n",
        "\n",
        "# Training data for XOR.\n",
        "x = torch.tensor([[0, 0], [0, 1], [1, 0], [1, 1]], dtype=dtype)\n",
        "y = torch.tensor([[0], [1], [1], [0]], dtype=dtype)\n",
        "                                        \n",
        "# Define a neural network using high-level modules.\n",
        "model = torch.nn.Sequential(\n",
        "    torch.nn.Linear(2, 2, bias=True),   # 2 dims (with bias) -> 2 dims\n",
        "    torch.nn.Sigmoid(),                 # Sigmoid function\n",
        "    torch.nn.Linear(2, 1, bias=True),   # 2 dims (with bias) -> 1 dim\n",
        ")\n",
        "\n",
        "# Binary corss-entropy loss after sigmoid function.\n",
        "loss_fn = torch.nn.BCEWithLogitsLoss(reduction='sum')\n",
        "\n",
        "# Used for plotting loss values.\n",
        "loss_history = []\n",
        "\n",
        "eta = 0.5\n",
        "for t in range(1000):\n",
        "    y_pred = model(x)                   # Make predictions.\n",
        "    loss = loss_fn(y_pred, y)           # Compute the loss.\n",
        "\n",
        "    loss_history.append(loss.item())    # Record the loss value.\n",
        "    #print(f'#{t}: loss={loss.item()}')\n",
        "    \n",
        "    model.zero_grad()                   # Zero-clear the gradients.\n",
        "    loss.backward()                     # Compute the gradients.\n",
        "        \n",
        "    with torch.no_grad():\n",
        "        for param in model.parameters():\n",
        "            param -= eta * param.grad   # Update the parameters using SGD."
      ],
      "execution_count": 32,
      "outputs": []
    },
    {
      "cell_type": "code",
      "metadata": {
        "id": "-_6Hle_e6IXM",
        "colab_type": "code",
        "colab": {
          "base_uri": "https://localhost:8080/",
          "height": 296
        },
        "outputId": "7665c670-f0b6-4efe-ae84-3073fbff9049"
      },
      "source": [
        "import matplotlib.pyplot as plt\n",
        "\n",
        "plt.plot(loss_history)\n",
        "plt.xlabel('Iteration #')\n",
        "plt.ylabel('Loss')"
      ],
      "execution_count": 33,
      "outputs": [
        {
          "output_type": "execute_result",
          "data": {
            "text/plain": [
              "Text(0, 0.5, 'Loss')"
            ]
          },
          "metadata": {
            "tags": []
          },
          "execution_count": 33
        },
        {
          "output_type": "display_data",
          "data": {
            "image/png": "[encoded data removed]",
            "text/plain": [
              "<Figure size 432x288 with 1 Axes>"
            ]
          },
          "metadata": {
            "tags": [],
            "needs_background": "light"
          }
        }
      ]
    },
    {
      "cell_type": "code",
      "metadata": {
        "colab_type": "code",
        "id": "iLFGZWL0--2n",
        "colab": {
          "base_uri": "https://localhost:8080/",
          "height": 102
        },
        "outputId": "0c9b4263-730d-4e0b-e4ad-95f24bba8736"
      },
      "source": [
        "model.state_dict()"
      ],
      "execution_count": 34,
      "outputs": [
        {
          "output_type": "execute_result",
          "data": {
            "text/plain": [
              "OrderedDict([('0.weight', tensor([[-7.0445, -7.0414],\n",
              "                      [-5.2947, -5.2943]])),\n",
              "             ('0.bias', tensor([2.9545, 7.8833])),\n",
              "             ('2.weight', tensor([[-11.7347,  11.3323]])),\n",
              "             ('2.bias', tensor([-5.3104]))])"
            ]
          },
          "metadata": {
            "tags": []
          },
          "execution_count": 34
        }
      ]
    },
    {
      "cell_type": "code",
      "metadata": {
        "colab_type": "code",
        "id": "1BF6-W_J-82M",
        "colab": {
          "base_uri": "https://localhost:8080/",
          "height": 85
        },
        "outputId": "c1052b21-3e0a-4922-aa90-9bdb4134b5e3"
      },
      "source": [
        "model(x).sigmoid()"
      ],
      "execution_count": 35,
      "outputs": [
        {
          "output_type": "execute_result",
          "data": {
            "text/plain": [
              "tensor([[0.0058],\n",
              "        [0.9935],\n",
              "        [0.9935],\n",
              "        [0.0099]], grad_fn=<SigmoidBackward>)"
            ]
          },
          "metadata": {
            "tags": []
          },
          "execution_count": 35
        }
      ]
    },
    {
      "cell_type": "markdown",
      "metadata": {
        "colab_type": "text",
        "id": "gGK3DJBubb0f"
      },
      "source": [
        "### Single-layer neural network with an optimizer."
      ]
    },
    {
      "cell_type": "code",
      "metadata": {
        "colab_type": "code",
        "id": "puqbP4F9bidv",
        "colab": {}
      },
      "source": [
        "import torch\n",
        "\n",
        "dtype = torch.float\n",
        "\n",
        "# Training data for NAND.\n",
        "x = torch.tensor([[0, 0], [0, 1], [1, 0], [1, 1]], dtype=dtype)\n",
        "y = torch.tensor([[1], [1], [1], [0]], dtype=dtype)\n",
        "                                        \n",
        "# Define a neural network using high-level modules.\n",
        "model = torch.nn.Sequential(\n",
        "    torch.nn.Linear(2, 1, bias=True),   # 2 dims (with bias) -> 1 dim\n",
        ")\n",
        "\n",
        "# Binary corss-entropy loss after sigmoid function.\n",
        "loss_fn = torch.nn.BCEWithLogitsLoss(reduction='sum')\n",
        "\n",
        "# Optimizer based on SGD (change \"SGD\" to \"Adam\" to use Adam)\n",
        "optimizer = torch.optim.SGD(model.parameters(), lr=0.5)\n",
        "\n",
        "# Used for plotting loss values.\n",
        "loss_history = []\n",
        "\n",
        "for t in range(100):\n",
        "    y_pred = model(x)           # Make predictions.\n",
        "    loss = loss_fn(y_pred, y)   # Compute the loss.\n",
        "\n",
        "    loss_history.append(loss.item())    # Record the loss value.\n",
        "    #print(f'#{t}: loss={loss.item()}')\n",
        "    \n",
        "    optimizer.zero_grad()       # Zero-clear gradients.\n",
        "    loss.backward()             # Compute the gradients.\n",
        "    optimizer.step()            # Update the parameters using the gradients."
      ],
      "execution_count": 36,
      "outputs": []
    },
    {
      "cell_type": "code",
      "metadata": {
        "id": "I2Dg32ag6UwT",
        "colab_type": "code",
        "colab": {
          "base_uri": "https://localhost:8080/",
          "height": 296
        },
        "outputId": "34081030-c77f-4bd5-e341-31061497cfcd"
      },
      "source": [
        "import matplotlib.pyplot as plt\n",
        "\n",
        "plt.plot(loss_history)\n",
        "plt.xlabel('Iteration #')\n",
        "plt.ylabel('Loss')"
      ],
      "execution_count": 37,
      "outputs": [
        {
          "output_type": "execute_result",
          "data": {
            "text/plain": [
              "Text(0, 0.5, 'Loss')"
            ]
          },
          "metadata": {
            "tags": []
          },
          "execution_count": 37
        },
        {
          "output_type": "display_data",
          "data": {
            "image/png": "[encoded data removed]",
            "text/plain": [
              "<Figure size 432x288 with 1 Axes>"
            ]
          },
          "metadata": {
            "tags": [],
            "needs_background": "light"
          }
        }
      ]
    },
    {
      "cell_type": "code",
      "metadata": {
        "colab_type": "code",
        "id": "RBUX1BUhcDK4",
        "colab": {
          "base_uri": "https://localhost:8080/",
          "height": 51
        },
        "outputId": "0369ebe7-f8ba-4495-97ed-30acae77cca1"
      },
      "source": [
        "model.state_dict()"
      ],
      "execution_count": 38,
      "outputs": [
        {
          "output_type": "execute_result",
          "data": {
            "text/plain": [
              "OrderedDict([('0.weight', tensor([[-4.2458, -4.2461]])),\n",
              "             ('0.bias', tensor([6.5608]))])"
            ]
          },
          "metadata": {
            "tags": []
          },
          "execution_count": 38
        }
      ]
    },
    {
      "cell_type": "code",
      "metadata": {
        "colab_type": "code",
        "id": "nJWcDaPpcKCB",
        "colab": {
          "base_uri": "https://localhost:8080/",
          "height": 85
        },
        "outputId": "a963a60c-ad6a-42f2-bf25-948d1f04b07a"
      },
      "source": [
        "model(x).sigmoid()"
      ],
      "execution_count": 39,
      "outputs": [
        {
          "output_type": "execute_result",
          "data": {
            "text/plain": [
              "tensor([[0.9986],\n",
              "        [0.9101],\n",
              "        [0.9101],\n",
              "        [0.1266]], grad_fn=<SigmoidBackward>)"
            ]
          },
          "metadata": {
            "tags": []
          },
          "execution_count": 39
        }
      ]
    },
    {
      "cell_type": "markdown",
      "metadata": {
        "colab_type": "text",
        "id": "scIE8zZWdhLs"
      },
      "source": [
        "### Multi-layer neural networks using an optimizer"
      ]
    },
    {
      "cell_type": "code",
      "metadata": {
        "colab_type": "code",
        "id": "J1BrWIxkcMfI",
        "colab": {}
      },
      "source": [
        "import torch\n",
        "\n",
        "dtype = torch.float\n",
        "\n",
        "# Training data for XOR.\n",
        "x = torch.tensor([[0, 0], [0, 1], [1, 0], [1, 1]], dtype=dtype)\n",
        "y = torch.tensor([[0], [1], [1], [0]], dtype=dtype)\n",
        "                                        \n",
        "# Define a neural network using high-level modules.\n",
        "model = torch.nn.Sequential(\n",
        "    torch.nn.Linear(2, 2, bias=True),   # 2 dims (with bias) -> 2 dims\n",
        "    torch.nn.Sigmoid(),                 # Sigmoid function\n",
        "    torch.nn.Linear(2, 1, bias=True),   # 2 dims (with bias) -> 1 dim\n",
        ")\n",
        "\n",
        "# Binary corss-entropy loss after sigmoid function.\n",
        "loss_fn = torch.nn.BCEWithLogitsLoss(reduction='sum')\n",
        "\n",
        "# Optimizer based on SGD (change \"SGD\" to \"Adam\" to use Adam)\n",
        "optimizer = torch.optim.SGD(model.parameters(), lr=0.5)\n",
        "\n",
        "# Used for plotting loss values.\n",
        "loss_history = []\n",
        "\n",
        "for t in range(1000):\n",
        "    y_pred = model(x)           # Make predictions.\n",
        "    loss = loss_fn(y_pred, y)   # Compute the loss.\n",
        "\n",
        "    loss_history.append(loss.item())    # Record the loss value.\n",
        "    #print(f'#{t}: loss={loss.item()}')\n",
        "    \n",
        "    optimizer.zero_grad()       # Zero-clear gradients.\n",
        "    loss.backward()             # Compute the gradients.\n",
        "    optimizer.step()            # Update the parameters using the gradients."
      ],
      "execution_count": 40,
      "outputs": []
    },
    {
      "cell_type": "code",
      "metadata": {
        "id": "rgxApAuf6lI5",
        "colab_type": "code",
        "colab": {
          "base_uri": "https://localhost:8080/",
          "height": 296
        },
        "outputId": "f33fe80d-678a-4a20-9e86-c0935ba0de8f"
      },
      "source": [
        "import matplotlib.pyplot as plt\n",
        "\n",
        "plt.plot(loss_history)\n",
        "plt.xlabel('Iteration #')\n",
        "plt.ylabel('Loss')"
      ],
      "execution_count": 41,
      "outputs": [
        {
          "output_type": "execute_result",
          "data": {
            "text/plain": [
              "Text(0, 0.5, 'Loss')"
            ]
          },
          "metadata": {
            "tags": []
          },
          "execution_count": 41
        },
        {
          "output_type": "display_data",
          "data": {
            "image/png": "[encoded data removed]",
            "text/plain": [
              "<Figure size 432x288 with 1 Axes>"
            ]
          },
          "metadata": {
            "tags": [],
            "needs_background": "light"
          }
        }
      ]
    },
    {
      "cell_type": "code",
      "metadata": {
        "colab_type": "code",
        "id": "mp0sNnxhducs",
        "colab": {
          "base_uri": "https://localhost:8080/",
          "height": 102
        },
        "outputId": "cb3b554c-9433-4171-8f28-02d8b69fe42f"
      },
      "source": [
        "model.state_dict()"
      ],
      "execution_count": 42,
      "outputs": [
        {
          "output_type": "execute_result",
          "data": {
            "text/plain": [
              "OrderedDict([('0.weight', tensor([[-6.8874, -6.9224],\n",
              "                      [-5.3493, -5.3549]])),\n",
              "             ('0.bias', tensor([2.8948, 7.9748])),\n",
              "             ('2.weight', tensor([[-11.8769,  11.4409]])),\n",
              "             ('2.bias', tensor([-5.3638]))])"
            ]
          },
          "metadata": {
            "tags": []
          },
          "execution_count": 42
        }
      ]
    },
    {
      "cell_type": "code",
      "metadata": {
        "colab_type": "code",
        "id": "AYgEteqydwt2",
        "colab": {
          "base_uri": "https://localhost:8080/",
          "height": 85
        },
        "outputId": "26a6dfd8-f584-43dd-dce3-5fc1edfcc081"
      },
      "source": [
        "model(x).sigmoid()"
      ],
      "execution_count": 43,
      "outputs": [
        {
          "output_type": "execute_result",
          "data": {
            "text/plain": [
              "tensor([[0.0056],\n",
              "        [0.9939],\n",
              "        [0.9939],\n",
              "        [0.0093]], grad_fn=<SigmoidBackward>)"
            ]
          },
          "metadata": {
            "tags": []
          },
          "execution_count": 43
        }
      ]
    },
    {
      "cell_type": "markdown",
      "metadata": {
        "colab_type": "text",
        "id": "7x7Ed3SBGjPx"
      },
      "source": [
        "### Single-layer neural network with a customizable NN class."
      ]
    },
    {
      "cell_type": "code",
      "metadata": {
        "colab_type": "code",
        "id": "klKcvlpVkpk9",
        "colab": {}
      },
      "source": [
        "import torch\n",
        "\n",
        "dtype = torch.float\n",
        "\n",
        "# Training data for NAND.\n",
        "x = torch.tensor([[0, 0], [0, 1], [1, 0], [1, 1]], dtype=dtype)\n",
        "y = torch.tensor([[1], [1], [1], [0]], dtype=dtype)\n",
        "                                        \n",
        "# Define a neural network model.\n",
        "class SingleLayerNN(torch.nn.Module):\n",
        "    def __init__(self, d_in, d_out):\n",
        "        super(SingleLayerNN, self).__init__()\n",
        "        self.linear1 = torch.nn.Linear(d_in, d_out, bias=True)\n",
        "\n",
        "    def forward(self, x):\n",
        "        return self.linear1(x)\n",
        "\n",
        "model = SingleLayerNN(2, 1)\n",
        "\n",
        "# Binary corss-entropy loss after sigmoid function.\n",
        "loss_fn = torch.nn.BCEWithLogitsLoss(reduction='sum')\n",
        "\n",
        "# Optimizer based on SGD (change \"SGD\" to \"Adam\" to use Adam)\n",
        "optimizer = torch.optim.SGD(model.parameters(), lr=0.5)\n",
        "\n",
        "# Used for plotting loss values.\n",
        "loss_history = []\n",
        "\n",
        "for t in range(100):\n",
        "    y_pred = model(x)           # Make predictions.\n",
        "    loss = loss_fn(y_pred, y)   # Compute the loss.\n",
        "\n",
        "    loss_history.append(loss.item())    # Record the loss value.\n",
        "    #print(f'#{t}: loss={loss.item()}')\n",
        "    \n",
        "    optimizer.zero_grad()       # Zero-clear gradients.\n",
        "    loss.backward()             # Compute the gradients.\n",
        "    optimizer.step()            # Update the parameters using the gradients."
      ],
      "execution_count": 44,
      "outputs": []
    },
    {
      "cell_type": "code",
      "metadata": {
        "id": "BMZS4VzN6v-S",
        "colab_type": "code",
        "colab": {
          "base_uri": "https://localhost:8080/",
          "height": 296
        },
        "outputId": "f00292f5-3f26-486e-d4ba-2daf41b26f7a"
      },
      "source": [
        "import matplotlib.pyplot as plt\n",
        "\n",
        "plt.plot(loss_history)\n",
        "plt.xlabel('Iteration #')\n",
        "plt.ylabel('Loss')"
      ],
      "execution_count": 45,
      "outputs": [
        {
          "output_type": "execute_result",
          "data": {
            "text/plain": [
              "Text(0, 0.5, 'Loss')"
            ]
          },
          "metadata": {
            "tags": []
          },
          "execution_count": 45
        },
        {
          "output_type": "display_data",
          "data": {
            "image/png": "[encoded data removed]",
            "text/plain": [
              "<Figure size 432x288 with 1 Axes>"
            ]
          },
          "metadata": {
            "tags": [],
            "needs_background": "light"
          }
        }
      ]
    },
    {
      "cell_type": "code",
      "metadata": {
        "colab_type": "code",
        "id": "ExxVfDnB5vPW",
        "colab": {
          "base_uri": "https://localhost:8080/",
          "height": 51
        },
        "outputId": "0fd4fbd1-19b6-4c08-b342-d823545c7714"
      },
      "source": [
        "model.state_dict()"
      ],
      "execution_count": 46,
      "outputs": [
        {
          "output_type": "execute_result",
          "data": {
            "text/plain": [
              "OrderedDict([('linear1.weight', tensor([[-4.2889, -4.2883]])),\n",
              "             ('linear1.bias', tensor([6.6241]))])"
            ]
          },
          "metadata": {
            "tags": []
          },
          "execution_count": 46
        }
      ]
    },
    {
      "cell_type": "code",
      "metadata": {
        "colab_type": "code",
        "id": "xKczD7tZ518W",
        "colab": {
          "base_uri": "https://localhost:8080/",
          "height": 85
        },
        "outputId": "fd6c81dd-c0a2-40a4-92ca-92e6f7752a80"
      },
      "source": [
        "model(x).sigmoid()"
      ],
      "execution_count": 47,
      "outputs": [
        {
          "output_type": "execute_result",
          "data": {
            "text/plain": [
              "tensor([[0.9987],\n",
              "        [0.9118],\n",
              "        [0.9118],\n",
              "        [0.1242]], grad_fn=<SigmoidBackward>)"
            ]
          },
          "metadata": {
            "tags": []
          },
          "execution_count": 47
        }
      ]
    },
    {
      "cell_type": "markdown",
      "metadata": {
        "colab_type": "text",
        "id": "jzTPZXUxGNso"
      },
      "source": [
        "### Multi-layer neural network with a customizable NN class.\n",
        "\n"
      ]
    },
    {
      "cell_type": "code",
      "metadata": {
        "colab_type": "code",
        "id": "gSpf1qft53-O",
        "colab": {}
      },
      "source": [
        "import torch\n",
        "\n",
        "dtype = torch.float\n",
        "\n",
        "# Training data for XOR.\n",
        "x = torch.tensor([[0, 0], [0, 1], [1, 0], [1, 1]], dtype=dtype)\n",
        "y = torch.tensor([[0], [1], [1], [0]], dtype=dtype)\n",
        "                                        \n",
        "# Define a neural network model.\n",
        "class ThreeLayerNN(torch.nn.Module):\n",
        "    def __init__(self, d_in, d_hidden, d_out):\n",
        "        super(ThreeLayerNN, self).__init__()\n",
        "        self.linear1 = torch.nn.Linear(d_in, d_hidden, bias=True)\n",
        "        self.linear2 = torch.nn.Linear(d_hidden, d_out, bias=True)\n",
        "\n",
        "    def forward(self, x):\n",
        "        return self.linear2(self.linear1(x).sigmoid())\n",
        "\n",
        "model = ThreeLayerNN(2, 2, 1)\n",
        "\n",
        "# Binary corss-entropy loss after sigmoid function.\n",
        "loss_fn = torch.nn.BCEWithLogitsLoss(reduction='sum')\n",
        "\n",
        "# Optimizer based on SGD (change \"SGD\" to \"Adam\" to use Adam)\n",
        "optimizer = torch.optim.SGD(model.parameters(), lr=0.5)\n",
        "\n",
        "# Used for plotting loss values.\n",
        "loss_history = []\n",
        "\n",
        "for t in range(1000):\n",
        "    y_pred = model(x)           # Make predictions.\n",
        "    loss = loss_fn(y_pred, y)   # Compute the loss.\n",
        "\n",
        "    loss_history.append(loss.item())    # Record the loss value.\n",
        "    #print(f'#{t}: loss={loss.item()}')\n",
        "    \n",
        "    optimizer.zero_grad()       # Zero-clear gradients.\n",
        "    loss.backward()             # Compute the gradients.\n",
        "    optimizer.step()            # Update the parameters using the gradients."
      ],
      "execution_count": 48,
      "outputs": []
    },
    {
      "cell_type": "code",
      "metadata": {
        "id": "TicWHj-L7BdZ",
        "colab_type": "code",
        "colab": {
          "base_uri": "https://localhost:8080/",
          "height": 296
        },
        "outputId": "0b556f81-2969-466d-dce2-4da454e9d602"
      },
      "source": [
        "import matplotlib.pyplot as plt\n",
        "\n",
        "plt.plot(loss_history)\n",
        "plt.xlabel('Iteration #')\n",
        "plt.ylabel('Loss')"
      ],
      "execution_count": 49,
      "outputs": [
        {
          "output_type": "execute_result",
          "data": {
            "text/plain": [
              "Text(0, 0.5, 'Loss')"
            ]
          },
          "metadata": {
            "tags": []
          },
          "execution_count": 49
        },
        {
          "output_type": "display_data",
          "data": {
            "image/png": "[encoded data removed]",
            "text/plain": [
              "<Figure size 432x288 with 1 Axes>"
            ]
          },
          "metadata": {
            "tags": [],
            "needs_background": "light"
          }
        }
      ]
    },
    {
      "cell_type": "code",
      "metadata": {
        "colab_type": "code",
        "id": "k6LLbCf0684G",
        "colab": {
          "base_uri": "https://localhost:8080/",
          "height": 102
        },
        "outputId": "dc8b9f34-78e1-437c-c02b-81c4f150152c"
      },
      "source": [
        "model.state_dict()"
      ],
      "execution_count": 50,
      "outputs": [
        {
          "output_type": "execute_result",
          "data": {
            "text/plain": [
              "OrderedDict([('linear1.weight', tensor([[-6.3625,  6.0699],\n",
              "                      [-6.8633,  7.0111]])),\n",
              "             ('linear1.bias', tensor([-3.2219,  3.4709])),\n",
              "             ('linear2.weight', tensor([[ 11.4945, -10.8565]])),\n",
              "             ('linear2.bias', tensor([5.0730]))])"
            ]
          },
          "metadata": {
            "tags": []
          },
          "execution_count": 50
        }
      ]
    },
    {
      "cell_type": "code",
      "metadata": {
        "colab_type": "code",
        "id": "iPhm3J4R61S2",
        "colab": {
          "base_uri": "https://localhost:8080/",
          "height": 85
        },
        "outputId": "5c5945d5-6b2e-4af7-c008-eb5c4d57aa49"
      },
      "source": [
        "model(x).sigmoid()"
      ],
      "execution_count": 51,
      "outputs": [
        {
          "output_type": "execute_result",
          "data": {
            "text/plain": [
              "tensor([[0.0066],\n",
              "        [0.9938],\n",
              "        [0.9912],\n",
              "        [0.0057]], grad_fn=<SigmoidBackward>)"
            ]
          },
          "metadata": {
            "tags": []
          },
          "execution_count": 51
        }
      ]
    }
  ]
}